{
 "cells": [
  {
   "cell_type": "markdown",
   "id": "e770d27a",
   "metadata": {},
   "source": [
    "### Hello World Graph"
   ]
  },
  {
   "cell_type": "code",
   "execution_count": 22,
   "id": "776aeaf2",
   "metadata": {},
   "outputs": [],
   "source": [
    "from typing import Dict, TypedDict\n",
    "from langgraph.graph import StateGraph,START,END"
   ]
  },
  {
   "cell_type": "code",
   "execution_count": 14,
   "id": "22adb268",
   "metadata": {},
   "outputs": [],
   "source": [
    "class AgentState(TypedDict):\n",
    "    name:str    "
   ]
  },
  {
   "cell_type": "code",
   "execution_count": null,
   "id": "c32653f0",
   "metadata": {},
   "outputs": [],
   "source": [
    "def compliment_node(state:AgentState) -> AgentState:\n",
    "    \"\"\"Simple node that compliments the user\"\"\"\n",
    "    state['name'] = state['name'] + \" you're doing an amazing job learning LangGraph!\"\n",
    "    return state"
   ]
  },
  {
   "cell_type": "code",
   "execution_count": 20,
   "id": "8f3f037f",
   "metadata": {},
   "outputs": [],
   "source": [
    "graph = StateGraph(AgentState)\n",
    "\n",
    "graph.add_node(\"compliment\", compliment_node)\n",
    "\n",
    "graph.set_entry_point(\"compliment\")\n",
    "graph.set_finish_point(\"compliment\")\n",
    "\n",
    "app = graph.compile()"
   ]
  },
  {
   "cell_type": "code",
   "execution_count": 17,
   "id": "b78b4e45",
   "metadata": {},
   "outputs": [
    {
     "data": {
      "image/png": "[encoded data removed]",
      "text/plain": [
       "<IPython.core.display.Image object>"
      ]
     },
     "metadata": {},
     "output_type": "display_data"
    }
   ],
   "source": [
    "from IPython.display import Image, display \n",
    "\n",
    "display(Image(app.get_graph().draw_mermaid_png()))"
   ]
  },
  {
   "cell_type": "code",
   "execution_count": 21,
   "id": "16f6a4cd",
   "metadata": {},
   "outputs": [
    {
     "data": {
      "text/plain": [
       "{'name': \"Pasindu you're doing an amazing job learning LangGraph!\"}"
      ]
     },
     "execution_count": 21,
     "metadata": {},
     "output_type": "execute_result"
    }
   ],
   "source": [
    "app.invoke({\"name\":\"Pasindu\"})"
   ]
  },
  {
   "cell_type": "code",
   "execution_count": 24,
   "id": "2f294ccb",
   "metadata": {},
   "outputs": [
    {
     "data": {
      "image/png": "[encoded data removed]",
      "text/plain": [
       "<IPython.core.display.Image object>"
      ]
     },
     "metadata": {},
     "output_type": "display_data"
    }
   ],
   "source": [
    "graph = StateGraph(AgentState)\n",
    "\n",
    "graph.add_node(\"compliment\", compliment_node)\n",
    "\n",
    "graph.add_edge(START,\"compliment\")\n",
    "graph.add_edge(\"compliment\",END)\n",
    "\n",
    "app = graph.compile()\n",
    "\n",
    "from IPython.display import Image, display \n",
    "\n",
    "display(Image(app.get_graph().draw_mermaid_png()))"
   ]
  },
  {
   "cell_type": "code",
   "execution_count": 25,
   "id": "4fc92a42",
   "metadata": {},
   "outputs": [
    {
     "data": {
      "text/plain": [
       "{'name': \"Jhon you're doing an amazing job learning LangGraph!\"}"
      ]
     },
     "execution_count": 25,
     "metadata": {},
     "output_type": "execute_result"
    }
   ],
   "source": [
    "app.invoke({\"name\":\"Jhon\"})"
   ]
  },
  {
   "cell_type": "markdown",
   "id": "c5e77d5a",
   "metadata": {},
   "source": [
    "### Multiple Inputs Graph"
   ]
  },
  {
   "cell_type": "code",
   "execution_count": 1,
   "id": "7dd0f44b",
   "metadata": {},
   "outputs": [],
   "source": [
    "from typing import TypedDict, List\n",
    "from langgraph.graph import StateGraph, START, END"
   ]
  },
  {
   "cell_type": "code",
   "execution_count": 2,
   "id": "f77ec57e",
   "metadata": {},
   "outputs": [],
   "source": [
    "class AgentState(TypedDict):\n",
    "    values:List[int]\n",
    "    name:str\n",
    "    result:str"
   ]
  },
  {
   "cell_type": "code",
   "execution_count": 8,
   "id": "f97b9eee",
   "metadata": {},
   "outputs": [],
   "source": [
    "def process_values(state:AgentState) -> AgentState:\n",
    "    \"\"\"This function handles multiple different inputs\"\"\"\n",
    "    print(state)\n",
    "    state['result'] = f\"Hi there {state['name']}, Your sum = {sum(state['values'])}\"\n",
    "    print(state)\n",
    "    return state"
   ]
  },
  {
   "cell_type": "code",
   "execution_count": 9,
   "id": "03617b27",
   "metadata": {},
   "outputs": [],
   "source": [
    "graph = StateGraph(AgentState)\n",
    "\n",
    "graph.add_node(\"processor\", process_values)\n",
    "\n",
    "graph.set_entry_point(\"processor\")\n",
    "graph.set_finish_point(\"processor\")\n",
    "\n",
    "app = graph.compile()"
   ]
  },
  {
   "cell_type": "code",
   "execution_count": 10,
   "id": "a080d8a6",
   "metadata": {},
   "outputs": [
    {
     "data": {
      "image/png": "[encoded data removed]",
      "text/plain": [
       "<IPython.core.display.Image object>"
      ]
     },
     "metadata": {},
     "output_type": "display_data"
    }
   ],
   "source": [
    "from IPython.display import Image, display \n",
    "\n",
    "display(Image(app.get_graph().draw_mermaid_png()))"
   ]
  },
  {
   "cell_type": "code",
   "execution_count": 11,
   "id": "fdc6e561",
   "metadata": {},
   "outputs": [
    {
     "name": "stdout",
     "output_type": "stream",
     "text": [
      "{'values': [12, 15, 17], 'name': 'pasindu'}\n",
      "{'values': [12, 15, 17], 'name': 'pasindu', 'result': 'Hi there pasindu, Your sum = 44'}\n"
     ]
    }
   ],
   "source": [
    "answer = app.invoke({\"name\":\"pasindu\",\"values\":[12,15,17]})"
   ]
  },
  {
   "cell_type": "code",
   "execution_count": 12,
   "id": "af3c3fe3",
   "metadata": {},
   "outputs": [
    {
     "data": {
      "text/plain": [
       "{'values': [12, 15, 17],\n",
       " 'name': 'pasindu',\n",
       " 'result': 'Hi there pasindu, Your sum = 44'}"
      ]
     },
     "execution_count": 12,
     "metadata": {},
     "output_type": "execute_result"
    }
   ],
   "source": [
    "answer"
   ]
  },
  {
   "cell_type": "code",
   "execution_count": 15,
   "id": "5cf7a76e",
   "metadata": {},
   "outputs": [],
   "source": [
    "from typing import TypedDict, List\n",
    "from langgraph.graph import StateGraph, START, END\n",
    "import math"
   ]
  },
  {
   "cell_type": "code",
   "execution_count": 13,
   "id": "388ffaa0",
   "metadata": {},
   "outputs": [],
   "source": [
    "class AgentState(TypedDict):\n",
    "    values:List[int]\n",
    "    name:str\n",
    "    operation:str\n",
    "    result:str"
   ]
  },
  {
   "cell_type": "code",
   "execution_count": 16,
   "id": "8ca28990",
   "metadata": {},
   "outputs": [],
   "source": [
    "def process_operation(state:AgentState) -> AgentState:\n",
    "    \"\"\"This function handles multiple different inputs\"\"\"\n",
    "    if state['operation'] == \"+\":\n",
    "        state['result'] = f\"Hi {state['name']} your answer is {sum(state['values'])}\"\n",
    "    elif state['operation'] == \"*\":\n",
    "        state['result'] = f\"Hi {state['name']} your answer is {math.prod(state['values'])}\"\n",
    "    else:\n",
    "        state['result'] = \"Invalid\"\n",
    "    return state"
   ]
  },
  {
   "cell_type": "code",
   "execution_count": 17,
   "id": "82bf7d11",
   "metadata": {},
   "outputs": [
    {
     "data": {
      "image/png": "[encoded data removed]",
      "text/plain": [
       "<IPython.core.display.Image object>"
      ]
     },
     "metadata": {},
     "output_type": "display_data"
    }
   ],
   "source": [
    "graph = StateGraph(AgentState)\n",
    "\n",
    "graph.add_node('operation', process_operation)\n",
    "\n",
    "graph.add_edge(START, \"operation\")\n",
    "graph.add_edge('operation', END)\n",
    "\n",
    "app = graph.compile()\n",
    "\n",
    "from IPython.display import Image, display\n",
    "display(Image(app.get_graph().draw_mermaid_png()))"
   ]
  },
  {
   "cell_type": "code",
   "execution_count": 18,
   "id": "8b45c592",
   "metadata": {},
   "outputs": [
    {
     "data": {
      "text/plain": [
       "{'values': [1, 2, 3, 4],\n",
       " 'name': 'Jhon',\n",
       " 'operation': '*',\n",
       " 'result': 'Hi Jhon your answer is 24'}"
      ]
     },
     "execution_count": 18,
     "metadata": {},
     "output_type": "execute_result"
    }
   ],
   "source": [
    "answer = app.invoke({\"name\":\"Jhon\", \"values\":[1,2,3,4], 'operation':\"*\"})\n",
    "answer"
   ]
  },
  {
   "cell_type": "code",
   "execution_count": 19,
   "id": "ea2b20b7",
   "metadata": {},
   "outputs": [
    {
     "data": {
      "text/plain": [
       "{'values': [1, 2, 3, 4],\n",
       " 'name': 'Jhon',\n",
       " 'operation': '+',\n",
       " 'result': 'Hi Jhon your answer is 10'}"
      ]
     },
     "execution_count": 19,
     "metadata": {},
     "output_type": "execute_result"
    }
   ],
   "source": [
    "answer = app.invoke({\"name\":\"Jhon\", \"values\":[1,2,3,4], 'operation':\"+\"})\n",
    "answer"
   ]
  },
  {
   "cell_type": "markdown",
   "id": "b7fdad36",
   "metadata": {},
   "source": [
    "### Sequential Node Graph"
   ]
  },
  {
   "cell_type": "code",
   "execution_count": 20,
   "id": "0a163142",
   "metadata": {},
   "outputs": [],
   "source": [
    "from typing import TypedDict, List\n",
    "from langgraph.graph import StateGraph, START, END"
   ]
  },
  {
   "cell_type": "code",
   "execution_count": 24,
   "id": "eeff7daf",
   "metadata": {},
   "outputs": [],
   "source": [
    "class AgentState(TypedDict):\n",
    "    name: str\n",
    "    age: int\n",
    "    final: str"
   ]
  },
  {
   "cell_type": "code",
   "execution_count": 30,
   "id": "b54184f9",
   "metadata": {},
   "outputs": [],
   "source": [
    "def first_node(state:AgentState) -> AgentState:\n",
    "    \"\"\"This is first node of the sequence\"\"\"\n",
    "    state['final'] = f\"Hi, {state['name']}, \"\n",
    "    return state\n",
    "\n",
    "def second_node(state:AgentState) -> AgentState:\n",
    "    \"\"\"This is second node of the sequence\"\"\"\n",
    "    state['final'] = state['final'] + f\"you are {state['age']} years old.\"\n",
    "    return state"
   ]
  },
  {
   "cell_type": "code",
   "execution_count": 31,
   "id": "dee9f567",
   "metadata": {},
   "outputs": [],
   "source": [
    "graph = StateGraph(AgentState)\n",
    "\n",
    "graph.add_node('first_node', first_node)\n",
    "graph.add_node('second_node', second_node)\n",
    "\n",
    "graph.set_entry_point('first_node')\n",
    "graph.add_edge('first_node','second_node')\n",
    "graph.set_finish_point('second_node')\n",
    "\n",
    "app = graph.compile()"
   ]
  },
  {
   "cell_type": "code",
   "execution_count": 32,
   "id": "3f03acc6",
   "metadata": {},
   "outputs": [
    {
     "data": {
      "image/png": "[encoded data removed]",
      "text/plain": [
       "<IPython.core.display.Image object>"
      ]
     },
     "metadata": {},
     "output_type": "display_data"
    }
   ],
   "source": [
    "from IPython.display import Image, display\n",
    "\n",
    "display(Image(app.get_graph().draw_mermaid_png()))"
   ]
  },
  {
   "cell_type": "code",
   "execution_count": 33,
   "id": "4759265d",
   "metadata": {},
   "outputs": [],
   "source": [
    "answer = app.invoke({\"name\":\"Jhon\",\"age\":20})"
   ]
  },
  {
   "cell_type": "code",
   "execution_count": 34,
   "id": "aeb17bc4",
   "metadata": {},
   "outputs": [
    {
     "data": {
      "text/plain": [
       "{'name': 'Jhon', 'age': 20, 'final': 'Hi, Jhon, you are 20 years old.'}"
      ]
     },
     "execution_count": 34,
     "metadata": {},
     "output_type": "execute_result"
    }
   ],
   "source": [
    "answer"
   ]
  },
  {
   "cell_type": "markdown",
   "id": "ffb807ed",
   "metadata": {},
   "source": [
    "### Conditional Graph"
   ]
  },
  {
   "cell_type": "code",
   "execution_count": 35,
   "id": "2402a2a8",
   "metadata": {},
   "outputs": [],
   "source": [
    "from typing import TypedDict, List\n",
    "from langgraph.graph import StateGraph, START, END"
   ]
  },
  {
   "cell_type": "code",
   "execution_count": 36,
   "id": "56df83d8",
   "metadata": {},
   "outputs": [],
   "source": [
    "class AgentState(TypedDict):\n",
    "    number1:int\n",
    "    operation:str\n",
    "    number2:int\n",
    "    finalNumber:int"
   ]
  },
  {
   "cell_type": "code",
   "execution_count": null,
   "id": "b7308821",
   "metadata": {},
   "outputs": [],
   "source": [
    "def adder(state:AgentState) -> AgentState:\n",
    "    \"\"\"this node add 2 number\"\"\"\n",
    "    state['finalNumber'] = state['number1'] + state['number2']\n",
    "    return state\n",
    "\n",
    "def subtractor(state:AgentState) -> AgentState:\n",
    "    \"\"\"this node subtract 2 number\"\"\"\n",
    "    state['finalNumber'] = state['number1'] - state['number2']\n",
    "    return state\n",
    "\n",
    "def decide_next_node(state: AgentState) -> AgentState:\n",
    "    \"\"\"This node will select the next node of the graph\"\"\"\n",
    "    if state['operation'] == \"+\":\n",
    "        return \"addition_operation\"\n",
    "    \n",
    "    elif state['operation'] == \"-\":\n",
    "        return \"subtraction_operation\""
   ]
  },
  {
   "cell_type": "code",
   "execution_count": 41,
   "id": "ea353334",
   "metadata": {},
   "outputs": [],
   "source": [
    "graph = StateGraph(AgentState)\n",
    "\n",
    "graph.add_node(\"add_node\", adder)\n",
    "graph.add_node(\"subtract_node\", subtractor)\n",
    "graph.add_node(\"router\", lambda state:state) #passthrough function\n",
    "\n",
    "graph.add_edge(START, 'router')\n",
    "graph.add_conditional_edges(\n",
    "    'router',\n",
    "    decide_next_node,\n",
    "    {\n",
    "        #Edge:Node\n",
    "        \"addition_operation\":\"add_node\",\n",
    "        \"subtraction_operation\":\"subtract_node\"\n",
    "    }\n",
    ")\n",
    "\n",
    "graph.add_edge(\"add_node\",END)\n",
    "graph.add_edge('subtract_node', END)\n",
    "\n",
    "app = graph.compile()"
   ]
  },
  {
   "cell_type": "code",
   "execution_count": 42,
   "id": "82f5c101",
   "metadata": {},
   "outputs": [
    {
     "data": {
      "image/png": "[encoded data removed]",
      "text/plain": [
       "<IPython.core.display.Image object>"
      ]
     },
     "metadata": {},
     "output_type": "display_data"
    }
   ],
   "source": [
    "from IPython.display import Image, display\n",
    "\n",
    "display(Image(app.get_graph().draw_mermaid_png()))"
   ]
  },
  {
   "cell_type": "code",
   "execution_count": 43,
   "id": "0b24c167",
   "metadata": {},
   "outputs": [
    {
     "data": {
      "text/plain": [
       "{'number1': 10, 'number2': 5, 'operation': '+'}"
      ]
     },
     "execution_count": 43,
     "metadata": {},
     "output_type": "execute_result"
    }
   ],
   "source": [
    "initial_state = AgentState(number1=10,number2=5,operation=\"+\")\n",
    "initial_state"
   ]
  },
  {
   "cell_type": "code",
   "execution_count": 44,
   "id": "40521fe1",
   "metadata": {},
   "outputs": [
    {
     "name": "stdout",
     "output_type": "stream",
     "text": [
      "{'number1': 10, 'operation': '+', 'number2': 5, 'finalNumber': 15}\n"
     ]
    }
   ],
   "source": [
    "print(app.invoke(initial_state))"
   ]
  },
  {
   "cell_type": "code",
   "execution_count": 45,
   "id": "7d59732a",
   "metadata": {},
   "outputs": [
    {
     "data": {
      "text/plain": [
       "{'number1': 10, 'number2': 5, 'operation': '-'}"
      ]
     },
     "execution_count": 45,
     "metadata": {},
     "output_type": "execute_result"
    }
   ],
   "source": [
    "initial_state = AgentState(number1=10,number2=5,operation=\"-\")\n",
    "initial_state"
   ]
  },
  {
   "cell_type": "code",
   "execution_count": 46,
   "id": "26e75dc9",
   "metadata": {},
   "outputs": [
    {
     "name": "stdout",
     "output_type": "stream",
     "text": [
      "{'number1': 10, 'operation': '-', 'number2': 5, 'finalNumber': 5}\n"
     ]
    }
   ],
   "source": [
    "print(app.invoke(initial_state))"
   ]
  },
  {
   "cell_type": "markdown",
   "id": "9b9eb678",
   "metadata": {},
   "source": [
    "### Looping Graph"
   ]
  },
  {
   "cell_type": "code",
   "execution_count": 47,
   "id": "4477b4cd",
   "metadata": {},
   "outputs": [],
   "source": [
    "from langgraph.graph import StateGraph, END\n",
    "import random\n",
    "from typing import Dict, List, TypedDict"
   ]
  },
  {
   "cell_type": "code",
   "execution_count": 48,
   "id": "5935ff73",
   "metadata": {},
   "outputs": [],
   "source": [
    "class AgentState(TypedDict):\n",
    "    name: str\n",
    "    number: List[int]\n",
    "    counter: int"
   ]
  },
  {
   "cell_type": "code",
   "execution_count": 50,
   "id": "145d0cb3",
   "metadata": {},
   "outputs": [],
   "source": [
    "def greeting_node(state: AgentState) -> AgentState:\n",
    "    \"\"\"Greeting Node which says hi to the person\"\"\"\n",
    "    state[\"name\"] = f\"Hi there, {state['name']}\"\n",
    "    state[\"counter\"] = 0 \n",
    "\n",
    "    return state\n",
    "\n",
    "def random_node(state: AgentState) -> AgentState:\n",
    "    \"\"\"Generates a random number from 0 to 10\"\"\"\n",
    "    state[\"number\"].append(random.randint(0, 10))\n",
    "    state[\"counter\"] += 1\n",
    "\n",
    "    return state\n",
    "\n",
    "\n",
    "def should_continue(state: AgentState) -> AgentState:\n",
    "    \"\"\"Function to decide what to do next\"\"\"\n",
    "    if state[\"counter\"] < 5:\n",
    "        print(\"ENTERING LOOP\", state[\"counter\"])\n",
    "        return \"loop\"  # Continue looping\n",
    "    else:\n",
    "        return \"exit\"  # Exit the loop"
   ]
  },
  {
   "cell_type": "code",
   "execution_count": null,
   "id": "fa1fef28",
   "metadata": {},
   "outputs": [],
   "source": [
    "# greeting → random → random → random → random → random → END"
   ]
  },
  {
   "cell_type": "code",
   "execution_count": 52,
   "id": "c0804013",
   "metadata": {},
   "outputs": [],
   "source": [
    "graph = StateGraph(AgentState)\n",
    "\n",
    "graph.add_node(\"greeting\", greeting_node)\n",
    "graph.add_node(\"random\", random_node)\n",
    "graph.add_edge(\"greeting\", \"random\")\n",
    "\n",
    "\n",
    "graph.add_conditional_edges(\n",
    "    \"random\",     # Source node\n",
    "    should_continue, # Action\n",
    "    {\n",
    "        \"loop\": \"random\",  \n",
    "        \"exit\": END          \n",
    "    }\n",
    ")\n",
    "\n",
    "graph.set_entry_point(\"greeting\")\n",
    "\n",
    "app = graph.compile()"
   ]
  },
  {
   "cell_type": "code",
   "execution_count": 53,
   "id": "400fdcfc",
   "metadata": {},
   "outputs": [
    {
     "data": {
      "image/png": "[encoded data removed]",
      "text/plain": [
       "<IPython.core.display.Image object>"
      ]
     },
     "metadata": {},
     "output_type": "display_data"
    }
   ],
   "source": [
    "from IPython.display import Image, display\n",
    "display(Image(app.get_graph().draw_mermaid_png()))"
   ]
  },
  {
   "cell_type": "code",
   "execution_count": 54,
   "id": "d5fb510f",
   "metadata": {},
   "outputs": [
    {
     "name": "stdout",
     "output_type": "stream",
     "text": [
      "ENTERING LOOP 1\n",
      "ENTERING LOOP 2\n",
      "ENTERING LOOP 3\n",
      "ENTERING LOOP 4\n"
     ]
    },
    {
     "data": {
      "text/plain": [
       "{'name': 'Hi there, Vaibhav', 'number': [10, 2, 6, 9, 1], 'counter': 5}"
      ]
     },
     "execution_count": 54,
     "metadata": {},
     "output_type": "execute_result"
    }
   ],
   "source": [
    "\n",
    "app.invoke({\"name\":\"Vaibhav\", \"number\":[], \"counter\":-100})"
   ]
  },
  {
   "cell_type": "code",
   "execution_count": 56,
   "id": "c3b33508",
   "metadata": {},
   "outputs": [],
   "source": [
    "from langchain_openai import ChatOpenAI"
   ]
  },
  {
   "cell_type": "code",
   "execution_count": null,
   "id": "17177528",
   "metadata": {},
   "outputs": [],
   "source": []
  }
 ],
 "metadata": {
  "kernelspec": {
   "display_name": "langgraph",
   "language": "python",
   "name": "python3"
  },
  "language_info": {
   "codemirror_mode": {
    "name": "ipython",
    "version": 3
   },
   "file_extension": ".py",
   "mimetype": "text/x-python",
   "name": "python",
   "nbconvert_exporter": "python",
   "pygments_lexer": "ipython3",
   "version": "3.11.0"
  }
 },
 "nbformat": 4,
 "nbformat_minor": 5
}
