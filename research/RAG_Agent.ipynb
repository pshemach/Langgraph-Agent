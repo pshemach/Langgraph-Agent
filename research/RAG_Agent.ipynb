{
 "cells": [
  {
   "cell_type": "code",
   "execution_count": 3,
   "id": "a40295f8",
   "metadata": {},
   "outputs": [],
   "source": [
    "from dotenv import load_dotenv\n",
    "import os\n",
    "from langgraph.graph import StateGraph, END\n",
    "from typing import TypedDict, Annotated, Sequence\n",
    "from langchain_core.messages import BaseMessage, SystemMessage, HumanMessage, ToolMessage\n",
    "from operator import add as add_messages\n",
    "from langchain_openai import ChatOpenAI\n",
    "from langchain_openai import OpenAIEmbeddings\n",
    "from langchain_community.document_loaders import PyPDFLoader\n",
    "from langchain.text_splitter import RecursiveCharacterTextSplitter\n",
    "from langchain_chroma import Chroma\n",
    "from langchain_core.tools import tool"
   ]
  },
  {
   "cell_type": "code",
   "execution_count": 4,
   "id": "ff9571f2",
   "metadata": {},
   "outputs": [
    {
     "data": {
      "text/plain": [
       "True"
      ]
     },
     "execution_count": 4,
     "metadata": {},
     "output_type": "execute_result"
    }
   ],
   "source": [
    "load_dotenv()"
   ]
  },
  {
   "cell_type": "code",
   "execution_count": 5,
   "id": "6e5e6c20",
   "metadata": {},
   "outputs": [],
   "source": [
    "llm = ChatOpenAI(\n",
    "    model = \"gpt-4o\", temperature = 0 \n",
    ")"
   ]
  },
  {
   "cell_type": "code",
   "execution_count": 6,
   "id": "fd26858e",
   "metadata": {},
   "outputs": [],
   "source": [
    "embeddings = OpenAIEmbeddings(\n",
    "   model = \"text-embedding-3-small\"\n",
    ")"
   ]
  },
  {
   "cell_type": "code",
   "execution_count": 7,
   "id": "0d9f854b",
   "metadata": {},
   "outputs": [],
   "source": [
    "pdf_path = \"Stock_Market_Performance_2024.pdf\""
   ]
  },
  {
   "cell_type": "code",
   "execution_count": 8,
   "id": "0bbf93b6",
   "metadata": {},
   "outputs": [],
   "source": [
    "# Safety measure I have put for debugging purposes :)\n",
    "if not os.path.exists(pdf_path):\n",
    "    raise FileNotFoundError(f\"PDF file not found: {pdf_path}\")\n",
    "\n",
    "pdf_loader = PyPDFLoader(pdf_path) # This loads the PDF"
   ]
  },
  {
   "cell_type": "code",
   "execution_count": 10,
   "id": "f8ebb5d0",
   "metadata": {},
   "outputs": [
    {
     "name": "stdout",
     "output_type": "stream",
     "text": [
      "PDF has been loaded and has 9 pages\n"
     ]
    }
   ],
   "source": [
    "# Checks if the PDF is there\n",
    "try:\n",
    "    pages = pdf_loader.load()\n",
    "    print(f\"PDF has been loaded and has {len(pages)} pages\")\n",
    "except Exception as e:\n",
    "    print(f\"Error loading PDF: {e}\")\n",
    "    raise"
   ]
  },
  {
   "cell_type": "code",
   "execution_count": 11,
   "id": "dab88739",
   "metadata": {},
   "outputs": [
    {
     "data": {
      "text/plain": [
       "[Document(metadata={'producer': 'PyFPDF 1.7.2 http://pyfpdf.googlecode.com/', 'creator': 'PyPDF', 'creationdate': 'D:20250411184712', 'source': 'Stock_Market_Performance_2024.pdf', 'total_pages': 9, 'page': 0, 'page_label': '1'}, page_content='Stock Market Performance in 2024\\nU.S. Market Overview\\nThe year 2024 was a remarkably strong one for equities, with the U.S. stock market extending the\\nrobust gains seen in the prior year. The benchmark S&P 500 index delivered roughly a 25% total\\nreturn for 2024 (around +23% in price terms)\\n. This marked the second consecutive year of over 20% returns for the S&P 500 - a feat not\\nobserved since the late 1990s\\n. The tech-heavy Nasdaq Composite outpaced the broader market, jumping nearly 29% for the year\\n. In contrast, smaller-cap stocks had more modest performance: the S&P 500 Equal-Weight index\\nand the Russell 2000 (small-cap benchmark) each rose about 10-11% in 2024\\n. The disparity underscored that 2024\\'s rally was not evenly distributed across the market. A key\\ntheme was the dominance of mega-cap technology stocks. A group of seven powerhouse\\ncompanies often dubbed the \"Magnificent 7\" - Apple, Microsoft, Alphabet (Google), Amazon, Meta\\n(Facebook), Nvidia, and Tesla - collectively surged by roughly 64-67% on average in 2024\\n. These few firms contributed disproportionately to the S&P 500\\'s gains. In fact, they accounted for\\nover half of the index\\'s return for the year (about 54% of S&P 500 performance)\\n. By year\\'s end, many of these leaders had reached record-high share prices amid investor\\nenthusiasm for transformative technologies like artificial intelligence (AI). Meanwhile, more\\ntraditional and value-oriented sectors lagged behind, and many diversified portfolios trailed the\\nS&P\\'s 25% gain as a result\\n. Overall, 2024\\'s market climate was one of bullish sentiment driven by technology and growth\\nstocks, albeit with narrow market breadth focused on the largest companies.\\nMajor Tech Stock Performances\\nApple Inc. (AAPL) - 2024 Performance'),\n",
       " Document(metadata={'producer': 'PyFPDF 1.7.2 http://pyfpdf.googlecode.com/', 'creator': 'PyPDF', 'creationdate': 'D:20250411184712', 'source': 'Stock_Market_Performance_2024.pdf', 'total_pages': 9, 'page': 1, 'page_label': '2'}, page_content='Apple\\'s stock had an outstanding 2024, climbing approximately 36% over the course of the year\\n. The iPhone maker\\'s share price reached new all-time highs, ending the year around $252 per\\nshare (up from about $185 at the start of 2024). This rally lifted Apple\\'s market capitalization to\\nnearly $4 trillion by year-end\\n, reaffirming its status as the world\\'s most valuable publicly traded company. Apple\\'s gains were\\ndriven by solid demand for its products - the company saw successful launches of the iPhone 15\\nseries and other hardware updates - as well as continued growth in high-margin services. The\\ncompany also expanded its presence in emerging markets, fueling investor optimism about future\\ngrowth. Despite only moderate earnings increases in 2024 (Apple\\'s net income grew in the high\\nsingle digits), the stock\\'s rapid appreciation led to an expansion in valuation. By the end of 2024\\nApple was trading at about 40 times its trailing earnings\\nmacrotrends.net\\n, well above its historical average P/E in the mid-20s. This elevated P/E ratio reflected substantial\\noptimism from investors and a willingness to pay a premium for Apple\\'s steady cash flows and\\necosystem advantages. In short, Apple\\'s combination of robust stock price growth and relatively\\nmodest earnings growth pushed its valuation to a lofty level going into 2025.\\nAlphabet (Google) (GOOGL) - 2024 Performance\\nAlphabet Inc., the parent of Google, also delivered strong results for shareholders in 2024.\\nAlphabet\\'s stock price rose by nearly 40% over the year\\n, closing around $189 per share - close to record highs for the company. This performance added\\nroughly $600 billion in market value, pushing Alphabet\\'s market capitalization above $2 trillion by\\nDecember 2024. Key to this rally was Alphabet\\'s core strength in digital advertising (still a major\\nrevenue driver) and its strides in artificial intelligence. The company demonstrated innovation in AI,\\nincluding the introduction of its Gemini 2.0 AI model and breakthroughs in quantum computing chips\\n, which reassured investors that Google \"still has its mojo\" in the evolving tech landscape. Google\\'s\\ncloud computing division also continued to grow, contributing to the overall positive sentiment'),\n",
       " Document(metadata={'producer': 'PyFPDF 1.7.2 http://pyfpdf.googlecode.com/', 'creator': 'PyPDF', 'creationdate': 'D:20250411184712', 'source': 'Stock_Market_Performance_2024.pdf', 'total_pages': 9, 'page': 2, 'page_label': '3'}, page_content=\". Alphabet's financial results helped justify its stock gains. The company's revenues and earnings\\nsaw healthy growth in 2024, thanks to a rebound in ad spending and efficiency efforts. By year-end,\\nAlphabet's valuation remained relatively reasonable compared to its peers - about 23× trailing\\nearnings\\nmacrotrends.net\\n. This was roughly unchanged from its P/E a year prior, indicating that Alphabet's ~36% stock price\\nincrease was largely matched by an increase in its earnings over the same period. In summary,\\nGoogle's parent company enjoyed a robust 2024 rally built on both improved fundamentals and\\ninvestor excitement about its leadership in AI and technology innovation.\\nAmazon.com Inc. (AMZN) - 2024 Performance\\nAmazon's stock staged an impressive rebound in 2024, advancing roughly 48% for the year\\n. The e-commerce and cloud computing giant saw its share price rise from about $152 at the end of\\n2023 to around $219 by December 2024\\nmacrotrends.net\\n. This surge added on the order of $600-700 billion to Amazon's market capitalization, bringing it\\nback into the vicinity of $1.7-$1.8 trillion. Multiple factors drove Amazon's strong performance. On\\nthe retail side, demand remained solid - Amazon's online shopping volumes and Prime membership\\nbase continued to grow, even as consumers navigated a post-pandemic environment. Meanwhile,\\nAmazon Web Services (AWS), the company's cloud division, maintained its leadership and high\\nprofitability in the cloud computing market, benefiting from the digital transformation and AI needs of\\nbusinesses. These dual engines (e-commerce and cloud) reassured investors of Amazon's\\nlong-term growth trajectory. Crucially, Amazon's earnings improved significantly in 2024 after a\\nslump in 2022-2023. Cost cutting and efficiency measures, along with revenue growth, led to a\\nsharp rise in operating income. By the end of 2024, Amazon's trailing price-to-earnings ratio had\\ndeclined to about 40\\nmacrotrends.net\\n - down from a very elevated ~52 P/E at the end of 2023 - reflecting the fact that earnings rose faster\"),\n",
       " Document(metadata={'producer': 'PyFPDF 1.7.2 http://pyfpdf.googlecode.com/', 'creator': 'PyPDF', 'creationdate': 'D:20250411184712', 'source': 'Stock_Market_Performance_2024.pdf', 'total_pages': 9, 'page': 3, 'page_label': '4'}, page_content='than the stock price. Even at 40× earnings, Amazon\\'s valuation was still on the higher side\\ncompared to the broader market, but investors seemed comfortable paying a premium for its\\ndominant market positions. Overall, 2024 marked a return to form for Amazon\\'s stock, as the\\ncompany regained its footing with investors and recouped a substantial portion of the market value it\\nhad lost in the prior year.\\nMeta Platforms (Facebook) (META) - 2024 Performance\\nMeta Platforms, the parent company of Facebook, Instagram, and WhatsApp, was one of 2024\\'s\\nstandout performers. Meta\\'s stock price skyrocketed about 72% during the year\\n, making it one of the best-performing large-cap stocks. The share price surged from roughly $352 at\\nthe end of 2023 to around $585 by December 2024\\nmacrotrends.net\\n. In the process, Meta\\'s market capitalization climbed back above the $1 trillion threshold - a\\nremarkable turnaround after the company\\'s challenges just two years prior. Several catalysts\\npowered Meta\\'s rally. The company\\'s core advertising business recovered strongly, with 2024\\nadvertising revenue reaching roughly $160 billion, about 22% higher than the prior year\\n. Meta\\'s focus on cost discipline and efficiency (following its \"Year of Efficiency\" initiatives) led to\\ndramatically improved profitability: full-year earnings jumped approximately 60% year-over-year\\n. These better-than-expected results, combined with enthusiasm for Meta\\'s investments in artificial\\nintelligence (to improve content delivery and ad targeting), boosted investor confidence. By year\\'s\\nend, Meta\\'s valuation remained quite reasonable despite the stock nearly doubling. Thanks to its\\nsurge in earnings, Meta\\'s trailing P/E ratio was only in the mid-20s at the end of 2024\\nmacrotrends.net\\n - only slightly higher than its P/E a year prior and generally in line with the broader market. In other\\nwords, Meta\\'s huge stock price increase was underpinned by equally impressive earnings growth,\\nkeeping its valuation multiples in check. This combination of value and growth made Meta an outlier\\namong mega-cap tech stocks. The company did continue heavy spending on its metaverse and\\nvirtual reality initiatives (Reality Labs), but investors largely looked past those losses in 2024,'),\n",
       " Document(metadata={'producer': 'PyFPDF 1.7.2 http://pyfpdf.googlecode.com/', 'creator': 'PyPDF', 'creationdate': 'D:20250411184712', 'source': 'Stock_Market_Performance_2024.pdf', 'total_pages': 9, 'page': 4, 'page_label': '5'}, page_content=\"focusing instead on the core business rebound and the exciting potential for new AI-driven features.\\nMeta's 72% stock gain underscored a broader trend in 2024: a return to favor for online advertising\\nand social media companies, especially those that managed to significantly boost their earnings and\\ncash flow.\\nTesla, Inc. (TSLA) - 2024 Performance\\nTesla's stock experienced a roller-coaster year in 2024, but ultimately delivered strong gains. The\\nelectric vehicle leader's share price ended the year up approximately 63%\\n. This sizable annual rise belies the volatility Tesla faced during the year: in the first half of 2024,\\nTesla's stock actually declined amid concerns about slowing EV demand and tighter profit margins.\\nBy mid-year, shares were down substantially from their late-2023 levels, as the company cut vehicle\\nprices to stoke demand (pressuring its margins). However, the trend reversed dramatically in the\\nfinal months of 2024. Virtually all of Tesla's yearly gains came in the fourth quarter, with the stock\\nskyrocketing after the U.S. presidential election in November 2024\\n. The election outcome (which resulted in a more business-friendly administration) bolstered market\\nsentiment, particularly for high-growth and tech names. Tesla's shares rallied sharply on this wave\\nof optimism, and on hopes that economic conditions in 2025 would allow for renewed demand and\\npricing power in the EV market. By December 2024, Tesla's stock was trading near record highs. It\\nbriefly touched an all-time closing high of around $480 per share in mid-December\\nmacrotrends.net\\n, doubling from its lows earlier in the year. At its year-end price (in the low $400s), Tesla's market\\ncapitalization was in excess of $1.2 trillion - firmly cementing its status as one of the most valuable\\nautomakers in history. However, Tesla's fundamentals in 2024 did not rise in tandem with its stock\\nprice. In fact, the company's earnings per share for the full year 2024 fell by over 50% compared to\\n2023\\nmacrotrends.net\\n. Higher costs and the impact of vehicle price reductions meant Tesla's profit margins and net\\nincome declined even as unit sales grew. The result was that Tesla's valuation became even more\"),\n",
       " Document(metadata={'producer': 'PyFPDF 1.7.2 http://pyfpdf.googlecode.com/', 'creator': 'PyPDF', 'creationdate': 'D:20250411184712', 'source': 'Stock_Market_Performance_2024.pdf', 'total_pages': 9, 'page': 5, 'page_label': '6'}, page_content=\"stretched: by the end of 2024, the stock was trading at well over 100 times its trailing earnings (a\\nrough estimate, as the company's EPS for the year was around $2) - an extremely high multiple\\nmacrotrends.net\\n. This disconnect between Tesla's soaring share price and its shrinking earnings was noted by\\nanalysts as a risk factor. Nonetheless, 2024 demonstrated the market's willingness to bet on Tesla's\\nlong-term growth story (in areas like autonomous driving, energy storage, and global EV adoption),\\neven if in the short term the financial results did not justify the exuberant stock price. Tesla's 63%\\ngain was a significant contributor to the S&P 500's performance and exemplified the late-year\\nrisk-on fervor that characterized the market's finish to 2024.\\nHigh-Growth Tech Startups and Noteworthy Stock Movers\\nBeyond the established giants, 2024 also featured eye-popping gains in a number of high-growth\\ntech companies and recent startups, both in the U.S. and internationally. Perhaps the most striking\\nexample was Palantir Technologies (PLTR), a data analytics and AI software firm. Palantir's stock\\nsoared by about 340% in 2024, making it the single best-performing stock in the S&P 500 index for\\nthe year\\n. Palantir began 2024 at a relatively low base (its shares had languished in prior years), but investor\\nsentiment flipped dramatically as the company showed its first profitable quarters and positioned\\nitself as a key player in artificial intelligence for government and enterprise. By the end of 2024,\\nPalantir's share price had climbed into the mid-$20s from single-digit levels a year earlier. This\\nenormous rally was fueled in part by excitement over Palantir's AI platforms and speculation that\\nincreased government spending on defense and data intelligence (in a more geopolitically tense\\nenvironment) would benefit the company. It's worth noting that a considerable portion of Palantir's\\n2024 gains came late in the year, during the broad tech rally in Q4. The stock, however, remained\\nvolatile, and its valuation by year-end - well above 20 times sales - reflected very high expectations\\nfor future growth. Another notable high-growth winner was IonQ (IONQ), a U.S.-based quantum\\ncomputing startup. IonQ's stock price finished 2024 up about 237% for the year\\n. Investors bid up IonQ shares aggressively as the company reported technical progress in its\"),\n",
       " Document(metadata={'producer': 'PyFPDF 1.7.2 http://pyfpdf.googlecode.com/', 'creator': 'PyPDF', 'creationdate': 'D:20250411184712', 'source': 'Stock_Market_Performance_2024.pdf', 'total_pages': 9, 'page': 6, 'page_label': '7'}, page_content=\"quantum computing systems and as interest in quantum technology spiked following some\\nhigh-profile breakthroughs (including those touted by larger firms like Alphabet's quantum unit).\\nIonQ's revenue, while still very small (tens of millions of dollars), nearly doubled in 2024, and the\\ncompany raised its future outlook - factors which contributed to the stock's surge. Like many\\nearly-stage tech firms, IonQ remained unprofitable, but in 2024 the market showed a willingness to\\noverlook current losses and focus on the long-term potential of quantum computing. By year-end,\\nIonQ's market cap had swelled to several billion dollars, a sign of the speculative fervor in certain\\nniche tech areas. It's worth mentioning that IonQ shares experienced a steep pullback in early 2025\\nafter their 2024 run-up, illustrating the risk that accompanies such explosive stock moves\\n. Still, in the context of 2024, IonQ was a prime example of how smaller tech innovators rode the\\nwave of optimism around next-generation technologies. On the international front, one of the most\\nsignificant tech stock stories was Arm Holdings (ARM). Arm, a British-based semiconductor IP and\\nchip design company, returned to the public markets with a highly anticipated IPO in late 2023. In\\n2024, Arm's stock gained about 64% for the full year\\n, as investors rallied around its unique position in the chip industry. Arm's designs are used in\\nvirtually all smartphone processors and increasingly in data center and AI accelerators, giving it a\\ncritical role in the semiconductor ecosystem. The stock's strong performance in 2024 - it rose from\\nits IPO price in the low $50s to around $80-$90 by year-end - was driven by optimism about Arm's\\ngrowth prospects in AI, Internet-of-Things devices, and automotive chips. Notably, Arm's share price\\nmore than doubled in the first half of 2024 amid a burst of post-IPO enthusiasm, though it later\\nsettled back after some profit-taking\\n. By the end of the year, Arm's market capitalization was around $120 billion, making it one of the\\nlargest tech companies in Europe. Its successful debut and stock climb underscored how global the\\n2024 tech boom was - extending beyond U.S. borders to include major players in Europe and Asia.\\nIn addition to these, many other tech stocks saw remarkable climbs in 2024. The AI boom was a\\nrising tide that lifted numerous boats. For instance, Nvidia - while not a startup but certainly a\"),\n",
       " Document(metadata={'producer': 'PyFPDF 1.7.2 http://pyfpdf.googlecode.com/', 'creator': 'PyPDF', 'creationdate': 'D:20250411184712', 'source': 'Stock_Market_Performance_2024.pdf', 'total_pages': 9, 'page': 7, 'page_label': '8'}, page_content='high-growth company - saw its stock skyrocket by approximately 170% in 2024 on the back of\\ninsatiable demand for its AI-focused chips\\n. This contributed enormously to its market value (which hit $1+ trillion) and exemplified the market\\'s\\nenthusiasm for AI beneficiaries. Even some long-established companies outside the traditional \"Big\\nTech\" roster enjoyed tech-fueled rallies; for example, Netflix (a communication services/tech hybrid)\\nsaw its stock price nearly double (+92% in 2024) as it found success with a new ad-supported\\nstreaming tier and password-sharing crackdowns\\n. On the other hand, not every tech name soared - Chinese technology giants like Alibaba and\\nTencent, for example, had relatively muted stock performance in 2024 amid regulatory and\\neconomic headwinds in China. But broadly speaking, investors in 2024 rewarded any companies\\nwith strong growth narratives, especially those tied to transformational tech trends such as artificial\\nintelligence, cloud computing, and quantum technology.\\nConclusion\\nIn summary, 2024 was a banner year for stocks, led overwhelmingly by the technology sector. The\\nS&P 500\\'s roughly 25% gain\\n for the year - coming on the heels of a similar advance in 2023 - was fueled by spectacular\\nperformances from both mega-cap titans like Apple, Alphabet, and Meta and high-flying newer\\ncompanies riding the tech innovation wave. Market darlings in AI, chips, and software posted\\neye-popping returns, driving major indices to record or near-record highs. This surge in stock prices\\nbrought with it significantly increased valuations. By year-end, many leading stocks were trading at\\nrich multiples, pricing in a lot of optimism for future growth. The exuberance of 2024 did create a\\n\"frothy\" sentiment environment, as analysts at Schwab noted\\n, meaning investors had become very bullish and perhaps complacent. This backdrop raised some\\nconcern that volatility could return if the anticipated growth failed to materialize or if macroeconomic\\nfactors turned unfriendly. As 2025 began, market participants were balancing the excitement about\\ntechnology-driven growth against the reality of elevated price levels. The strong 2024 stock\\nperformance undoubtedly rewarded investors, but it also set a high bar for future earnings and'),\n",
       " Document(metadata={'producer': 'PyFPDF 1.7.2 http://pyfpdf.googlecode.com/', 'creator': 'PyPDF', 'creationdate': 'D:20250411184712', 'source': 'Stock_Market_Performance_2024.pdf', 'total_pages': 9, 'page': 8, 'page_label': '9'}, page_content='innovation to justify those prices. In essence, 2024\\'s legacy is that of a tech-dominated rally that\\ndelivered substantial wealth gains, while also concentrating market leadership and stretching some\\nvaluation metrics. Investors and analysts heading into 2025 remained watchful: optimistic that the\\ntrends propelling 2024\\'s gains (such as AI adoption and economic resilience) would continue, yet\\ncautious of potential corrections given how far and fast many stock prices climbed. 2024 will be\\nremembered as a year when Wall Street fully embraced the promise of next-generation technology -\\na year of exceptional stock market performance, underpinned by both real improvements in\\ncorporate fortunes and a robust appetite for risk in the face of those opportunities.\"')]"
      ]
     },
     "execution_count": 11,
     "metadata": {},
     "output_type": "execute_result"
    }
   ],
   "source": [
    "pages"
   ]
  },
  {
   "cell_type": "code",
   "execution_count": 12,
   "id": "c2357a35",
   "metadata": {},
   "outputs": [],
   "source": [
    "# Chunking Process\n",
    "text_splitter = RecursiveCharacterTextSplitter(\n",
    "    chunk_size=1000,\n",
    "    chunk_overlap=200\n",
    ")"
   ]
  },
  {
   "cell_type": "code",
   "execution_count": 13,
   "id": "563442eb",
   "metadata": {},
   "outputs": [],
   "source": [
    "pages_split = text_splitter.split_documents(pages) # We now apply this to our pages"
   ]
  },
  {
   "cell_type": "code",
   "execution_count": 14,
   "id": "640e9497",
   "metadata": {},
   "outputs": [],
   "source": [
    "persist_directory = r\"C:\\Users\\HP\\Desktop\\Gen-AI\\langgraph_project\\research\"\n",
    "collection_name = \"stock_market\""
   ]
  },
  {
   "cell_type": "code",
   "execution_count": 15,
   "id": "99e2afc4",
   "metadata": {},
   "outputs": [],
   "source": [
    "# If our collection does not exist in the directory, we create using the os command\n",
    "if not os.path.exists(persist_directory):\n",
    "    os.makedirs(persist_directory)"
   ]
  },
  {
   "cell_type": "code",
   "execution_count": 16,
   "id": "4e68f222",
   "metadata": {},
   "outputs": [
    {
     "name": "stdout",
     "output_type": "stream",
     "text": [
      "Created ChromaDB vector store!\n"
     ]
    }
   ],
   "source": [
    "try:\n",
    "    # Here, we actually create the chroma database using our embeddigns model\n",
    "    vectorstore = Chroma.from_documents(\n",
    "        documents=pages_split,\n",
    "        embedding=embeddings,\n",
    "        persist_directory=persist_directory,\n",
    "        collection_name=collection_name\n",
    "    )\n",
    "    print(f\"Created ChromaDB vector store!\")\n",
    "    \n",
    "except Exception as e:\n",
    "    print(f\"Error setting up ChromaDB: {str(e)}\")\n",
    "    raise"
   ]
  },
  {
   "cell_type": "code",
   "execution_count": 17,
   "id": "5f241f76",
   "metadata": {},
   "outputs": [],
   "source": [
    "# Now we create our retriever \n",
    "retriever = vectorstore.as_retriever(\n",
    "    search_type=\"similarity\",\n",
    "    search_kwargs={\"k\": 5} # K is the amount of chunks to return\n",
    ")"
   ]
  },
  {
   "cell_type": "code",
   "execution_count": 18,
   "id": "d236e0e9",
   "metadata": {},
   "outputs": [
    {
     "data": {
      "text/plain": [
       "[Document(id='710e2676-033f-41d0-8a9e-372d8626eb40', metadata={'page': 7, 'page_label': '8', 'creationdate': 'D:20250411184712', 'creator': 'PyPDF', 'producer': 'PyFPDF 1.7.2 http://pyfpdf.googlecode.com/', 'source': 'Stock_Market_Performance_2024.pdf', 'total_pages': 9}, page_content='rich multiples, pricing in a lot of optimism for future growth. The exuberance of 2024 did create a\\n\"frothy\" sentiment environment, as analysts at Schwab noted\\n, meaning investors had become very bullish and perhaps complacent. This backdrop raised some\\nconcern that volatility could return if the anticipated growth failed to materialize or if macroeconomic\\nfactors turned unfriendly. As 2025 began, market participants were balancing the excitement about\\ntechnology-driven growth against the reality of elevated price levels. The strong 2024 stock\\nperformance undoubtedly rewarded investors, but it also set a high bar for future earnings and'),\n",
       " Document(id='d83bfc02-d218-4dea-83b5-932c57693a13', metadata={'creationdate': 'D:20250411184712', 'source': 'Stock_Market_Performance_2024.pdf', 'total_pages': 9, 'page_label': '6', 'page': 5, 'producer': 'PyFPDF 1.7.2 http://pyfpdf.googlecode.com/', 'creator': 'PyPDF'}, page_content=\"stretched: by the end of 2024, the stock was trading at well over 100 times its trailing earnings (a\\nrough estimate, as the company's EPS for the year was around $2) - an extremely high multiple\\nmacrotrends.net\\n. This disconnect between Tesla's soaring share price and its shrinking earnings was noted by\\nanalysts as a risk factor. Nonetheless, 2024 demonstrated the market's willingness to bet on Tesla's\\nlong-term growth story (in areas like autonomous driving, energy storage, and global EV adoption),\\neven if in the short term the financial results did not justify the exuberant stock price. Tesla's 63%\\ngain was a significant contributor to the S&P 500's performance and exemplified the late-year\\nrisk-on fervor that characterized the market's finish to 2024.\\nHigh-Growth Tech Startups and Noteworthy Stock Movers\\nBeyond the established giants, 2024 also featured eye-popping gains in a number of high-growth\"),\n",
       " Document(id='82357448-27ae-4d76-bf4d-c6c77330b9ee', metadata={'total_pages': 9, 'producer': 'PyFPDF 1.7.2 http://pyfpdf.googlecode.com/', 'page': 7, 'page_label': '8', 'source': 'Stock_Market_Performance_2024.pdf', 'creator': 'PyPDF', 'creationdate': 'D:20250411184712'}, page_content='high-growth company - saw its stock skyrocket by approximately 170% in 2024 on the back of\\ninsatiable demand for its AI-focused chips\\n. This contributed enormously to its market value (which hit $1+ trillion) and exemplified the market\\'s\\nenthusiasm for AI beneficiaries. Even some long-established companies outside the traditional \"Big\\nTech\" roster enjoyed tech-fueled rallies; for example, Netflix (a communication services/tech hybrid)\\nsaw its stock price nearly double (+92% in 2024) as it found success with a new ad-supported\\nstreaming tier and password-sharing crackdowns\\n. On the other hand, not every tech name soared - Chinese technology giants like Alibaba and\\nTencent, for example, had relatively muted stock performance in 2024 amid regulatory and\\neconomic headwinds in China. But broadly speaking, investors in 2024 rewarded any companies\\nwith strong growth narratives, especially those tied to transformational tech trends such as artificial'),\n",
       " Document(id='21bfeffb-8f85-4a79-a6c1-f62bc8869a85', metadata={'page_label': '6', 'source': 'Stock_Market_Performance_2024.pdf', 'page': 5, 'total_pages': 9, 'producer': 'PyFPDF 1.7.2 http://pyfpdf.googlecode.com/', 'creator': 'PyPDF', 'creationdate': 'D:20250411184712'}, page_content=\"High-Growth Tech Startups and Noteworthy Stock Movers\\nBeyond the established giants, 2024 also featured eye-popping gains in a number of high-growth\\ntech companies and recent startups, both in the U.S. and internationally. Perhaps the most striking\\nexample was Palantir Technologies (PLTR), a data analytics and AI software firm. Palantir's stock\\nsoared by about 340% in 2024, making it the single best-performing stock in the S&P 500 index for\\nthe year\\n. Palantir began 2024 at a relatively low base (its shares had languished in prior years), but investor\\nsentiment flipped dramatically as the company showed its first profitable quarters and positioned\\nitself as a key player in artificial intelligence for government and enterprise. By the end of 2024,\\nPalantir's share price had climbed into the mid-$20s from single-digit levels a year earlier. This\\nenormous rally was fueled in part by excitement over Palantir's AI platforms and speculation that\"),\n",
       " Document(id='b1d13cd7-f7e9-4bf2-8fbc-aab38ad2ab2d', metadata={'creator': 'PyPDF', 'producer': 'PyFPDF 1.7.2 http://pyfpdf.googlecode.com/', 'creationdate': 'D:20250411184712', 'page_label': '8', 'page': 7, 'total_pages': 9, 'source': 'Stock_Market_Performance_2024.pdf'}, page_content=\"economic headwinds in China. But broadly speaking, investors in 2024 rewarded any companies\\nwith strong growth narratives, especially those tied to transformational tech trends such as artificial\\nintelligence, cloud computing, and quantum technology.\\nConclusion\\nIn summary, 2024 was a banner year for stocks, led overwhelmingly by the technology sector. The\\nS&P 500's roughly 25% gain\\n for the year - coming on the heels of a similar advance in 2023 - was fueled by spectacular\\nperformances from both mega-cap titans like Apple, Alphabet, and Meta and high-flying newer\\ncompanies riding the tech innovation wave. Market darlings in AI, chips, and software posted\\neye-popping returns, driving major indices to record or near-record highs. This surge in stock prices\\nbrought with it significantly increased valuations. By year-end, many leading stocks were trading at\\nrich multiples, pricing in a lot of optimism for future growth. The exuberance of 2024 did create a\")]"
      ]
     },
     "execution_count": 18,
     "metadata": {},
     "output_type": "execute_result"
    }
   ],
   "source": [
    "retriever.invoke(\"what is the growth\")"
   ]
  },
  {
   "cell_type": "code",
   "execution_count": 19,
   "id": "d450abe9",
   "metadata": {},
   "outputs": [],
   "source": [
    "@tool\n",
    "def retriever_tool(query: str) -> str:\n",
    "    \"\"\"\n",
    "    This tool searches and returns the information from the Stock Market Performance 2024 document.\n",
    "    \"\"\"\n",
    "\n",
    "    docs = retriever.invoke(query)\n",
    "\n",
    "    if not docs:\n",
    "        return \"I found no relevant information in the Stock Market Performance 2024 document.\"\n",
    "    \n",
    "    results = []\n",
    "    for i, doc in enumerate(docs):\n",
    "        results.append(f\"Document {i+1}:\\n{doc.page_content}\")\n",
    "    \n",
    "    return \"\\n\\n\".join(results)"
   ]
  },
  {
   "cell_type": "code",
   "execution_count": 20,
   "id": "9c1fe59a",
   "metadata": {},
   "outputs": [],
   "source": [
    "tools = [retriever_tool]"
   ]
  },
  {
   "cell_type": "code",
   "execution_count": 21,
   "id": "f1a7106b",
   "metadata": {},
   "outputs": [],
   "source": [
    "llm = llm.bind_tools(tools)"
   ]
  },
  {
   "cell_type": "code",
   "execution_count": 22,
   "id": "9c2a2637",
   "metadata": {},
   "outputs": [],
   "source": [
    "class AgentState(TypedDict):\n",
    "    messages: Annotated[Sequence[BaseMessage], add_messages]"
   ]
  },
  {
   "cell_type": "code",
   "execution_count": 23,
   "id": "f087b71b",
   "metadata": {},
   "outputs": [],
   "source": [
    "def should_continue(state: AgentState):\n",
    "    \"\"\"Check if the last message contains tool calls.\"\"\"\n",
    "    result = state['messages'][-1]\n",
    "    return hasattr(result, 'tool_calls') and len(result.tool_calls) > 0"
   ]
  },
  {
   "cell_type": "code",
   "execution_count": 24,
   "id": "66c65d61",
   "metadata": {},
   "outputs": [],
   "source": [
    "system_prompt = \"\"\"\n",
    "You are an intelligent AI assistant who answers questions about Stock Market Performance in 2024 based on the PDF document loaded into your knowledge base.\n",
    "Use the retriever tool available to answer questions about the stock market performance data. You can make multiple calls if needed.\n",
    "If you need to look up some information before asking a follow up question, you are allowed to do that!\n",
    "Please always cite the specific parts of the documents you use in your answers.\n",
    "\"\"\""
   ]
  },
  {
   "cell_type": "code",
   "execution_count": 25,
   "id": "9db789dc",
   "metadata": {},
   "outputs": [],
   "source": [
    "tools_dict = {our_tool.name: our_tool for our_tool in tools} # Creating a dictionary of our tools"
   ]
  },
  {
   "cell_type": "code",
   "execution_count": 26,
   "id": "c430acd0",
   "metadata": {},
   "outputs": [],
   "source": [
    "# LLM Agent\n",
    "def call_llm(state: AgentState) -> AgentState:\n",
    "    \"\"\"Function to call the LLM with the current state.\"\"\"\n",
    "    messages = list(state['messages'])\n",
    "    messages = [SystemMessage(content=system_prompt)] + messages\n",
    "    message = llm.invoke(messages)\n",
    "    return {'messages': [message]}"
   ]
  },
  {
   "cell_type": "code",
   "execution_count": 27,
   "id": "a4c3ca97",
   "metadata": {},
   "outputs": [],
   "source": [
    "# Retriever Agent\n",
    "def take_action(state: AgentState) -> AgentState:\n",
    "    \"\"\"Execute tool calls from the LLM's response.\"\"\"\n",
    "\n",
    "    tool_calls = state['messages'][-1].tool_calls\n",
    "    results = []\n",
    "    for t in tool_calls:\n",
    "        print(f\"Calling Tool: {t['name']} with query: {t['args'].get('query', 'No query provided')}\")\n",
    "        \n",
    "        if not t['name'] in tools_dict: # Checks if a valid tool is present\n",
    "            print(f\"\\nTool: {t['name']} does not exist.\")\n",
    "            result = \"Incorrect Tool Name, Please Retry and Select tool from List of Available tools.\"\n",
    "        \n",
    "        else:\n",
    "            result = tools_dict[t['name']].invoke(t['args'].get('query', ''))\n",
    "            print(f\"Result length: {len(str(result))}\")\n",
    "            \n",
    "\n",
    "        # Appends the Tool Message\n",
    "        results.append(ToolMessage(tool_call_id=t['id'], name=t['name'], content=str(result)))\n",
    "\n",
    "    print(\"Tools Execution Complete. Back to the model!\")\n",
    "    return {'messages': results}"
   ]
  },
  {
   "cell_type": "code",
   "execution_count": 28,
   "id": "5dd7bffa",
   "metadata": {},
   "outputs": [],
   "source": [
    "graph = StateGraph(AgentState)\n",
    "graph.add_node(\"llm\", call_llm)\n",
    "graph.add_node(\"retriever_agent\", take_action)\n",
    "\n",
    "graph.add_conditional_edges(\n",
    "    \"llm\",\n",
    "    should_continue,\n",
    "    {True: \"retriever_agent\", False: END}\n",
    ")\n",
    "graph.add_edge(\"retriever_agent\", \"llm\")\n",
    "graph.set_entry_point(\"llm\")\n",
    "\n",
    "rag_agent = graph.compile()"
   ]
  },
  {
   "cell_type": "code",
   "execution_count": 30,
   "id": "5f4b7fc3",
   "metadata": {},
   "outputs": [
    {
     "data": {
      "image/png": "[encoded data removed]",
      "text/plain": [
       "<IPython.core.display.Image object>"
      ]
     },
     "metadata": {},
     "output_type": "display_data"
    }
   ],
   "source": [
    "from IPython.display import Image, display\n",
    "display(Image(rag_agent.get_graph().draw_mermaid_png()))"
   ]
  },
  {
   "cell_type": "code",
   "execution_count": 31,
   "id": "645580e2",
   "metadata": {},
   "outputs": [],
   "source": [
    "def running_agent():\n",
    "    print(\"\\n=== RAG AGENT===\")\n",
    "    \n",
    "    while True:\n",
    "        user_input = input(\"\\nWhat is your question: \")\n",
    "        if user_input.lower() in ['exit', 'quit']:\n",
    "            break\n",
    "            \n",
    "        messages = [HumanMessage(content=user_input)] # converts back to a HumanMessage type\n",
    "\n",
    "        result = rag_agent.invoke({\"messages\": messages})\n",
    "        \n",
    "        print(\"\\n=== ANSWER ===\")\n",
    "        print(result['messages'][-1].content)"
   ]
  },
  {
   "cell_type": "code",
   "execution_count": 32,
   "id": "f23d97cd",
   "metadata": {},
   "outputs": [
    {
     "name": "stdout",
     "output_type": "stream",
     "text": [
      "\n",
      "=== RAG AGENT===\n",
      "Calling Tool: retriever_tool with query: most performed stock in 2024\n",
      "Result length: 4664\n",
      "Tools Execution Complete. Back to the model!\n",
      "\n",
      "=== ANSWER ===\n",
      "The most performed stock in 2024 was Meta, which saw a 72% gain. This was part of a broader trend where online advertising and social media companies, especially those that significantly boosted their earnings and cash flow, returned to favor. Additionally, Tesla also had a strong performance with a 63% gain despite experiencing volatility throughout the year (Document 2). The \"Magnificent 7\" group of mega-cap technology stocks, including Apple, Microsoft, Alphabet, Amazon, Meta, Nvidia, and Tesla, collectively surged by roughly 64-67% on average, contributing significantly to the S&P 500's gains (Document 4).\n",
      "Calling Tool: retriever_tool with query: most performed stocks in 2024\n",
      "Result length: 4664\n",
      "Tools Execution Complete. Back to the model!\n",
      "Calling Tool: retriever_tool with query: profit of Apple and Meta in 2024\n",
      "Result length: 4507\n",
      "Tools Execution Complete. Back to the model!\n",
      "\n",
      "=== ANSWER ===\n",
      "The two most performed stocks in 2024 were Meta and Tesla. Meta's stock price increased by approximately 72%, and Tesla's stock price rose by about 63% during the year.\n",
      "\n",
      "To calculate the sum of their profits, we need to consider the percentage increase in their stock prices:\n",
      "\n",
      "- Meta's stock price increased by 72%.\n",
      "- Tesla's stock price increased by 63%.\n",
      "\n",
      "The sum of the profit percentages for these two stocks is:\n",
      "\n",
      "\\[ 72\\% + 63\\% = 135\\% \\]\n",
      "\n",
      "Therefore, the sum of the profit of the most performed two stocks in 2024 is 135%.\n",
      "\n",
      "=== ANSWER ===\n",
      "I currently do not have access to data or predictions for the year 2034. My information is based on data available up to 2023, and I can provide insights or information on stock market performance for 2024 if needed.\n",
      "Calling Tool: retriever_tool with query: Meta profit 2024\n",
      "Result length: 4297\n",
      "Tools Execution Complete. Back to the model!\n",
      "\n",
      "=== ANSWER ===\n",
      "In 2024, Meta's profitability improved significantly, with full-year earnings jumping approximately 60% year-over-year. This improvement was driven by a strong recovery in its core advertising business, which saw advertising revenue reach roughly $160 billion, about 22% higher than the previous year. Meta's focus on cost discipline and efficiency also contributed to this dramatic increase in profitability [Document 2].\n",
      "\n",
      "=== ANSWER ===\n",
      "Could you please clarify what you mean by \"amount\"? Are you referring to a specific financial figure, such as stock prices, market capitalization, or something else related to the stock market performance in 2024? Let me know so I can assist you better!\n",
      "Calling Tool: retriever_tool with query: profit amount in stock market performance 2024\n",
      "Result length: 4603\n",
      "Tools Execution Complete. Back to the model!\n",
      "\n",
      "=== ANSWER ===\n",
      "The stock market in 2024 experienced significant gains, with the S&P 500 index delivering roughly a 25% total return for the year. The tech-heavy Nasdaq Composite outpaced the broader market, jumping nearly 29%. Smaller-cap stocks, represented by the S&P 500 Equal-Weight index and the Russell 2000, each rose about 10-11% in 2024. The year was marked by the dominance of mega-cap technology stocks, with companies like Apple, Microsoft, Alphabet (Google), Amazon, and Meta leading the charge. This resulted in substantial wealth gains and increased valuations across the market (Document 1, Document 2, Document 3).\n",
      "\n",
      "Specific company performances included Meta's 72% stock gain and Tesla's approximately 63% rise in share price by the end of the year. Alphabet's stock price rose by nearly 40%, adding roughly $600 billion in market value and pushing its market capitalization above $2 trillion (Document 4, Document 5).\n"
     ]
    }
   ],
   "source": [
    "running_agent()"
   ]
  },
  {
   "cell_type": "code",
   "execution_count": null,
   "id": "35222468",
   "metadata": {},
   "outputs": [],
   "source": []
  }
 ],
 "metadata": {
  "kernelspec": {
   "display_name": "langgraph",
   "language": "python",
   "name": "python3"
  },
  "language_info": {
   "codemirror_mode": {
    "name": "ipython",
    "version": 3
   },
   "file_extension": ".py",
   "mimetype": "text/x-python",
   "name": "python",
   "nbconvert_exporter": "python",
   "pygments_lexer": "ipython3",
   "version": "3.11.0"
  }
 },
 "nbformat": 4,
 "nbformat_minor": 5
}
