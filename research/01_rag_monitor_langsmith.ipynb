{
 "cells": [
  {
   "cell_type": "markdown",
   "id": "9154ccea",
   "metadata": {},
   "source": [
    "#### Invoking a Language Model (LLM)"
   ]
  },
  {
   "cell_type": "code",
   "execution_count": 1,
   "id": "a1e1877a",
   "metadata": {},
   "outputs": [],
   "source": [
    "from dotenv import load_dotenv\n",
    "import os\n",
    "from langchain_openai import ChatOpenAI"
   ]
  },
  {
   "cell_type": "code",
   "execution_count": 2,
   "id": "43cede71",
   "metadata": {},
   "outputs": [],
   "source": [
    "_ = load_dotenv()"
   ]
  },
  {
   "cell_type": "code",
   "execution_count": 3,
   "metadata": {},
   "outputs": [],
   "source": [
    "os.environ['OPENAI_API_KEY'] = os.getenv(\"OPENAI_API_KEY\")\n",
    "os.environ['LANGCHAIN_API_KEY'] = os.getenv(\"LANGCHAIN_API_KEY\")\n",
    "os.environ['LANGCHAIN_TRACING_V2'] = \"true\""
   ]
  },
  {
   "cell_type": "code",
   "execution_count": 4,
   "id": "01308930",
   "metadata": {},
   "outputs": [],
   "source": [
    "llm = ChatOpenAI(model='gpt-3.5-turbo')"
   ]
  },
  {
   "cell_type": "code",
   "execution_count": 9,
   "id": "ce5e4122",
   "metadata": {},
   "outputs": [
    {
     "name": "stdout",
     "output_type": "stream",
     "text": [
      "Artificial Intelligence (AI) refers to the simulation of human intelligence processes by machines, especially computer systems. These processes include learning, reasoning, problem-solving, perception, and language processing. AI technologies enable machines to perform tasks that typically require human intelligence, such as visual perception, speech recognition, decision-making, and translation between languages. AI has a wide range of applications in various industries, such as healthcare, finance, transportation, and entertainment, and continues to advance rapidly with the development of new techniques and technologies.\n"
     ]
    }
   ],
   "source": [
    "response = llm.invoke(\"What is Artificial Intelligence?\")\n",
    "\n",
    "print(response.content)"
   ]
  },
  {
   "cell_type": "code",
   "execution_count": 11,
   "id": "5d798da3",
   "metadata": {},
   "outputs": [],
   "source": [
    "from langchain_core.messages import HumanMessage, SystemMessage, AIMessage"
   ]
  },
  {
   "cell_type": "code",
   "execution_count": 13,
   "id": "688a3ec7",
   "metadata": {},
   "outputs": [
    {
     "name": "stdout",
     "output_type": "stream",
     "text": [
      "Machine learning is a type of artificial intelligence that involves teaching machines to learn from data and improve over time without being explicitly programmed for each task. It uses algorithms to analyze and find patterns in data, allowing machines to make predictions or decisions without human intervention.\n"
     ]
    }
   ],
   "source": [
    "messages = [\n",
    "    SystemMessage(\"You are a helpful AI assistance. You will answer complex topics simply\"),\n",
    "    HumanMessage(\"What is machine learning in two sentences?\")\n",
    "]\n",
    "\n",
    "response = llm.invoke(messages)\n",
    "\n",
    "print(response.content)"
   ]
  },
  {
   "cell_type": "markdown",
   "id": "ef0b0be5",
   "metadata": {},
   "source": [
    "#### Extending LLMs with Tools"
   ]
  },
  {
   "cell_type": "code",
   "execution_count": 6,
   "id": "2bde95c6",
   "metadata": {},
   "outputs": [],
   "source": [
    "from langchain_core.tools import tool\n",
    "from langchain_tavily import TavilySearch"
   ]
  },
  {
   "cell_type": "code",
   "execution_count": 7,
   "id": "3a020898",
   "metadata": {},
   "outputs": [
    {
     "data": {
      "text/plain": [
       "4"
      ]
     },
     "execution_count": 7,
     "metadata": {},
     "output_type": "execute_result"
    }
   ],
   "source": [
    "eval(\"1+3\")"
   ]
  },
  {
   "cell_type": "code",
   "execution_count": 8,
   "id": "aedfee78",
   "metadata": {},
   "outputs": [],
   "source": [
    "@tool\n",
    "def calculator(expression:str) -> str:\n",
    "    \"\"\"Calculate mathematical expression. Use this for any math calculations.\"\"\"\n",
    "    try:\n",
    "        result = eval(expression)\n",
    "        return f\"The result of {expression} is {result}\"\n",
    "    except Exception as e:\n",
    "        return f\"Error calculation {expression}: {e}\"\n",
    "    \n",
    "    \n",
    "search_tool = TavilySearch(max_results=2)"
   ]
  },
  {
   "cell_type": "code",
   "execution_count": 31,
   "id": "3051b07c",
   "metadata": {},
   "outputs": [
    {
     "data": {
      "text/plain": [
       "{'query': 'latest news for asia cup?',\n",
       " 'follow_up_questions': None,\n",
       " 'answer': None,\n",
       " 'images': [],\n",
       " 'results': [{'url': 'https://timesofindia.indiatimes.com/sports/cricket/asia-cup/asia-cup-2025-india-take-on-pakistan-whats-their-head-to-head-record/articleshow/123878121.cms',\n",
       "   'title': \"Asia Cup 2025: India take on Pakistan – What's their head to head ...\",\n",
       "   'content': 'India and Pakistan are set to clash in a highly anticipated Asia Cup match on September 14, 2025, in Dubai. India holds a 10-6 advantage in past',\n",
       "   'score': 0.60694176,\n",
       "   'raw_content': None},\n",
       "  {'url': 'https://www.youtube.com/watch?v=Z38zqZ6iAxc',\n",
       "   'title': 'India to face Pakistan in high-stakes Asia Cup clash - YouTube',\n",
       "   'content': 'India to face Pakistan in high-stakes Asia Cup clash | Latest Updates | DD India Live · Comments.',\n",
       "   'score': 0.54521364,\n",
       "   'raw_content': None}],\n",
       " 'response_time': 0.84,\n",
       " 'request_id': '6692d306-7bad-4e8e-8b60-287edd3fe790'}"
      ]
     },
     "execution_count": 31,
     "metadata": {},
     "output_type": "execute_result"
    }
   ],
   "source": [
    "search_tool.invoke(\"latest news for asia cup?\")"
   ]
  },
  {
   "cell_type": "code",
   "execution_count": 11,
   "id": "b2b83287",
   "metadata": {},
   "outputs": [],
   "source": [
    "tools = [calculator, search_tool]"
   ]
  },
  {
   "cell_type": "code",
   "execution_count": 12,
   "id": "76e8d7ce",
   "metadata": {},
   "outputs": [],
   "source": [
    "llm_with_tools = llm.bind_tools(tools)"
   ]
  },
  {
   "cell_type": "code",
   "execution_count": 26,
   "id": "b8aea72e",
   "metadata": {},
   "outputs": [
    {
     "name": "stdout",
     "output_type": "stream",
     "text": [
      "Tool response:\n",
      "\n"
     ]
    }
   ],
   "source": [
    "response = llm_with_tools.invoke(\"What is 2 + 3 ?\")\n",
    "print(\"Tool response:\")\n",
    "print(response.content)"
   ]
  },
  {
   "cell_type": "code",
   "execution_count": 27,
   "id": "cb7096b3",
   "metadata": {},
   "outputs": [
    {
     "data": {
      "text/plain": [
       "AIMessage(content='', additional_kwargs={'tool_calls': [{'id': 'call_6oxM0EEhBvfZaSnp5PnJFeNw', 'function': {'arguments': '{\"expression\":\"2 + 3\"}', 'name': 'calculator'}, 'type': 'function'}], 'refusal': None}, response_metadata={'token_usage': {'completion_tokens': 17, 'prompt_tokens': 1367, 'total_tokens': 1384, 'completion_tokens_details': {'accepted_prediction_tokens': 0, 'audio_tokens': 0, 'reasoning_tokens': 0, 'rejected_prediction_tokens': 0}, 'prompt_tokens_details': {'audio_tokens': 0, 'cached_tokens': 0}}, 'model_name': 'gpt-3.5-turbo-0125', 'system_fingerprint': None, 'id': 'chatcmpl-CFas3dPfh1MgChJNHXhF2fTphH67U', 'service_tier': 'default', 'finish_reason': 'tool_calls', 'logprobs': None}, id='run--343c9f1c-b2ce-4419-be41-55ae55f5f7b3-0', tool_calls=[{'name': 'calculator', 'args': {'expression': '2 + 3'}, 'id': 'call_6oxM0EEhBvfZaSnp5PnJFeNw', 'type': 'tool_call'}], usage_metadata={'input_tokens': 1367, 'output_tokens': 17, 'total_tokens': 1384, 'input_token_details': {'audio': 0, 'cache_read': 0}, 'output_token_details': {'audio': 0, 'reasoning': 0}})"
      ]
     },
     "execution_count": 27,
     "metadata": {},
     "output_type": "execute_result"
    }
   ],
   "source": [
    "response"
   ]
  },
  {
   "cell_type": "code",
   "execution_count": 28,
   "id": "d417939b",
   "metadata": {},
   "outputs": [],
   "source": [
    "def handle_tool_calls(response, tool_map):\n",
    "    if not getattr(response, 'tool_calls', None):\n",
    "        return\n",
    "\n",
    "    for tool_call in response.tool_calls:\n",
    "        tool_name = tool_call['name']\n",
    "        args = tool_call['args']\n",
    "        tool = tool_map.get(tool_name)\n",
    "        if tool:\n",
    "            result = tool.invoke(args)\n",
    "            print(f\"Tool result: {result}\")"
   ]
  },
  {
   "cell_type": "code",
   "execution_count": 33,
   "id": "8ab6d2c5",
   "metadata": {},
   "outputs": [
    {
     "name": "stdout",
     "output_type": "stream",
     "text": [
      "\n",
      "Tool result: The result of 25 * 4 + 17 is 117\n",
      "\n"
     ]
    }
   ],
   "source": [
    "tool_map = {\n",
    "    'calculator': calculator,\n",
    "    'duckduckgo_search': search_tool,\n",
    "}\n",
    "\n",
    "def test_llm_tool(query):\n",
    "    response = llm_with_tools.invoke(query)\n",
    "    print(response.content)\n",
    "    handle_tool_calls(response, tool_map)\n",
    "\n",
    "# Run some queries\n",
    "test_llm_tool(\"What's 25 * 4 + 17?\")\n",
    "test_llm_tool(\"Latest news for asia cup cricket?\")"
   ]
  },
  {
   "cell_type": "markdown",
   "id": "c444f916",
   "metadata": {},
   "source": [
    "#### Building a Basic LangGraph Chatbot"
   ]
  },
  {
   "cell_type": "code",
   "execution_count": 37,
   "id": "fae38830",
   "metadata": {},
   "outputs": [],
   "source": [
    "from typing import TypedDict, Annotated\n",
    "from langchain_core.messages import BaseMessage, HumanMessage, SystemMessage\n",
    "from langgraph.graph.message import add_messages"
   ]
  },
  {
   "cell_type": "code",
   "execution_count": 39,
   "id": "0a939f1b",
   "metadata": {},
   "outputs": [],
   "source": [
    "class State(TypedDict):\n",
    "    messages: Annotated[list[BaseMessage], add_messages]"
   ]
  },
  {
   "cell_type": "code",
   "execution_count": null,
   "id": "f37bcb60",
   "metadata": {},
   "outputs": [],
   "source": [
    "def chat_node(state: State) -> State:\n",
    "    response = llm.invoke(state['messages'])\n",
    "    return {\"messages\":[response]}"
   ]
  },
  {
   "cell_type": "code",
   "execution_count": 41,
   "id": "cbad2fb3",
   "metadata": {},
   "outputs": [],
   "source": [
    "from langgraph.graph import StateGraph, START, END "
   ]
  },
  {
   "cell_type": "code",
   "execution_count": 42,
   "id": "39a9fe7a",
   "metadata": {},
   "outputs": [],
   "source": [
    "graph_builder = StateGraph(State)\n",
    "\n",
    "graph_builder.add_node(\"chat\", chat_node)\n",
    "\n",
    "graph_builder.add_edge(START, \"chat\")\n",
    "graph_builder.add_edge(\"chat\", END)\n",
    "\n",
    "\n",
    "graph = graph_builder.compile()"
   ]
  },
  {
   "cell_type": "code",
   "execution_count": 46,
   "id": "fbd86de9",
   "metadata": {},
   "outputs": [
    {
     "data": {
      "image/png": "[encoded data removed]",
      "text/plain": [
       "<IPython.core.display.Image object>"
      ]
     },
     "metadata": {},
     "output_type": "display_data"
    }
   ],
   "source": [
    "from IPython.display import Image, display\n",
    "\n",
    "try:\n",
    "    display(Image(graph.get_graph().draw_mermaid_png()))\n",
    "    \n",
    "except Exception as e:\n",
    "    raise"
   ]
  },
  {
   "cell_type": "code",
   "execution_count": 48,
   "id": "05039600",
   "metadata": {},
   "outputs": [
    {
     "data": {
      "text/plain": [
       "{'messages': [HumanMessage(content='Hi', additional_kwargs={}, response_metadata={}, id='fdaca91e-ba4d-4c9a-b8de-3a2016d4ab67'),\n",
       "  AIMessage(content='Hello! How can I assist you today?', additional_kwargs={'refusal': None}, response_metadata={'token_usage': {'completion_tokens': 9, 'prompt_tokens': 8, 'total_tokens': 17, 'completion_tokens_details': {'accepted_prediction_tokens': 0, 'audio_tokens': 0, 'reasoning_tokens': 0, 'rejected_prediction_tokens': 0}, 'prompt_tokens_details': {'audio_tokens': 0, 'cached_tokens': 0}}, 'model_name': 'gpt-3.5-turbo-0125', 'system_fingerprint': None, 'id': 'chatcmpl-CFhQxgbD8Ecq4MZKdsLqV1cGiVL3r', 'service_tier': 'default', 'finish_reason': 'stop', 'logprobs': None}, id='run--341c7c2b-cb8b-481c-94c9-6f3cc8f903e9-0', usage_metadata={'input_tokens': 8, 'output_tokens': 9, 'total_tokens': 17, 'input_token_details': {'audio': 0, 'cache_read': 0}, 'output_token_details': {'audio': 0, 'reasoning': 0}})]}"
      ]
     },
     "execution_count": 48,
     "metadata": {},
     "output_type": "execute_result"
    }
   ],
   "source": [
    "graph.invoke({\n",
    "    \"messages\":HumanMessage(\"Hi\")\n",
    "})"
   ]
  },
  {
   "cell_type": "code",
   "execution_count": null,
   "id": "43861f38",
   "metadata": {},
   "outputs": [],
   "source": [
    "def test_chatbot(message:str) -> str:\n",
    "    response = graph.invoke({\"messages\": HumanMessage(content=message)})\n",
    "    print(f\"Assistance: {response['messages'][-1].content}\")\n",
    "    "
   ]
  },
  {
   "cell_type": "code",
   "execution_count": 50,
   "id": "0950628e",
   "metadata": {},
   "outputs": [
    {
     "name": "stdout",
     "output_type": "stream",
     "text": [
      "Assistance Hello Pasindu! How can I assist you today?\n",
      "Assistance I'm sorry, but I am not capable of remembering individual users. I am a language model AI and do not have the ability to store personal information. How can I assist you today?\n"
     ]
    }
   ],
   "source": [
    "test_chatbot(\"Hi, I am pasindu.\")\n",
    "test_chatbot(\"Do you remember me?\")"
   ]
  },
  {
   "cell_type": "markdown",
   "id": "8f1e0121",
   "metadata": {},
   "source": [
    "#### Adding Memory to the Chatbot"
   ]
  },
  {
   "cell_type": "code",
   "execution_count": 53,
   "id": "308e3bbd",
   "metadata": {},
   "outputs": [],
   "source": [
    "from langgraph.checkpoint.memory import MemorySaver\n",
    "\n",
    "memory = MemorySaver()"
   ]
  },
  {
   "cell_type": "code",
   "execution_count": 54,
   "id": "410add5f",
   "metadata": {},
   "outputs": [],
   "source": [
    "graph_with_memory = graph_builder.compile(checkpointer=memory)"
   ]
  },
  {
   "cell_type": "code",
   "execution_count": 55,
   "id": "f30ca4e7",
   "metadata": {},
   "outputs": [
    {
     "name": "stdout",
     "output_type": "stream",
     "text": [
      "🤖 Assistant: Hello Pasindu, how can I assist you today?\n",
      "🤖 Assistant: Your name is Pasindu.\n"
     ]
    }
   ],
   "source": [
    "def chat_with_memory(message: str, thread_id: str):\n",
    "    config = {\"configurable\": {\"thread_id\": thread_id}}\n",
    "    initial_state = {\"messages\": [HumanMessage(content=message)]}\n",
    "    result = graph_with_memory.invoke(initial_state, config)\n",
    "    print(\"🤖 Assistant:\", result[\"messages\"][-1].content)\n",
    "\n",
    "# Start a conversation\n",
    "chat_with_memory(\"Hi, my name is Pasindu\", thread_id=\"thread-1\")\n",
    "chat_with_memory(\"What's my name?\", thread_id=\"thread-1\")\n"
   ]
  },
  {
   "cell_type": "markdown",
   "id": "5162c8ab",
   "metadata": {},
   "source": [
    "#### LangGraph Agent with Tools"
   ]
  },
  {
   "cell_type": "code",
   "execution_count": 9,
   "id": "8e5dae75",
   "metadata": {},
   "outputs": [],
   "source": [
    "from typing import Annotated, TypedDict \n",
    "from langgraph.graph.message import add_messages\n",
    "from langchain_core.messages import BaseMessage\n",
    "\n",
    "\n",
    "class AgentState(TypedDict):\n",
    "    messages: Annotated[list[BaseMessage], add_messages]"
   ]
  },
  {
   "cell_type": "code",
   "execution_count": null,
   "id": "88d91bce",
   "metadata": {},
   "outputs": [],
   "source": [
    "from langchain_core.tools import tool\n",
    "from langchain_tavily import TavilySearch\n",
    "\n",
    "@tool\n",
    "def calculator(expression:str) -> str:\n",
    "    \"\"\"Calculate mathematical expression. Use this for any math calculations.\"\"\"\n",
    "    try:\n",
    "        result = eval(expression)\n",
    "        return f\"The result of {expression} is {result}\"\n",
    "    except Exception as e:\n",
    "        return f\"Error calculation {expression}: {e}\"\n",
    "    \n",
    "    \n",
    "search_tool = TavilySearch(max_results=2)"
   ]
  },
  {
   "cell_type": "code",
   "execution_count": 13,
   "id": "2b3f638b",
   "metadata": {},
   "outputs": [],
   "source": [
    "tools = [calculator, search_tool]"
   ]
  },
  {
   "cell_type": "code",
   "execution_count": 14,
   "id": "04b9cadf",
   "metadata": {},
   "outputs": [],
   "source": [
    "llm = ChatOpenAI(model='gpt-4.1-mini')\n",
    "llm_with_tools = llm.bind_tools(tools)"
   ]
  },
  {
   "cell_type": "code",
   "execution_count": 15,
   "id": "a3003d32",
   "metadata": {},
   "outputs": [],
   "source": [
    "def chat_node(state: AgentState) -> AgentState:\n",
    "    \"\"\"Answer directly or request tool\"\"\"\n",
    "    system_message = (\n",
    "        \"You are a helpful assistant.\\n\"\n",
    "        \"Use the `web_search` tool for real‑time facts and `calculator` for maths.\\n\"\n",
    "        \"Otherwise answer directly.\"\n",
    "    )\n",
    "    \n",
    "    messages = [\n",
    "        {\"role\":\"system\", \"content\": system_message},\n",
    "        *state['messages']\n",
    "    ]\n",
    "    \n",
    "    result = llm_with_tools.invoke(messages)\n",
    "    \n",
    "    return {\"messages\":[result]}"
   ]
  },
  {
   "cell_type": "code",
   "execution_count": 16,
   "id": "29949f98",
   "metadata": {},
   "outputs": [],
   "source": [
    "from langgraph.prebuilt import ToolNode \n",
    "\n",
    "tool_node = ToolNode(tools)"
   ]
  },
  {
   "cell_type": "code",
   "execution_count": 17,
   "id": "1c8ccb84",
   "metadata": {},
   "outputs": [],
   "source": [
    "from typing import Literal\n",
    "\n",
    "def should_continue(state: AgentState) -> Literal['tool','end']:\n",
    "    last = state['messages'][-1]\n",
    "    return 'tool' if getattr(last, 'tool_calls', None) else 'end'"
   ]
  },
  {
   "cell_type": "code",
   "execution_count": 18,
   "id": "3faf1647",
   "metadata": {},
   "outputs": [],
   "source": [
    "from langgraph.graph import StateGraph, START, END\n",
    "from langgraph.checkpoint.memory import MemorySaver"
   ]
  },
  {
   "cell_type": "code",
   "execution_count": 19,
   "id": "d3eece35",
   "metadata": {},
   "outputs": [],
   "source": [
    "memory = MemorySaver()"
   ]
  },
  {
   "cell_type": "code",
   "execution_count": 27,
   "id": "5f03b5d3",
   "metadata": {},
   "outputs": [],
   "source": [
    "graph_builder = StateGraph(AgentState)\n",
    "\n",
    "graph_builder.add_node(\"chatbot\", chat_node)\n",
    "graph_builder.add_node('tools_node', tool_node)\n",
    "\n",
    "graph_builder.add_edge(START, \"chatbot\")\n",
    "graph_builder.add_conditional_edges(\"chatbot\", should_continue, {'tool':'tools_node', 'end':END})\n",
    "graph_builder.add_edge(\"tools_node\",\"chatbot\")\n",
    "\n",
    "graph = graph_builder.compile(checkpointer=memory)"
   ]
  },
  {
   "cell_type": "code",
   "execution_count": 28,
   "id": "3aa96c49",
   "metadata": {},
   "outputs": [
    {
     "data": {
      "image/png": "[encoded data removed]",
      "text/plain": [
       "<IPython.core.display.Image object>"
      ]
     },
     "metadata": {},
     "output_type": "display_data"
    }
   ],
   "source": [
    "from IPython.display import Image, display\n",
    "\n",
    "try:\n",
    "    display(Image(graph.get_graph().draw_mermaid_png()))\n",
    "    \n",
    "except Exception as e:\n",
    "    raise"
   ]
  },
  {
   "cell_type": "code",
   "execution_count": 30,
   "id": "346d1b96",
   "metadata": {},
   "outputs": [
    {
     "name": "stdout",
     "output_type": "stream",
     "text": [
      "15% of 240 is 36.\n",
      "Here are some recent news updates about artificial intelligence:\n",
      "\n",
      "1. Xiaomi has announced a next-generation AI voice model optimized for in-car and smart home experiences. This model features faster response times and can operate offline. You can read more about this on Crescendo.ai: [Latest AI News and Breakthroughs](https://www.crescendo.ai/news/latest-ai-news-and-updates).\n",
      "\n",
      "2. SoftBank's chief mentioned that Artificial Super Intelligence (ASI) could be here within the next 10 years, emphasizing the rapid advancement in AI. Additionally, Malaysia has launched its first AI-powered bank called Ryt Bank. Google has introduced Veo 3 AI video creation tools. More details are available at ArtificialIntelligence-News.com: [AI News, Analysis & Events](https://www.artificialintelligence-news.com/). \n",
      "\n",
      "If you'd like more detailed information on any of these topics, feel free to ask!\n"
     ]
    }
   ],
   "source": [
    "from langchain_core.messages import HumanMessage\n",
    "\n",
    "def chat_with_agent(msg: str, thread_id=\"1\"):\n",
    "    cfg = {\"configurable\": {\"thread_id\": thread_id}}\n",
    "    state = {\"messages\": [HumanMessage(content=msg)]}\n",
    "    result = graph.invoke(state, cfg)\n",
    "    print(result[\"messages\"][-1].content)\n",
    "\n",
    "chat_with_agent(\"What's 15% of 240?\")\n",
    "chat_with_agent(\"Search for recent news about artificial intelligence\")"
   ]
  },
  {
   "cell_type": "code",
   "execution_count": 31,
   "id": "4d4d43c4",
   "metadata": {},
   "outputs": [
    {
     "name": "stdout",
     "output_type": "stream",
     "text": [
      "Xiaomi has announced a next-generation AI voice model that is optimized for use in in-car and smart home experiences. This new AI voice model features faster response times and has the capability to operate offline, enhancing convenience and functionality in these environments.\n"
     ]
    }
   ],
   "source": [
    "chat_with_agent(\"what Xiaomi has announced?\")"
   ]
  },
  {
   "cell_type": "markdown",
   "id": "60bd2dc4",
   "metadata": {},
   "source": [
    "#### LangGraph RAG Agent"
   ]
  },
  {
   "cell_type": "code",
   "execution_count": 7,
   "id": "a6cd161f",
   "metadata": {},
   "outputs": [],
   "source": [
    "import os\n",
    "from pathlib import Path\n",
    "from typing import List\n",
    "\n",
    "from langchain_community.document_loaders import (\n",
    "    PyPDFLoader, Docx2txtLoader, TextLoader, UnstructuredMarkdownLoader\n",
    ")\n",
    "from langchain_community.document_loaders.directory import DirectoryLoader\n",
    "from langchain_core.documents import Document\n",
    "\n",
    "from langchain_text_splitters import RecursiveCharacterTextSplitter\n",
    "from langchain_openai import OpenAIEmbeddings\n",
    "from langchain_community.vectorstores import Chroma"
   ]
  },
  {
   "cell_type": "code",
   "execution_count": 2,
   "id": "39208b29",
   "metadata": {},
   "outputs": [],
   "source": [
    "SOURCE_DIR   = Path(\"docs\")          # put your files here\n",
    "INDEX_DIR    = Path(\"chroma_db_1\")   # will be created if missing\n",
    "EMBED_MODEL  = \"text-embedding-3-small\""
   ]
  },
  {
   "cell_type": "code",
   "execution_count": 21,
   "id": "76dafc41",
   "metadata": {},
   "outputs": [],
   "source": [
    "# # Load docs (keep only pdf/docx for brevity)\n",
    "# docs = []\n",
    "# for f in SOURCE_DIR.glob(\"*.*\"):\n",
    "#     if f.suffix == \".pdf\":\n",
    "#         docs += PyPDFLoader(str(f)).load()\n",
    "#     elif f.suffix == \".docx\":\n",
    "#         docs += Docx2txtLoader(str(f)).load()\n",
    "        \n",
    "def load_documents(folder_path:str) -> List[Document]:\n",
    "    \"\"\"load documents in the folder\"\"\"\n",
    "    documents = []\n",
    "    for files in Path(folder_path).glob(\"*.*\"):\n",
    "        if files.suffix == \".pdf\":\n",
    "            loader = PyPDFLoader(str(files))\n",
    "        elif files.suffix == \".docx\":\n",
    "            loader = Docx2txtLoader(str(files))\n",
    "        elif files.suffix == \".md\":\n",
    "            loader = UnstructuredMarkdownLoader(str(files))\n",
    "        elif files.suffix == \".txt\":\n",
    "            loader = TextLoader(str(files))\n",
    "        else:\n",
    "            print(f\"Unsupported file type: {files}\")\n",
    "            continue\n",
    "        documents.extend(loader.load())\n",
    "    return documents   "
   ]
  },
  {
   "cell_type": "code",
   "execution_count": 22,
   "id": "b528004b",
   "metadata": {},
   "outputs": [
    {
     "name": "stdout",
     "output_type": "stream",
     "text": [
      "Loaded 9 from directory: docs\n"
     ]
    }
   ],
   "source": [
    "documents = load_documents(SOURCE_DIR)\n",
    "print(f\"Loaded {len(documents)} from directory: {str(SOURCE_DIR)}\")"
   ]
  },
  {
   "cell_type": "code",
   "execution_count": 23,
   "id": "963648e4",
   "metadata": {},
   "outputs": [
    {
     "data": {
      "text/plain": [
       "[Document(metadata={'producer': 'PyFPDF 1.7.2 http://pyfpdf.googlecode.com/', 'creator': 'PyPDF', 'creationdate': 'D:20250411184712', 'source': 'docs\\\\Stock_Market_Performance_2024.pdf', 'total_pages': 9, 'page': 0, 'page_label': '1'}, page_content='Stock Market Performance in 2024\\nU.S. Market Overview\\nThe year 2024 was a remarkably strong one for equities, with the U.S. stock market extending the\\nrobust gains seen in the prior year. The benchmark S&P 500 index delivered roughly a 25% total\\nreturn for 2024 (around +23% in price terms)\\n. This marked the second consecutive year of over 20% returns for the S&P 500 - a feat not\\nobserved since the late 1990s\\n. The tech-heavy Nasdaq Composite outpaced the broader market, jumping nearly 29% for the year\\n. In contrast, smaller-cap stocks had more modest performance: the S&P 500 Equal-Weight index\\nand the Russell 2000 (small-cap benchmark) each rose about 10-11% in 2024\\n. The disparity underscored that 2024\\'s rally was not evenly distributed across the market. A key\\ntheme was the dominance of mega-cap technology stocks. A group of seven powerhouse\\ncompanies often dubbed the \"Magnificent 7\" - Apple, Microsoft, Alphabet (Google), Amazon, Meta\\n(Facebook), Nvidia, and Tesla - collectively surged by roughly 64-67% on average in 2024\\n. These few firms contributed disproportionately to the S&P 500\\'s gains. In fact, they accounted for\\nover half of the index\\'s return for the year (about 54% of S&P 500 performance)\\n. By year\\'s end, many of these leaders had reached record-high share prices amid investor\\nenthusiasm for transformative technologies like artificial intelligence (AI). Meanwhile, more\\ntraditional and value-oriented sectors lagged behind, and many diversified portfolios trailed the\\nS&P\\'s 25% gain as a result\\n. Overall, 2024\\'s market climate was one of bullish sentiment driven by technology and growth\\nstocks, albeit with narrow market breadth focused on the largest companies.\\nMajor Tech Stock Performances\\nApple Inc. (AAPL) - 2024 Performance'),\n",
       " Document(metadata={'producer': 'PyFPDF 1.7.2 http://pyfpdf.googlecode.com/', 'creator': 'PyPDF', 'creationdate': 'D:20250411184712', 'source': 'docs\\\\Stock_Market_Performance_2024.pdf', 'total_pages': 9, 'page': 1, 'page_label': '2'}, page_content='Apple\\'s stock had an outstanding 2024, climbing approximately 36% over the course of the year\\n. The iPhone maker\\'s share price reached new all-time highs, ending the year around $252 per\\nshare (up from about $185 at the start of 2024). This rally lifted Apple\\'s market capitalization to\\nnearly $4 trillion by year-end\\n, reaffirming its status as the world\\'s most valuable publicly traded company. Apple\\'s gains were\\ndriven by solid demand for its products - the company saw successful launches of the iPhone 15\\nseries and other hardware updates - as well as continued growth in high-margin services. The\\ncompany also expanded its presence in emerging markets, fueling investor optimism about future\\ngrowth. Despite only moderate earnings increases in 2024 (Apple\\'s net income grew in the high\\nsingle digits), the stock\\'s rapid appreciation led to an expansion in valuation. By the end of 2024\\nApple was trading at about 40 times its trailing earnings\\nmacrotrends.net\\n, well above its historical average P/E in the mid-20s. This elevated P/E ratio reflected substantial\\noptimism from investors and a willingness to pay a premium for Apple\\'s steady cash flows and\\necosystem advantages. In short, Apple\\'s combination of robust stock price growth and relatively\\nmodest earnings growth pushed its valuation to a lofty level going into 2025.\\nAlphabet (Google) (GOOGL) - 2024 Performance\\nAlphabet Inc., the parent of Google, also delivered strong results for shareholders in 2024.\\nAlphabet\\'s stock price rose by nearly 40% over the year\\n, closing around $189 per share - close to record highs for the company. This performance added\\nroughly $600 billion in market value, pushing Alphabet\\'s market capitalization above $2 trillion by\\nDecember 2024. Key to this rally was Alphabet\\'s core strength in digital advertising (still a major\\nrevenue driver) and its strides in artificial intelligence. The company demonstrated innovation in AI,\\nincluding the introduction of its Gemini 2.0 AI model and breakthroughs in quantum computing chips\\n, which reassured investors that Google \"still has its mojo\" in the evolving tech landscape. Google\\'s\\ncloud computing division also continued to grow, contributing to the overall positive sentiment'),\n",
       " Document(metadata={'producer': 'PyFPDF 1.7.2 http://pyfpdf.googlecode.com/', 'creator': 'PyPDF', 'creationdate': 'D:20250411184712', 'source': 'docs\\\\Stock_Market_Performance_2024.pdf', 'total_pages': 9, 'page': 2, 'page_label': '3'}, page_content=\". Alphabet's financial results helped justify its stock gains. The company's revenues and earnings\\nsaw healthy growth in 2024, thanks to a rebound in ad spending and efficiency efforts. By year-end,\\nAlphabet's valuation remained relatively reasonable compared to its peers - about 23× trailing\\nearnings\\nmacrotrends.net\\n. This was roughly unchanged from its P/E a year prior, indicating that Alphabet's ~36% stock price\\nincrease was largely matched by an increase in its earnings over the same period. In summary,\\nGoogle's parent company enjoyed a robust 2024 rally built on both improved fundamentals and\\ninvestor excitement about its leadership in AI and technology innovation.\\nAmazon.com Inc. (AMZN) - 2024 Performance\\nAmazon's stock staged an impressive rebound in 2024, advancing roughly 48% for the year\\n. The e-commerce and cloud computing giant saw its share price rise from about $152 at the end of\\n2023 to around $219 by December 2024\\nmacrotrends.net\\n. This surge added on the order of $600-700 billion to Amazon's market capitalization, bringing it\\nback into the vicinity of $1.7-$1.8 trillion. Multiple factors drove Amazon's strong performance. On\\nthe retail side, demand remained solid - Amazon's online shopping volumes and Prime membership\\nbase continued to grow, even as consumers navigated a post-pandemic environment. Meanwhile,\\nAmazon Web Services (AWS), the company's cloud division, maintained its leadership and high\\nprofitability in the cloud computing market, benefiting from the digital transformation and AI needs of\\nbusinesses. These dual engines (e-commerce and cloud) reassured investors of Amazon's\\nlong-term growth trajectory. Crucially, Amazon's earnings improved significantly in 2024 after a\\nslump in 2022-2023. Cost cutting and efficiency measures, along with revenue growth, led to a\\nsharp rise in operating income. By the end of 2024, Amazon's trailing price-to-earnings ratio had\\ndeclined to about 40\\nmacrotrends.net\\n - down from a very elevated ~52 P/E at the end of 2023 - reflecting the fact that earnings rose faster\"),\n",
       " Document(metadata={'producer': 'PyFPDF 1.7.2 http://pyfpdf.googlecode.com/', 'creator': 'PyPDF', 'creationdate': 'D:20250411184712', 'source': 'docs\\\\Stock_Market_Performance_2024.pdf', 'total_pages': 9, 'page': 3, 'page_label': '4'}, page_content='than the stock price. Even at 40× earnings, Amazon\\'s valuation was still on the higher side\\ncompared to the broader market, but investors seemed comfortable paying a premium for its\\ndominant market positions. Overall, 2024 marked a return to form for Amazon\\'s stock, as the\\ncompany regained its footing with investors and recouped a substantial portion of the market value it\\nhad lost in the prior year.\\nMeta Platforms (Facebook) (META) - 2024 Performance\\nMeta Platforms, the parent company of Facebook, Instagram, and WhatsApp, was one of 2024\\'s\\nstandout performers. Meta\\'s stock price skyrocketed about 72% during the year\\n, making it one of the best-performing large-cap stocks. The share price surged from roughly $352 at\\nthe end of 2023 to around $585 by December 2024\\nmacrotrends.net\\n. In the process, Meta\\'s market capitalization climbed back above the $1 trillion threshold - a\\nremarkable turnaround after the company\\'s challenges just two years prior. Several catalysts\\npowered Meta\\'s rally. The company\\'s core advertising business recovered strongly, with 2024\\nadvertising revenue reaching roughly $160 billion, about 22% higher than the prior year\\n. Meta\\'s focus on cost discipline and efficiency (following its \"Year of Efficiency\" initiatives) led to\\ndramatically improved profitability: full-year earnings jumped approximately 60% year-over-year\\n. These better-than-expected results, combined with enthusiasm for Meta\\'s investments in artificial\\nintelligence (to improve content delivery and ad targeting), boosted investor confidence. By year\\'s\\nend, Meta\\'s valuation remained quite reasonable despite the stock nearly doubling. Thanks to its\\nsurge in earnings, Meta\\'s trailing P/E ratio was only in the mid-20s at the end of 2024\\nmacrotrends.net\\n - only slightly higher than its P/E a year prior and generally in line with the broader market. In other\\nwords, Meta\\'s huge stock price increase was underpinned by equally impressive earnings growth,\\nkeeping its valuation multiples in check. This combination of value and growth made Meta an outlier\\namong mega-cap tech stocks. The company did continue heavy spending on its metaverse and\\nvirtual reality initiatives (Reality Labs), but investors largely looked past those losses in 2024,'),\n",
       " Document(metadata={'producer': 'PyFPDF 1.7.2 http://pyfpdf.googlecode.com/', 'creator': 'PyPDF', 'creationdate': 'D:20250411184712', 'source': 'docs\\\\Stock_Market_Performance_2024.pdf', 'total_pages': 9, 'page': 4, 'page_label': '5'}, page_content=\"focusing instead on the core business rebound and the exciting potential for new AI-driven features.\\nMeta's 72% stock gain underscored a broader trend in 2024: a return to favor for online advertising\\nand social media companies, especially those that managed to significantly boost their earnings and\\ncash flow.\\nTesla, Inc. (TSLA) - 2024 Performance\\nTesla's stock experienced a roller-coaster year in 2024, but ultimately delivered strong gains. The\\nelectric vehicle leader's share price ended the year up approximately 63%\\n. This sizable annual rise belies the volatility Tesla faced during the year: in the first half of 2024,\\nTesla's stock actually declined amid concerns about slowing EV demand and tighter profit margins.\\nBy mid-year, shares were down substantially from their late-2023 levels, as the company cut vehicle\\nprices to stoke demand (pressuring its margins). However, the trend reversed dramatically in the\\nfinal months of 2024. Virtually all of Tesla's yearly gains came in the fourth quarter, with the stock\\nskyrocketing after the U.S. presidential election in November 2024\\n. The election outcome (which resulted in a more business-friendly administration) bolstered market\\nsentiment, particularly for high-growth and tech names. Tesla's shares rallied sharply on this wave\\nof optimism, and on hopes that economic conditions in 2025 would allow for renewed demand and\\npricing power in the EV market. By December 2024, Tesla's stock was trading near record highs. It\\nbriefly touched an all-time closing high of around $480 per share in mid-December\\nmacrotrends.net\\n, doubling from its lows earlier in the year. At its year-end price (in the low $400s), Tesla's market\\ncapitalization was in excess of $1.2 trillion - firmly cementing its status as one of the most valuable\\nautomakers in history. However, Tesla's fundamentals in 2024 did not rise in tandem with its stock\\nprice. In fact, the company's earnings per share for the full year 2024 fell by over 50% compared to\\n2023\\nmacrotrends.net\\n. Higher costs and the impact of vehicle price reductions meant Tesla's profit margins and net\\nincome declined even as unit sales grew. The result was that Tesla's valuation became even more\"),\n",
       " Document(metadata={'producer': 'PyFPDF 1.7.2 http://pyfpdf.googlecode.com/', 'creator': 'PyPDF', 'creationdate': 'D:20250411184712', 'source': 'docs\\\\Stock_Market_Performance_2024.pdf', 'total_pages': 9, 'page': 5, 'page_label': '6'}, page_content=\"stretched: by the end of 2024, the stock was trading at well over 100 times its trailing earnings (a\\nrough estimate, as the company's EPS for the year was around $2) - an extremely high multiple\\nmacrotrends.net\\n. This disconnect between Tesla's soaring share price and its shrinking earnings was noted by\\nanalysts as a risk factor. Nonetheless, 2024 demonstrated the market's willingness to bet on Tesla's\\nlong-term growth story (in areas like autonomous driving, energy storage, and global EV adoption),\\neven if in the short term the financial results did not justify the exuberant stock price. Tesla's 63%\\ngain was a significant contributor to the S&P 500's performance and exemplified the late-year\\nrisk-on fervor that characterized the market's finish to 2024.\\nHigh-Growth Tech Startups and Noteworthy Stock Movers\\nBeyond the established giants, 2024 also featured eye-popping gains in a number of high-growth\\ntech companies and recent startups, both in the U.S. and internationally. Perhaps the most striking\\nexample was Palantir Technologies (PLTR), a data analytics and AI software firm. Palantir's stock\\nsoared by about 340% in 2024, making it the single best-performing stock in the S&P 500 index for\\nthe year\\n. Palantir began 2024 at a relatively low base (its shares had languished in prior years), but investor\\nsentiment flipped dramatically as the company showed its first profitable quarters and positioned\\nitself as a key player in artificial intelligence for government and enterprise. By the end of 2024,\\nPalantir's share price had climbed into the mid-$20s from single-digit levels a year earlier. This\\nenormous rally was fueled in part by excitement over Palantir's AI platforms and speculation that\\nincreased government spending on defense and data intelligence (in a more geopolitically tense\\nenvironment) would benefit the company. It's worth noting that a considerable portion of Palantir's\\n2024 gains came late in the year, during the broad tech rally in Q4. The stock, however, remained\\nvolatile, and its valuation by year-end - well above 20 times sales - reflected very high expectations\\nfor future growth. Another notable high-growth winner was IonQ (IONQ), a U.S.-based quantum\\ncomputing startup. IonQ's stock price finished 2024 up about 237% for the year\\n. Investors bid up IonQ shares aggressively as the company reported technical progress in its\"),\n",
       " Document(metadata={'producer': 'PyFPDF 1.7.2 http://pyfpdf.googlecode.com/', 'creator': 'PyPDF', 'creationdate': 'D:20250411184712', 'source': 'docs\\\\Stock_Market_Performance_2024.pdf', 'total_pages': 9, 'page': 6, 'page_label': '7'}, page_content=\"quantum computing systems and as interest in quantum technology spiked following some\\nhigh-profile breakthroughs (including those touted by larger firms like Alphabet's quantum unit).\\nIonQ's revenue, while still very small (tens of millions of dollars), nearly doubled in 2024, and the\\ncompany raised its future outlook - factors which contributed to the stock's surge. Like many\\nearly-stage tech firms, IonQ remained unprofitable, but in 2024 the market showed a willingness to\\noverlook current losses and focus on the long-term potential of quantum computing. By year-end,\\nIonQ's market cap had swelled to several billion dollars, a sign of the speculative fervor in certain\\nniche tech areas. It's worth mentioning that IonQ shares experienced a steep pullback in early 2025\\nafter their 2024 run-up, illustrating the risk that accompanies such explosive stock moves\\n. Still, in the context of 2024, IonQ was a prime example of how smaller tech innovators rode the\\nwave of optimism around next-generation technologies. On the international front, one of the most\\nsignificant tech stock stories was Arm Holdings (ARM). Arm, a British-based semiconductor IP and\\nchip design company, returned to the public markets with a highly anticipated IPO in late 2023. In\\n2024, Arm's stock gained about 64% for the full year\\n, as investors rallied around its unique position in the chip industry. Arm's designs are used in\\nvirtually all smartphone processors and increasingly in data center and AI accelerators, giving it a\\ncritical role in the semiconductor ecosystem. The stock's strong performance in 2024 - it rose from\\nits IPO price in the low $50s to around $80-$90 by year-end - was driven by optimism about Arm's\\ngrowth prospects in AI, Internet-of-Things devices, and automotive chips. Notably, Arm's share price\\nmore than doubled in the first half of 2024 amid a burst of post-IPO enthusiasm, though it later\\nsettled back after some profit-taking\\n. By the end of the year, Arm's market capitalization was around $120 billion, making it one of the\\nlargest tech companies in Europe. Its successful debut and stock climb underscored how global the\\n2024 tech boom was - extending beyond U.S. borders to include major players in Europe and Asia.\\nIn addition to these, many other tech stocks saw remarkable climbs in 2024. The AI boom was a\\nrising tide that lifted numerous boats. For instance, Nvidia - while not a startup but certainly a\"),\n",
       " Document(metadata={'producer': 'PyFPDF 1.7.2 http://pyfpdf.googlecode.com/', 'creator': 'PyPDF', 'creationdate': 'D:20250411184712', 'source': 'docs\\\\Stock_Market_Performance_2024.pdf', 'total_pages': 9, 'page': 7, 'page_label': '8'}, page_content='high-growth company - saw its stock skyrocket by approximately 170% in 2024 on the back of\\ninsatiable demand for its AI-focused chips\\n. This contributed enormously to its market value (which hit $1+ trillion) and exemplified the market\\'s\\nenthusiasm for AI beneficiaries. Even some long-established companies outside the traditional \"Big\\nTech\" roster enjoyed tech-fueled rallies; for example, Netflix (a communication services/tech hybrid)\\nsaw its stock price nearly double (+92% in 2024) as it found success with a new ad-supported\\nstreaming tier and password-sharing crackdowns\\n. On the other hand, not every tech name soared - Chinese technology giants like Alibaba and\\nTencent, for example, had relatively muted stock performance in 2024 amid regulatory and\\neconomic headwinds in China. But broadly speaking, investors in 2024 rewarded any companies\\nwith strong growth narratives, especially those tied to transformational tech trends such as artificial\\nintelligence, cloud computing, and quantum technology.\\nConclusion\\nIn summary, 2024 was a banner year for stocks, led overwhelmingly by the technology sector. The\\nS&P 500\\'s roughly 25% gain\\n for the year - coming on the heels of a similar advance in 2023 - was fueled by spectacular\\nperformances from both mega-cap titans like Apple, Alphabet, and Meta and high-flying newer\\ncompanies riding the tech innovation wave. Market darlings in AI, chips, and software posted\\neye-popping returns, driving major indices to record or near-record highs. This surge in stock prices\\nbrought with it significantly increased valuations. By year-end, many leading stocks were trading at\\nrich multiples, pricing in a lot of optimism for future growth. The exuberance of 2024 did create a\\n\"frothy\" sentiment environment, as analysts at Schwab noted\\n, meaning investors had become very bullish and perhaps complacent. This backdrop raised some\\nconcern that volatility could return if the anticipated growth failed to materialize or if macroeconomic\\nfactors turned unfriendly. As 2025 began, market participants were balancing the excitement about\\ntechnology-driven growth against the reality of elevated price levels. The strong 2024 stock\\nperformance undoubtedly rewarded investors, but it also set a high bar for future earnings and'),\n",
       " Document(metadata={'producer': 'PyFPDF 1.7.2 http://pyfpdf.googlecode.com/', 'creator': 'PyPDF', 'creationdate': 'D:20250411184712', 'source': 'docs\\\\Stock_Market_Performance_2024.pdf', 'total_pages': 9, 'page': 8, 'page_label': '9'}, page_content='innovation to justify those prices. In essence, 2024\\'s legacy is that of a tech-dominated rally that\\ndelivered substantial wealth gains, while also concentrating market leadership and stretching some\\nvaluation metrics. Investors and analysts heading into 2025 remained watchful: optimistic that the\\ntrends propelling 2024\\'s gains (such as AI adoption and economic resilience) would continue, yet\\ncautious of potential corrections given how far and fast many stock prices climbed. 2024 will be\\nremembered as a year when Wall Street fully embraced the promise of next-generation technology -\\na year of exceptional stock market performance, underpinned by both real improvements in\\ncorporate fortunes and a robust appetite for risk in the face of those opportunities.\"')]"
      ]
     },
     "execution_count": 23,
     "metadata": {},
     "output_type": "execute_result"
    }
   ],
   "source": [
    "documents"
   ]
  },
  {
   "cell_type": "code",
   "execution_count": 24,
   "id": "dda1227b",
   "metadata": {},
   "outputs": [],
   "source": [
    "# Split & embed\n",
    "text_splitter = RecursiveCharacterTextSplitter(chunk_size=1000, chunk_overlap=200)"
   ]
  },
  {
   "cell_type": "code",
   "execution_count": 25,
   "id": "53108c87",
   "metadata": {},
   "outputs": [
    {
     "name": "stdout",
     "output_type": "stream",
     "text": [
      "Split the documents in to 24 chunks.\n"
     ]
    }
   ],
   "source": [
    "chunks     = text_splitter.split_documents(documents)\n",
    "print(f\"Split the documents in to {len(chunks)} chunks.\")"
   ]
  },
  {
   "cell_type": "code",
   "execution_count": 29,
   "id": "38d3097d",
   "metadata": {},
   "outputs": [
    {
     "data": {
      "text/plain": [
       "[Document(metadata={'producer': 'PyFPDF 1.7.2 http://pyfpdf.googlecode.com/', 'creator': 'PyPDF', 'creationdate': 'D:20250411184712', 'source': 'docs\\\\Stock_Market_Performance_2024.pdf', 'total_pages': 9, 'page': 0, 'page_label': '1'}, page_content='Stock Market Performance in 2024\\nU.S. Market Overview\\nThe year 2024 was a remarkably strong one for equities, with the U.S. stock market extending the\\nrobust gains seen in the prior year. The benchmark S&P 500 index delivered roughly a 25% total\\nreturn for 2024 (around +23% in price terms)\\n. This marked the second consecutive year of over 20% returns for the S&P 500 - a feat not\\nobserved since the late 1990s\\n. The tech-heavy Nasdaq Composite outpaced the broader market, jumping nearly 29% for the year\\n. In contrast, smaller-cap stocks had more modest performance: the S&P 500 Equal-Weight index\\nand the Russell 2000 (small-cap benchmark) each rose about 10-11% in 2024\\n. The disparity underscored that 2024\\'s rally was not evenly distributed across the market. A key\\ntheme was the dominance of mega-cap technology stocks. A group of seven powerhouse\\ncompanies often dubbed the \"Magnificent 7\" - Apple, Microsoft, Alphabet (Google), Amazon, Meta'),\n",
       " Document(metadata={'producer': 'PyFPDF 1.7.2 http://pyfpdf.googlecode.com/', 'creator': 'PyPDF', 'creationdate': 'D:20250411184712', 'source': 'docs\\\\Stock_Market_Performance_2024.pdf', 'total_pages': 9, 'page': 0, 'page_label': '1'}, page_content='theme was the dominance of mega-cap technology stocks. A group of seven powerhouse\\ncompanies often dubbed the \"Magnificent 7\" - Apple, Microsoft, Alphabet (Google), Amazon, Meta\\n(Facebook), Nvidia, and Tesla - collectively surged by roughly 64-67% on average in 2024\\n. These few firms contributed disproportionately to the S&P 500\\'s gains. In fact, they accounted for\\nover half of the index\\'s return for the year (about 54% of S&P 500 performance)\\n. By year\\'s end, many of these leaders had reached record-high share prices amid investor\\nenthusiasm for transformative technologies like artificial intelligence (AI). Meanwhile, more\\ntraditional and value-oriented sectors lagged behind, and many diversified portfolios trailed the\\nS&P\\'s 25% gain as a result\\n. Overall, 2024\\'s market climate was one of bullish sentiment driven by technology and growth\\nstocks, albeit with narrow market breadth focused on the largest companies.\\nMajor Tech Stock Performances\\nApple Inc. (AAPL) - 2024 Performance'),\n",
       " Document(metadata={'producer': 'PyFPDF 1.7.2 http://pyfpdf.googlecode.com/', 'creator': 'PyPDF', 'creationdate': 'D:20250411184712', 'source': 'docs\\\\Stock_Market_Performance_2024.pdf', 'total_pages': 9, 'page': 1, 'page_label': '2'}, page_content=\"Apple's stock had an outstanding 2024, climbing approximately 36% over the course of the year\\n. The iPhone maker's share price reached new all-time highs, ending the year around $252 per\\nshare (up from about $185 at the start of 2024). This rally lifted Apple's market capitalization to\\nnearly $4 trillion by year-end\\n, reaffirming its status as the world's most valuable publicly traded company. Apple's gains were\\ndriven by solid demand for its products - the company saw successful launches of the iPhone 15\\nseries and other hardware updates - as well as continued growth in high-margin services. The\\ncompany also expanded its presence in emerging markets, fueling investor optimism about future\\ngrowth. Despite only moderate earnings increases in 2024 (Apple's net income grew in the high\\nsingle digits), the stock's rapid appreciation led to an expansion in valuation. By the end of 2024\\nApple was trading at about 40 times its trailing earnings\\nmacrotrends.net\"),\n",
       " Document(metadata={'producer': 'PyFPDF 1.7.2 http://pyfpdf.googlecode.com/', 'creator': 'PyPDF', 'creationdate': 'D:20250411184712', 'source': 'docs\\\\Stock_Market_Performance_2024.pdf', 'total_pages': 9, 'page': 1, 'page_label': '2'}, page_content=\"single digits), the stock's rapid appreciation led to an expansion in valuation. By the end of 2024\\nApple was trading at about 40 times its trailing earnings\\nmacrotrends.net\\n, well above its historical average P/E in the mid-20s. This elevated P/E ratio reflected substantial\\noptimism from investors and a willingness to pay a premium for Apple's steady cash flows and\\necosystem advantages. In short, Apple's combination of robust stock price growth and relatively\\nmodest earnings growth pushed its valuation to a lofty level going into 2025.\\nAlphabet (Google) (GOOGL) - 2024 Performance\\nAlphabet Inc., the parent of Google, also delivered strong results for shareholders in 2024.\\nAlphabet's stock price rose by nearly 40% over the year\\n, closing around $189 per share - close to record highs for the company. This performance added\\nroughly $600 billion in market value, pushing Alphabet's market capitalization above $2 trillion by\"),\n",
       " Document(metadata={'producer': 'PyFPDF 1.7.2 http://pyfpdf.googlecode.com/', 'creator': 'PyPDF', 'creationdate': 'D:20250411184712', 'source': 'docs\\\\Stock_Market_Performance_2024.pdf', 'total_pages': 9, 'page': 1, 'page_label': '2'}, page_content=', closing around $189 per share - close to record highs for the company. This performance added\\nroughly $600 billion in market value, pushing Alphabet\\'s market capitalization above $2 trillion by\\nDecember 2024. Key to this rally was Alphabet\\'s core strength in digital advertising (still a major\\nrevenue driver) and its strides in artificial intelligence. The company demonstrated innovation in AI,\\nincluding the introduction of its Gemini 2.0 AI model and breakthroughs in quantum computing chips\\n, which reassured investors that Google \"still has its mojo\" in the evolving tech landscape. Google\\'s\\ncloud computing division also continued to grow, contributing to the overall positive sentiment'),\n",
       " Document(metadata={'producer': 'PyFPDF 1.7.2 http://pyfpdf.googlecode.com/', 'creator': 'PyPDF', 'creationdate': 'D:20250411184712', 'source': 'docs\\\\Stock_Market_Performance_2024.pdf', 'total_pages': 9, 'page': 2, 'page_label': '3'}, page_content=\". Alphabet's financial results helped justify its stock gains. The company's revenues and earnings\\nsaw healthy growth in 2024, thanks to a rebound in ad spending and efficiency efforts. By year-end,\\nAlphabet's valuation remained relatively reasonable compared to its peers - about 23× trailing\\nearnings\\nmacrotrends.net\\n. This was roughly unchanged from its P/E a year prior, indicating that Alphabet's ~36% stock price\\nincrease was largely matched by an increase in its earnings over the same period. In summary,\\nGoogle's parent company enjoyed a robust 2024 rally built on both improved fundamentals and\\ninvestor excitement about its leadership in AI and technology innovation.\\nAmazon.com Inc. (AMZN) - 2024 Performance\\nAmazon's stock staged an impressive rebound in 2024, advancing roughly 48% for the year\\n. The e-commerce and cloud computing giant saw its share price rise from about $152 at the end of\\n2023 to around $219 by December 2024\\nmacrotrends.net\"),\n",
       " Document(metadata={'producer': 'PyFPDF 1.7.2 http://pyfpdf.googlecode.com/', 'creator': 'PyPDF', 'creationdate': 'D:20250411184712', 'source': 'docs\\\\Stock_Market_Performance_2024.pdf', 'total_pages': 9, 'page': 2, 'page_label': '3'}, page_content=\". The e-commerce and cloud computing giant saw its share price rise from about $152 at the end of\\n2023 to around $219 by December 2024\\nmacrotrends.net\\n. This surge added on the order of $600-700 billion to Amazon's market capitalization, bringing it\\nback into the vicinity of $1.7-$1.8 trillion. Multiple factors drove Amazon's strong performance. On\\nthe retail side, demand remained solid - Amazon's online shopping volumes and Prime membership\\nbase continued to grow, even as consumers navigated a post-pandemic environment. Meanwhile,\\nAmazon Web Services (AWS), the company's cloud division, maintained its leadership and high\\nprofitability in the cloud computing market, benefiting from the digital transformation and AI needs of\\nbusinesses. These dual engines (e-commerce and cloud) reassured investors of Amazon's\\nlong-term growth trajectory. Crucially, Amazon's earnings improved significantly in 2024 after a\"),\n",
       " Document(metadata={'producer': 'PyFPDF 1.7.2 http://pyfpdf.googlecode.com/', 'creator': 'PyPDF', 'creationdate': 'D:20250411184712', 'source': 'docs\\\\Stock_Market_Performance_2024.pdf', 'total_pages': 9, 'page': 2, 'page_label': '3'}, page_content=\"businesses. These dual engines (e-commerce and cloud) reassured investors of Amazon's\\nlong-term growth trajectory. Crucially, Amazon's earnings improved significantly in 2024 after a\\nslump in 2022-2023. Cost cutting and efficiency measures, along with revenue growth, led to a\\nsharp rise in operating income. By the end of 2024, Amazon's trailing price-to-earnings ratio had\\ndeclined to about 40\\nmacrotrends.net\\n - down from a very elevated ~52 P/E at the end of 2023 - reflecting the fact that earnings rose faster\"),\n",
       " Document(metadata={'producer': 'PyFPDF 1.7.2 http://pyfpdf.googlecode.com/', 'creator': 'PyPDF', 'creationdate': 'D:20250411184712', 'source': 'docs\\\\Stock_Market_Performance_2024.pdf', 'total_pages': 9, 'page': 3, 'page_label': '4'}, page_content=\"than the stock price. Even at 40× earnings, Amazon's valuation was still on the higher side\\ncompared to the broader market, but investors seemed comfortable paying a premium for its\\ndominant market positions. Overall, 2024 marked a return to form for Amazon's stock, as the\\ncompany regained its footing with investors and recouped a substantial portion of the market value it\\nhad lost in the prior year.\\nMeta Platforms (Facebook) (META) - 2024 Performance\\nMeta Platforms, the parent company of Facebook, Instagram, and WhatsApp, was one of 2024's\\nstandout performers. Meta's stock price skyrocketed about 72% during the year\\n, making it one of the best-performing large-cap stocks. The share price surged from roughly $352 at\\nthe end of 2023 to around $585 by December 2024\\nmacrotrends.net\\n. In the process, Meta's market capitalization climbed back above the $1 trillion threshold - a\\nremarkable turnaround after the company's challenges just two years prior. Several catalysts\"),\n",
       " Document(metadata={'producer': 'PyFPDF 1.7.2 http://pyfpdf.googlecode.com/', 'creator': 'PyPDF', 'creationdate': 'D:20250411184712', 'source': 'docs\\\\Stock_Market_Performance_2024.pdf', 'total_pages': 9, 'page': 3, 'page_label': '4'}, page_content='. In the process, Meta\\'s market capitalization climbed back above the $1 trillion threshold - a\\nremarkable turnaround after the company\\'s challenges just two years prior. Several catalysts\\npowered Meta\\'s rally. The company\\'s core advertising business recovered strongly, with 2024\\nadvertising revenue reaching roughly $160 billion, about 22% higher than the prior year\\n. Meta\\'s focus on cost discipline and efficiency (following its \"Year of Efficiency\" initiatives) led to\\ndramatically improved profitability: full-year earnings jumped approximately 60% year-over-year\\n. These better-than-expected results, combined with enthusiasm for Meta\\'s investments in artificial\\nintelligence (to improve content delivery and ad targeting), boosted investor confidence. By year\\'s\\nend, Meta\\'s valuation remained quite reasonable despite the stock nearly doubling. Thanks to its\\nsurge in earnings, Meta\\'s trailing P/E ratio was only in the mid-20s at the end of 2024\\nmacrotrends.net'),\n",
       " Document(metadata={'producer': 'PyFPDF 1.7.2 http://pyfpdf.googlecode.com/', 'creator': 'PyPDF', 'creationdate': 'D:20250411184712', 'source': 'docs\\\\Stock_Market_Performance_2024.pdf', 'total_pages': 9, 'page': 3, 'page_label': '4'}, page_content=\"surge in earnings, Meta's trailing P/E ratio was only in the mid-20s at the end of 2024\\nmacrotrends.net\\n - only slightly higher than its P/E a year prior and generally in line with the broader market. In other\\nwords, Meta's huge stock price increase was underpinned by equally impressive earnings growth,\\nkeeping its valuation multiples in check. This combination of value and growth made Meta an outlier\\namong mega-cap tech stocks. The company did continue heavy spending on its metaverse and\\nvirtual reality initiatives (Reality Labs), but investors largely looked past those losses in 2024,\"),\n",
       " Document(metadata={'producer': 'PyFPDF 1.7.2 http://pyfpdf.googlecode.com/', 'creator': 'PyPDF', 'creationdate': 'D:20250411184712', 'source': 'docs\\\\Stock_Market_Performance_2024.pdf', 'total_pages': 9, 'page': 4, 'page_label': '5'}, page_content=\"focusing instead on the core business rebound and the exciting potential for new AI-driven features.\\nMeta's 72% stock gain underscored a broader trend in 2024: a return to favor for online advertising\\nand social media companies, especially those that managed to significantly boost their earnings and\\ncash flow.\\nTesla, Inc. (TSLA) - 2024 Performance\\nTesla's stock experienced a roller-coaster year in 2024, but ultimately delivered strong gains. The\\nelectric vehicle leader's share price ended the year up approximately 63%\\n. This sizable annual rise belies the volatility Tesla faced during the year: in the first half of 2024,\\nTesla's stock actually declined amid concerns about slowing EV demand and tighter profit margins.\\nBy mid-year, shares were down substantially from their late-2023 levels, as the company cut vehicle\\nprices to stoke demand (pressuring its margins). However, the trend reversed dramatically in the\"),\n",
       " Document(metadata={'producer': 'PyFPDF 1.7.2 http://pyfpdf.googlecode.com/', 'creator': 'PyPDF', 'creationdate': 'D:20250411184712', 'source': 'docs\\\\Stock_Market_Performance_2024.pdf', 'total_pages': 9, 'page': 4, 'page_label': '5'}, page_content=\"By mid-year, shares were down substantially from their late-2023 levels, as the company cut vehicle\\nprices to stoke demand (pressuring its margins). However, the trend reversed dramatically in the\\nfinal months of 2024. Virtually all of Tesla's yearly gains came in the fourth quarter, with the stock\\nskyrocketing after the U.S. presidential election in November 2024\\n. The election outcome (which resulted in a more business-friendly administration) bolstered market\\nsentiment, particularly for high-growth and tech names. Tesla's shares rallied sharply on this wave\\nof optimism, and on hopes that economic conditions in 2025 would allow for renewed demand and\\npricing power in the EV market. By December 2024, Tesla's stock was trading near record highs. It\\nbriefly touched an all-time closing high of around $480 per share in mid-December\\nmacrotrends.net\\n, doubling from its lows earlier in the year. At its year-end price (in the low $400s), Tesla's market\"),\n",
       " Document(metadata={'producer': 'PyFPDF 1.7.2 http://pyfpdf.googlecode.com/', 'creator': 'PyPDF', 'creationdate': 'D:20250411184712', 'source': 'docs\\\\Stock_Market_Performance_2024.pdf', 'total_pages': 9, 'page': 4, 'page_label': '5'}, page_content=\"macrotrends.net\\n, doubling from its lows earlier in the year. At its year-end price (in the low $400s), Tesla's market\\ncapitalization was in excess of $1.2 trillion - firmly cementing its status as one of the most valuable\\nautomakers in history. However, Tesla's fundamentals in 2024 did not rise in tandem with its stock\\nprice. In fact, the company's earnings per share for the full year 2024 fell by over 50% compared to\\n2023\\nmacrotrends.net\\n. Higher costs and the impact of vehicle price reductions meant Tesla's profit margins and net\\nincome declined even as unit sales grew. The result was that Tesla's valuation became even more\"),\n",
       " Document(metadata={'producer': 'PyFPDF 1.7.2 http://pyfpdf.googlecode.com/', 'creator': 'PyPDF', 'creationdate': 'D:20250411184712', 'source': 'docs\\\\Stock_Market_Performance_2024.pdf', 'total_pages': 9, 'page': 5, 'page_label': '6'}, page_content=\"stretched: by the end of 2024, the stock was trading at well over 100 times its trailing earnings (a\\nrough estimate, as the company's EPS for the year was around $2) - an extremely high multiple\\nmacrotrends.net\\n. This disconnect between Tesla's soaring share price and its shrinking earnings was noted by\\nanalysts as a risk factor. Nonetheless, 2024 demonstrated the market's willingness to bet on Tesla's\\nlong-term growth story (in areas like autonomous driving, energy storage, and global EV adoption),\\neven if in the short term the financial results did not justify the exuberant stock price. Tesla's 63%\\ngain was a significant contributor to the S&P 500's performance and exemplified the late-year\\nrisk-on fervor that characterized the market's finish to 2024.\\nHigh-Growth Tech Startups and Noteworthy Stock Movers\\nBeyond the established giants, 2024 also featured eye-popping gains in a number of high-growth\"),\n",
       " Document(metadata={'producer': 'PyFPDF 1.7.2 http://pyfpdf.googlecode.com/', 'creator': 'PyPDF', 'creationdate': 'D:20250411184712', 'source': 'docs\\\\Stock_Market_Performance_2024.pdf', 'total_pages': 9, 'page': 5, 'page_label': '6'}, page_content=\"High-Growth Tech Startups and Noteworthy Stock Movers\\nBeyond the established giants, 2024 also featured eye-popping gains in a number of high-growth\\ntech companies and recent startups, both in the U.S. and internationally. Perhaps the most striking\\nexample was Palantir Technologies (PLTR), a data analytics and AI software firm. Palantir's stock\\nsoared by about 340% in 2024, making it the single best-performing stock in the S&P 500 index for\\nthe year\\n. Palantir began 2024 at a relatively low base (its shares had languished in prior years), but investor\\nsentiment flipped dramatically as the company showed its first profitable quarters and positioned\\nitself as a key player in artificial intelligence for government and enterprise. By the end of 2024,\\nPalantir's share price had climbed into the mid-$20s from single-digit levels a year earlier. This\\nenormous rally was fueled in part by excitement over Palantir's AI platforms and speculation that\"),\n",
       " Document(metadata={'producer': 'PyFPDF 1.7.2 http://pyfpdf.googlecode.com/', 'creator': 'PyPDF', 'creationdate': 'D:20250411184712', 'source': 'docs\\\\Stock_Market_Performance_2024.pdf', 'total_pages': 9, 'page': 5, 'page_label': '6'}, page_content=\"Palantir's share price had climbed into the mid-$20s from single-digit levels a year earlier. This\\nenormous rally was fueled in part by excitement over Palantir's AI platforms and speculation that\\nincreased government spending on defense and data intelligence (in a more geopolitically tense\\nenvironment) would benefit the company. It's worth noting that a considerable portion of Palantir's\\n2024 gains came late in the year, during the broad tech rally in Q4. The stock, however, remained\\nvolatile, and its valuation by year-end - well above 20 times sales - reflected very high expectations\\nfor future growth. Another notable high-growth winner was IonQ (IONQ), a U.S.-based quantum\\ncomputing startup. IonQ's stock price finished 2024 up about 237% for the year\\n. Investors bid up IonQ shares aggressively as the company reported technical progress in its\"),\n",
       " Document(metadata={'producer': 'PyFPDF 1.7.2 http://pyfpdf.googlecode.com/', 'creator': 'PyPDF', 'creationdate': 'D:20250411184712', 'source': 'docs\\\\Stock_Market_Performance_2024.pdf', 'total_pages': 9, 'page': 6, 'page_label': '7'}, page_content=\"quantum computing systems and as interest in quantum technology spiked following some\\nhigh-profile breakthroughs (including those touted by larger firms like Alphabet's quantum unit).\\nIonQ's revenue, while still very small (tens of millions of dollars), nearly doubled in 2024, and the\\ncompany raised its future outlook - factors which contributed to the stock's surge. Like many\\nearly-stage tech firms, IonQ remained unprofitable, but in 2024 the market showed a willingness to\\noverlook current losses and focus on the long-term potential of quantum computing. By year-end,\\nIonQ's market cap had swelled to several billion dollars, a sign of the speculative fervor in certain\\nniche tech areas. It's worth mentioning that IonQ shares experienced a steep pullback in early 2025\\nafter their 2024 run-up, illustrating the risk that accompanies such explosive stock moves\\n. Still, in the context of 2024, IonQ was a prime example of how smaller tech innovators rode the\"),\n",
       " Document(metadata={'producer': 'PyFPDF 1.7.2 http://pyfpdf.googlecode.com/', 'creator': 'PyPDF', 'creationdate': 'D:20250411184712', 'source': 'docs\\\\Stock_Market_Performance_2024.pdf', 'total_pages': 9, 'page': 6, 'page_label': '7'}, page_content=\"after their 2024 run-up, illustrating the risk that accompanies such explosive stock moves\\n. Still, in the context of 2024, IonQ was a prime example of how smaller tech innovators rode the\\nwave of optimism around next-generation technologies. On the international front, one of the most\\nsignificant tech stock stories was Arm Holdings (ARM). Arm, a British-based semiconductor IP and\\nchip design company, returned to the public markets with a highly anticipated IPO in late 2023. In\\n2024, Arm's stock gained about 64% for the full year\\n, as investors rallied around its unique position in the chip industry. Arm's designs are used in\\nvirtually all smartphone processors and increasingly in data center and AI accelerators, giving it a\\ncritical role in the semiconductor ecosystem. The stock's strong performance in 2024 - it rose from\\nits IPO price in the low $50s to around $80-$90 by year-end - was driven by optimism about Arm's\"),\n",
       " Document(metadata={'producer': 'PyFPDF 1.7.2 http://pyfpdf.googlecode.com/', 'creator': 'PyPDF', 'creationdate': 'D:20250411184712', 'source': 'docs\\\\Stock_Market_Performance_2024.pdf', 'total_pages': 9, 'page': 6, 'page_label': '7'}, page_content=\"critical role in the semiconductor ecosystem. The stock's strong performance in 2024 - it rose from\\nits IPO price in the low $50s to around $80-$90 by year-end - was driven by optimism about Arm's\\ngrowth prospects in AI, Internet-of-Things devices, and automotive chips. Notably, Arm's share price\\nmore than doubled in the first half of 2024 amid a burst of post-IPO enthusiasm, though it later\\nsettled back after some profit-taking\\n. By the end of the year, Arm's market capitalization was around $120 billion, making it one of the\\nlargest tech companies in Europe. Its successful debut and stock climb underscored how global the\\n2024 tech boom was - extending beyond U.S. borders to include major players in Europe and Asia.\\nIn addition to these, many other tech stocks saw remarkable climbs in 2024. The AI boom was a\\nrising tide that lifted numerous boats. For instance, Nvidia - while not a startup but certainly a\"),\n",
       " Document(metadata={'producer': 'PyFPDF 1.7.2 http://pyfpdf.googlecode.com/', 'creator': 'PyPDF', 'creationdate': 'D:20250411184712', 'source': 'docs\\\\Stock_Market_Performance_2024.pdf', 'total_pages': 9, 'page': 7, 'page_label': '8'}, page_content='high-growth company - saw its stock skyrocket by approximately 170% in 2024 on the back of\\ninsatiable demand for its AI-focused chips\\n. This contributed enormously to its market value (which hit $1+ trillion) and exemplified the market\\'s\\nenthusiasm for AI beneficiaries. Even some long-established companies outside the traditional \"Big\\nTech\" roster enjoyed tech-fueled rallies; for example, Netflix (a communication services/tech hybrid)\\nsaw its stock price nearly double (+92% in 2024) as it found success with a new ad-supported\\nstreaming tier and password-sharing crackdowns\\n. On the other hand, not every tech name soared - Chinese technology giants like Alibaba and\\nTencent, for example, had relatively muted stock performance in 2024 amid regulatory and\\neconomic headwinds in China. But broadly speaking, investors in 2024 rewarded any companies\\nwith strong growth narratives, especially those tied to transformational tech trends such as artificial'),\n",
       " Document(metadata={'producer': 'PyFPDF 1.7.2 http://pyfpdf.googlecode.com/', 'creator': 'PyPDF', 'creationdate': 'D:20250411184712', 'source': 'docs\\\\Stock_Market_Performance_2024.pdf', 'total_pages': 9, 'page': 7, 'page_label': '8'}, page_content=\"economic headwinds in China. But broadly speaking, investors in 2024 rewarded any companies\\nwith strong growth narratives, especially those tied to transformational tech trends such as artificial\\nintelligence, cloud computing, and quantum technology.\\nConclusion\\nIn summary, 2024 was a banner year for stocks, led overwhelmingly by the technology sector. The\\nS&P 500's roughly 25% gain\\n for the year - coming on the heels of a similar advance in 2023 - was fueled by spectacular\\nperformances from both mega-cap titans like Apple, Alphabet, and Meta and high-flying newer\\ncompanies riding the tech innovation wave. Market darlings in AI, chips, and software posted\\neye-popping returns, driving major indices to record or near-record highs. This surge in stock prices\\nbrought with it significantly increased valuations. By year-end, many leading stocks were trading at\\nrich multiples, pricing in a lot of optimism for future growth. The exuberance of 2024 did create a\"),\n",
       " Document(metadata={'producer': 'PyFPDF 1.7.2 http://pyfpdf.googlecode.com/', 'creator': 'PyPDF', 'creationdate': 'D:20250411184712', 'source': 'docs\\\\Stock_Market_Performance_2024.pdf', 'total_pages': 9, 'page': 7, 'page_label': '8'}, page_content='rich multiples, pricing in a lot of optimism for future growth. The exuberance of 2024 did create a\\n\"frothy\" sentiment environment, as analysts at Schwab noted\\n, meaning investors had become very bullish and perhaps complacent. This backdrop raised some\\nconcern that volatility could return if the anticipated growth failed to materialize or if macroeconomic\\nfactors turned unfriendly. As 2025 began, market participants were balancing the excitement about\\ntechnology-driven growth against the reality of elevated price levels. The strong 2024 stock\\nperformance undoubtedly rewarded investors, but it also set a high bar for future earnings and'),\n",
       " Document(metadata={'producer': 'PyFPDF 1.7.2 http://pyfpdf.googlecode.com/', 'creator': 'PyPDF', 'creationdate': 'D:20250411184712', 'source': 'docs\\\\Stock_Market_Performance_2024.pdf', 'total_pages': 9, 'page': 8, 'page_label': '9'}, page_content='innovation to justify those prices. In essence, 2024\\'s legacy is that of a tech-dominated rally that\\ndelivered substantial wealth gains, while also concentrating market leadership and stretching some\\nvaluation metrics. Investors and analysts heading into 2025 remained watchful: optimistic that the\\ntrends propelling 2024\\'s gains (such as AI adoption and economic resilience) would continue, yet\\ncautious of potential corrections given how far and fast many stock prices climbed. 2024 will be\\nremembered as a year when Wall Street fully embraced the promise of next-generation technology -\\na year of exceptional stock market performance, underpinned by both real improvements in\\ncorporate fortunes and a robust appetite for risk in the face of those opportunities.\"')]"
      ]
     },
     "execution_count": 29,
     "metadata": {},
     "output_type": "execute_result"
    }
   ],
   "source": [
    "chunks"
   ]
  },
  {
   "cell_type": "code",
   "execution_count": null,
   "id": "0e09b06b",
   "metadata": {},
   "outputs": [],
   "source": [
    "embeddings = OpenAIEmbeddings(model=EMBED_MODEL)"
   ]
  },
  {
   "cell_type": "code",
   "execution_count": 11,
   "id": "e8e565f6",
   "metadata": {},
   "outputs": [],
   "source": [
    "vectordb = Chroma.from_documents(\n",
    "    documents         = chunks,\n",
    "    embedding         = embeddings,\n",
    "    persist_directory = str(INDEX_DIR),\n",
    "    collection_name   = \"kb_collection\",\n",
    ")"
   ]
  },
  {
   "cell_type": "code",
   "execution_count": 13,
   "id": "7825e011",
   "metadata": {},
   "outputs": [
    {
     "name": "stdout",
     "output_type": "stream",
     "text": [
      "✅ Index built → C:\\Users\\HP\\Desktop\\Gen-AI\\langgraph_project\\research\\chroma_db_1\n"
     ]
    },
    {
     "name": "stderr",
     "output_type": "stream",
     "text": [
      "C:\\Users\\HP\\AppData\\Local\\Temp\\ipykernel_18760\\4188049943.py:1: LangChainDeprecationWarning: Since Chroma 0.4.x the manual persistence method is no longer supported as docs are automatically persisted.\n",
      "  vectordb.persist()\n"
     ]
    }
   ],
   "source": [
    "vectordb.persist()\n",
    "print(\"✅ Index built →\", INDEX_DIR.resolve())"
   ]
  },
  {
   "cell_type": "code",
   "execution_count": 15,
   "id": "cedcca04",
   "metadata": {},
   "outputs": [],
   "source": [
    "from langchain_core.tools import tool\n",
    "\n",
    "retriever = vectordb.as_retriever(search_kwargs={\"k\": 2})\n",
    "\n",
    "@tool\n",
    "def rag_search_tool(query: str) -> str:\n",
    "    \"\"\"Search the knowledge‑base for relevant chunks\"\"\"\n",
    "    results = retriever.invoke(query)\n",
    "    return \"/n/n\".join(d.page_content for d in results)"
   ]
  },
  {
   "cell_type": "code",
   "execution_count": 28,
   "id": "61e745ef",
   "metadata": {},
   "outputs": [
    {
     "data": {
      "text/plain": [
       "\"Apple's stock had an outstanding 2024, climbing approximately 36% over the course of the year\\n. The iPhone maker's share price reached new all-time highs, ending the year around $252 per\\nshare (up from about $185 at the start of 2024). This rally lifted Apple's market capitalization to\\nnearly $4 trillion by year-end\\n, reaffirming its status as the world's most valuable publicly traded company. Apple's gains were\\ndriven by solid demand for its products - the company saw successful launches of the iPhone 15\\nseries and other hardware updates - as well as continued growth in high-margin services. The\\ncompany also expanded its presence in emerging markets, fueling investor optimism about future\\ngrowth. Despite only moderate earnings increases in 2024 (Apple's net income grew in the high\\nsingle digits), the stock's rapid appreciation led to an expansion in valuation. By the end of 2024\\nApple was trading at about 40 times its trailing earnings\\nmacrotrends.net/n/nsingle digits), the stock's rapid appreciation led to an expansion in valuation. By the end of 2024\\nApple was trading at about 40 times its trailing earnings\\nmacrotrends.net\\n, well above its historical average P/E in the mid-20s. This elevated P/E ratio reflected substantial\\noptimism from investors and a willingness to pay a premium for Apple's steady cash flows and\\necosystem advantages. In short, Apple's combination of robust stock price growth and relatively\\nmodest earnings growth pushed its valuation to a lofty level going into 2025.\\nAlphabet (Google) (GOOGL) - 2024 Performance\\nAlphabet Inc., the parent of Google, also delivered strong results for shareholders in 2024.\\nAlphabet's stock price rose by nearly 40% over the year\\n, closing around $189 per share - close to record highs for the company. This performance added\\nroughly $600 billion in market value, pushing Alphabet's market capitalization above $2 trillion by\""
      ]
     },
     "execution_count": 28,
     "metadata": {},
     "output_type": "execute_result"
    }
   ],
   "source": [
    "rag_search_tool.invoke(\"what is the apple stock ending price in 2024?\")"
   ]
  },
  {
   "cell_type": "code",
   "execution_count": 16,
   "id": "5afb9abd",
   "metadata": {},
   "outputs": [],
   "source": [
    "from langchain_tavily import TavilySearch\n",
    "\n",
    "tavily = TavilySearch(max_results=3, topic=\"general\")\n",
    "\n",
    "@tool\n",
    "def web_search_tool(query: str) -> str:\n",
    "    \"\"\"Up‑to‑date web info via Tavily\"\"\"\n",
    "    return \"/n/n\".join(r[\"content\"] for r in tavily.invoke({\"query\": query})[\"results\"])  # simplified\n"
   ]
  },
  {
   "cell_type": "code",
   "execution_count": 29,
   "id": "8ea436c7",
   "metadata": {},
   "outputs": [
    {
     "data": {
      "text/plain": [
       "\"* Trending Sports * Trending Money * Trending Live * Data & Glossary * Trending * Trending Sports * Trending Money * Trending Live * Data & Glossary # The closing price for Apple (AAPL) last year was $249.53, on December 31. It was up 34.5% for the year. The latest price is $233.33. | December 31 2024 | $251.55 | $252.38 | $248.55 | $249.53 | 39,480,700 | Unlock 2x data Daily pricing data for Apple dates back to 12/12/1980, and may be incomplete. * Best return by a mid-cap in the S&P 500 in March 2023 * Best mega-cap stock since 2019? * Best YTD returns in the S&P 500 * See trending StatMuse uses cookies for the best experience./n/n* Money * Trending Sports * Trending Money * Trending Live * Data & Glossary * Money * Trending * Trending Sports * Trending Money * Trending Live * Data & Glossary # The closing price for Apple (AAPL) between 2020 and 2024 was $249.53, on December 31. The latest price is $232.60. | December 2024 | $236.43 | $259.18 | $236.32 | $249.53 | 977,916,100 | | December 2023 | $188.73 | $197.94 | $185.88 | $190.91 | 1,063,181,200 | | December 2022 |  |  |  |  |  | Unlock 2x data Daily pricing data for Apple dates back to 12/12/1980, and may be incomplete. * What's the short interest in Apple? * When did Apple go public? * See trending/n/nDiscover historical prices for AAPL stock on Yahoo Finance. View daily ... Dec 31, 2024, 252.44, 253.28, 249.43, 250.42, 249.53, 39,480,700. Dec 30, 2024\""
      ]
     },
     "execution_count": 29,
     "metadata": {},
     "output_type": "execute_result"
    }
   ],
   "source": [
    "web_search_tool.invoke(\"what is the apple stock ending price in 2024?\")"
   ]
  },
  {
   "cell_type": "code",
   "execution_count": 22,
   "id": "af9e472e",
   "metadata": {},
   "outputs": [],
   "source": [
    "from typing import Annotated, TypedDict, Literal\n",
    "from langchain_core.messages import BaseMessage, HumanMessage, AIMessage\n",
    "from langgraph.graph.message import add_messages\n",
    "\n",
    "class State(TypedDict):\n",
    "    messages: Annotated[list[BaseMessage], add_messages]"
   ]
  },
  {
   "cell_type": "code",
   "execution_count": 19,
   "id": "c135bae4",
   "metadata": {},
   "outputs": [],
   "source": [
    "class AgentState(State):          # add to previous `State`\n",
    "    route:    str          # \"rag\", \"answer\", \"web\", \"end\"\n",
    "    rag:      str | None   # KB result\n",
    "    web:      str | None   # web‑search snippets"
   ]
  },
  {
   "cell_type": "code",
   "execution_count": 25,
   "id": "1f344863",
   "metadata": {},
   "outputs": [],
   "source": [
    "from pydantic import BaseModel\n",
    "from langchain_openai import ChatOpenAI\n",
    "from dotenv import load_dotenv\n",
    "\n",
    "\n",
    "_ = load_dotenv()"
   ]
  },
  {
   "cell_type": "code",
   "execution_count": 26,
   "id": "bdb364aa",
   "metadata": {},
   "outputs": [],
   "source": [
    "# ── Structured helpers ─────────────────\n",
    "class RouteDecision(BaseModel):\n",
    "    route: Literal[\"rag\", \"answer\", \"end\"]\n",
    "    reply: str | None = None\n",
    "\n",
    "class RagJudge(BaseModel):\n",
    "    sufficient: bool\n",
    "\n",
    "router_llm = ChatOpenAI(model=\"gpt-4.1-mini\", temperature=0).with_structured_output(RouteDecision)\n",
    "judge_llm  = ChatOpenAI(model=\"gpt-4.1-mini\", temperature=0).with_structured_output(RagJudge)\n",
    "answer_llm = ChatOpenAI(model=\"gpt-4.1-mini\", temperature=0.7)"
   ]
  },
  {
   "cell_type": "code",
   "execution_count": 30,
   "id": "9398a68e",
   "metadata": {},
   "outputs": [],
   "source": [
    "# ── Router ─────────────────────────────\n",
    "def router_node(state: AgentState) -> AgentState:\n",
    "    q = state[\"messages\"][-1].content\n",
    "    decision = router_llm.invoke([\n",
    "        (\"system\", \"Decide route: rag / answer / end\"),\n",
    "        (\"user\", q)\n",
    "    ])\n",
    "    new_state = {**state, \"route\": decision.route}\n",
    "    if decision.route == \"end\":\n",
    "        new_state[\"messages\"] += [AIMessage(content=decision.reply or \"Hello!\")]\n",
    "    return new_state"
   ]
  },
  {
   "cell_type": "code",
   "execution_count": 31,
   "id": "e2f9f209",
   "metadata": {},
   "outputs": [],
   "source": [
    "# ── RAG lookup ─────────────────────────\n",
    "def rag_node(state: AgentState) -> AgentState:\n",
    "    q = state[\"messages\"][-1].content\n",
    "    chunks = rag_search_tool.invoke(q)\n",
    "    verdict = judge_llm.invoke([(\"user\", f\"Question: {q} Docs: {chunks[:300]}…\")])\n",
    "    return {**state, \"rag\": chunks, \"route\": \"answer\" if verdict.sufficient else \"web\"}"
   ]
  },
  {
   "cell_type": "code",
   "execution_count": 33,
   "id": "04c712d5",
   "metadata": {},
   "outputs": [],
   "source": [
    "from langgraph.graph import StateGraph, START, END\n",
    "from langgraph.checkpoint.memory import MemorySaver"
   ]
  },
  {
   "cell_type": "code",
   "execution_count": 34,
   "id": "e9a12036",
   "metadata": {},
   "outputs": [
    {
     "ename": "NameError",
     "evalue": "name 'web_node' is not defined",
     "output_type": "error",
     "traceback": [
      "\u001b[31m---------------------------------------------------------------------------\u001b[39m",
      "\u001b[31mNameError\u001b[39m                                 Traceback (most recent call last)",
      "\u001b[36mCell\u001b[39m\u001b[36m \u001b[39m\u001b[32mIn[34]\u001b[39m\u001b[32m, line 4\u001b[39m\n\u001b[32m      2\u001b[39m agent_graph.add_node(\u001b[33m\"\u001b[39m\u001b[33mrouter\u001b[39m\u001b[33m\"\u001b[39m,      router_node)\n\u001b[32m      3\u001b[39m agent_graph.add_node(\u001b[33m\"\u001b[39m\u001b[33mrag_lookup\u001b[39m\u001b[33m\"\u001b[39m,  rag_node)\n\u001b[32m----> \u001b[39m\u001b[32m4\u001b[39m agent_graph.add_node(\u001b[33m\"\u001b[39m\u001b[33mweb_search\u001b[39m\u001b[33m\"\u001b[39m,  \u001b[43mweb_node\u001b[49m)\n\u001b[32m      5\u001b[39m agent_graph.add_node(\u001b[33m\"\u001b[39m\u001b[33manswer\u001b[39m\u001b[33m\"\u001b[39m,      answer_node)\n\u001b[32m      7\u001b[39m agent_graph.set_entry_point(\u001b[33m\"\u001b[39m\u001b[33mrouter\u001b[39m\u001b[33m\"\u001b[39m)\n",
      "\u001b[31mNameError\u001b[39m: name 'web_node' is not defined"
     ]
    }
   ],
   "source": [
    "agent_graph = StateGraph(AgentState)\n",
    "agent_graph.add_node(\"router\",      router_node)\n",
    "agent_graph.add_node(\"rag_lookup\",  rag_node)\n",
    "agent_graph.add_node(\"web_search\",  web_node)\n",
    "agent_graph.add_node(\"answer\",      answer_node)\n",
    "\n",
    "agent_graph.set_entry_point(\"router\")\n",
    "agent_graph.add_conditional_edges(\"router\", from_router,\n",
    "        {\"rag\": \"rag_lookup\", \"answer\": \"answer\", \"end\": END})\n",
    "agent_graph.add_conditional_edges(\"rag_lookup\", after_rag,\n",
    "        {\"answer\": \"answer\", \"web\": \"web_search\"})\n",
    "agent_graph.add_edge(\"web_search\", \"answer\")\n",
    "agent_graph.add_edge(\"answer\", END)\n",
    "\n",
    "agent = agent_graph.compile(checkpointer=MemorySaver())\n"
   ]
  },
  {
   "cell_type": "code",
   "execution_count": null,
   "id": "40c5c2c1",
   "metadata": {},
   "outputs": [],
   "source": []
  }
 ],
 "metadata": {
  "kernelspec": {
   "display_name": "langgraph",
   "language": "python",
   "name": "python3"
  },
  "language_info": {
   "codemirror_mode": {
    "name": "ipython",
    "version": 3
   },
   "file_extension": ".py",
   "mimetype": "text/x-python",
   "name": "python",
   "nbconvert_exporter": "python",
   "pygments_lexer": "ipython3",
   "version": "3.11.0"
  }
 },
 "nbformat": 4,
 "nbformat_minor": 5
}
