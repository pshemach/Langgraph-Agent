{
 "cells": [
  {
   "cell_type": "markdown",
   "id": "9154ccea",
   "metadata": {},
   "source": [
    "#### Invoking a Language Model (LLM)"
   ]
  },
  {
   "cell_type": "code",
   "execution_count": 1,
   "id": "a1e1877a",
   "metadata": {},
   "outputs": [],
   "source": [
    "from dotenv import load_dotenv\n",
    "import os\n",
    "from langchain_openai import ChatOpenAI"
   ]
  },
  {
   "cell_type": "code",
   "execution_count": 2,
   "id": "43cede71",
   "metadata": {},
   "outputs": [],
   "source": [
    "_ = load_dotenv()"
   ]
  },
  {
   "cell_type": "code",
   "execution_count": 3,
   "metadata": {},
   "outputs": [],
   "source": [
    "os.environ['OPENAI_API_KEY'] = os.getenv(\"OPENAI_API_KEY\")\n",
    "os.environ['LANGCHAIN_API_KEY'] = os.getenv(\"LANGCHAIN_API_KEY\")\n",
    "os.environ['LANGCHAIN_TRACING_V2'] = \"true\""
   ]
  },
  {
   "cell_type": "code",
   "execution_count": 4,
   "id": "01308930",
   "metadata": {},
   "outputs": [],
   "source": [
    "llm = ChatOpenAI(model='gpt-3.5-turbo')"
   ]
  },
  {
   "cell_type": "code",
   "execution_count": 9,
   "id": "ce5e4122",
   "metadata": {},
   "outputs": [
    {
     "name": "stdout",
     "output_type": "stream",
     "text": [
      "Artificial Intelligence (AI) refers to the simulation of human intelligence processes by machines, especially computer systems. These processes include learning, reasoning, problem-solving, perception, and language processing. AI technologies enable machines to perform tasks that typically require human intelligence, such as visual perception, speech recognition, decision-making, and translation between languages. AI has a wide range of applications in various industries, such as healthcare, finance, transportation, and entertainment, and continues to advance rapidly with the development of new techniques and technologies.\n"
     ]
    }
   ],
   "source": [
    "response = llm.invoke(\"What is Artificial Intelligence?\")\n",
    "\n",
    "print(response.content)"
   ]
  },
  {
   "cell_type": "code",
   "execution_count": 11,
   "id": "5d798da3",
   "metadata": {},
   "outputs": [],
   "source": [
    "from langchain_core.messages import HumanMessage, SystemMessage, AIMessage"
   ]
  },
  {
   "cell_type": "code",
   "execution_count": 13,
   "id": "688a3ec7",
   "metadata": {},
   "outputs": [
    {
     "name": "stdout",
     "output_type": "stream",
     "text": [
      "Machine learning is a type of artificial intelligence that involves teaching machines to learn from data and improve over time without being explicitly programmed for each task. It uses algorithms to analyze and find patterns in data, allowing machines to make predictions or decisions without human intervention.\n"
     ]
    }
   ],
   "source": [
    "messages = [\n",
    "    SystemMessage(\"You are a helpful AI assistance. You will answer complex topics simply\"),\n",
    "    HumanMessage(\"What is machine learning in two sentences?\")\n",
    "]\n",
    "\n",
    "response = llm.invoke(messages)\n",
    "\n",
    "print(response.content)"
   ]
  },
  {
   "cell_type": "markdown",
   "id": "ef0b0be5",
   "metadata": {},
   "source": [
    "#### Extending LLMs with Tools"
   ]
  },
  {
   "cell_type": "code",
   "execution_count": 6,
   "id": "2bde95c6",
   "metadata": {},
   "outputs": [],
   "source": [
    "from langchain_core.tools import tool\n",
    "from langchain_tavily import TavilySearch"
   ]
  },
  {
   "cell_type": "code",
   "execution_count": 7,
   "id": "3a020898",
   "metadata": {},
   "outputs": [
    {
     "data": {
      "text/plain": [
       "4"
      ]
     },
     "execution_count": 7,
     "metadata": {},
     "output_type": "execute_result"
    }
   ],
   "source": [
    "eval(\"1+3\")"
   ]
  },
  {
   "cell_type": "code",
   "execution_count": 8,
   "id": "aedfee78",
   "metadata": {},
   "outputs": [],
   "source": [
    "@tool\n",
    "def calculator(expression:str) -> str:\n",
    "    \"\"\"Calculate mathematical expression. Use this for any math calculations.\"\"\"\n",
    "    try:\n",
    "        result = eval(expression)\n",
    "        return f\"The result of {expression} is {result}\"\n",
    "    except Exception as e:\n",
    "        return f\"Error calculation {expression}: {e}\"\n",
    "    \n",
    "    \n",
    "search_tool = TavilySearch(max_results=2)"
   ]
  },
  {
   "cell_type": "code",
   "execution_count": 31,
   "id": "3051b07c",
   "metadata": {},
   "outputs": [
    {
     "data": {
      "text/plain": [
       "{'query': 'latest news for asia cup?',\n",
       " 'follow_up_questions': None,\n",
       " 'answer': None,\n",
       " 'images': [],\n",
       " 'results': [{'url': 'https://timesofindia.indiatimes.com/sports/cricket/asia-cup/asia-cup-2025-india-take-on-pakistan-whats-their-head-to-head-record/articleshow/123878121.cms',\n",
       "   'title': \"Asia Cup 2025: India take on Pakistan – What's their head to head ...\",\n",
       "   'content': 'India and Pakistan are set to clash in a highly anticipated Asia Cup match on September 14, 2025, in Dubai. India holds a 10-6 advantage in past',\n",
       "   'score': 0.60694176,\n",
       "   'raw_content': None},\n",
       "  {'url': 'https://www.youtube.com/watch?v=Z38zqZ6iAxc',\n",
       "   'title': 'India to face Pakistan in high-stakes Asia Cup clash - YouTube',\n",
       "   'content': 'India to face Pakistan in high-stakes Asia Cup clash | Latest Updates | DD India Live · Comments.',\n",
       "   'score': 0.54521364,\n",
       "   'raw_content': None}],\n",
       " 'response_time': 0.84,\n",
       " 'request_id': '6692d306-7bad-4e8e-8b60-287edd3fe790'}"
      ]
     },
     "execution_count": 31,
     "metadata": {},
     "output_type": "execute_result"
    }
   ],
   "source": [
    "search_tool.invoke(\"latest news for asia cup?\")"
   ]
  },
  {
   "cell_type": "code",
   "execution_count": 11,
   "id": "b2b83287",
   "metadata": {},
   "outputs": [],
   "source": [
    "tools = [calculator, search_tool]"
   ]
  },
  {
   "cell_type": "code",
   "execution_count": 12,
   "id": "76e8d7ce",
   "metadata": {},
   "outputs": [],
   "source": [
    "llm_with_tools = llm.bind_tools(tools)"
   ]
  },
  {
   "cell_type": "code",
   "execution_count": 26,
   "id": "b8aea72e",
   "metadata": {},
   "outputs": [
    {
     "name": "stdout",
     "output_type": "stream",
     "text": [
      "Tool response:\n",
      "\n"
     ]
    }
   ],
   "source": [
    "response = llm_with_tools.invoke(\"What is 2 + 3 ?\")\n",
    "print(\"Tool response:\")\n",
    "print(response.content)"
   ]
  },
  {
   "cell_type": "code",
   "execution_count": 27,
   "id": "cb7096b3",
   "metadata": {},
   "outputs": [
    {
     "data": {
      "text/plain": [
       "AIMessage(content='', additional_kwargs={'tool_calls': [{'id': 'call_6oxM0EEhBvfZaSnp5PnJFeNw', 'function': {'arguments': '{\"expression\":\"2 + 3\"}', 'name': 'calculator'}, 'type': 'function'}], 'refusal': None}, response_metadata={'token_usage': {'completion_tokens': 17, 'prompt_tokens': 1367, 'total_tokens': 1384, 'completion_tokens_details': {'accepted_prediction_tokens': 0, 'audio_tokens': 0, 'reasoning_tokens': 0, 'rejected_prediction_tokens': 0}, 'prompt_tokens_details': {'audio_tokens': 0, 'cached_tokens': 0}}, 'model_name': 'gpt-3.5-turbo-0125', 'system_fingerprint': None, 'id': 'chatcmpl-CFas3dPfh1MgChJNHXhF2fTphH67U', 'service_tier': 'default', 'finish_reason': 'tool_calls', 'logprobs': None}, id='run--343c9f1c-b2ce-4419-be41-55ae55f5f7b3-0', tool_calls=[{'name': 'calculator', 'args': {'expression': '2 + 3'}, 'id': 'call_6oxM0EEhBvfZaSnp5PnJFeNw', 'type': 'tool_call'}], usage_metadata={'input_tokens': 1367, 'output_tokens': 17, 'total_tokens': 1384, 'input_token_details': {'audio': 0, 'cache_read': 0}, 'output_token_details': {'audio': 0, 'reasoning': 0}})"
      ]
     },
     "execution_count": 27,
     "metadata": {},
     "output_type": "execute_result"
    }
   ],
   "source": [
    "response"
   ]
  },
  {
   "cell_type": "code",
   "execution_count": 28,
   "id": "d417939b",
   "metadata": {},
   "outputs": [],
   "source": [
    "def handle_tool_calls(response, tool_map):\n",
    "    if not getattr(response, 'tool_calls', None):\n",
    "        return\n",
    "\n",
    "    for tool_call in response.tool_calls:\n",
    "        tool_name = tool_call['name']\n",
    "        args = tool_call['args']\n",
    "        tool = tool_map.get(tool_name)\n",
    "        if tool:\n",
    "            result = tool.invoke(args)\n",
    "            print(f\"Tool result: {result}\")"
   ]
  },
  {
   "cell_type": "code",
   "execution_count": 33,
   "id": "8ab6d2c5",
   "metadata": {},
   "outputs": [
    {
     "name": "stdout",
     "output_type": "stream",
     "text": [
      "\n",
      "Tool result: The result of 25 * 4 + 17 is 117\n",
      "\n"
     ]
    }
   ],
   "source": [
    "tool_map = {\n",
    "    'calculator': calculator,\n",
    "    'duckduckgo_search': search_tool,\n",
    "}\n",
    "\n",
    "def test_llm_tool(query):\n",
    "    response = llm_with_tools.invoke(query)\n",
    "    print(response.content)\n",
    "    handle_tool_calls(response, tool_map)\n",
    "\n",
    "# Run some queries\n",
    "test_llm_tool(\"What's 25 * 4 + 17?\")\n",
    "test_llm_tool(\"Latest news for asia cup cricket?\")"
   ]
  },
  {
   "cell_type": "markdown",
   "id": "c444f916",
   "metadata": {},
   "source": [
    "#### Building a Basic LangGraph Chatbot"
   ]
  },
  {
   "cell_type": "code",
   "execution_count": 37,
   "id": "fae38830",
   "metadata": {},
   "outputs": [],
   "source": [
    "from typing import TypedDict, Annotated\n",
    "from langchain_core.messages import BaseMessage, HumanMessage, SystemMessage\n",
    "from langgraph.graph.message import add_messages"
   ]
  },
  {
   "cell_type": "code",
   "execution_count": 39,
   "id": "0a939f1b",
   "metadata": {},
   "outputs": [],
   "source": [
    "class State(TypedDict):\n",
    "    messages: Annotated[list[BaseMessage], add_messages]"
   ]
  },
  {
   "cell_type": "code",
   "execution_count": null,
   "id": "f37bcb60",
   "metadata": {},
   "outputs": [],
   "source": [
    "def chat_node(state: State) -> State:\n",
    "    response = llm.invoke(state['messages'])\n",
    "    return {\"messages\":[response]}"
   ]
  },
  {
   "cell_type": "code",
   "execution_count": 41,
   "id": "cbad2fb3",
   "metadata": {},
   "outputs": [],
   "source": [
    "from langgraph.graph import StateGraph, START, END "
   ]
  },
  {
   "cell_type": "code",
   "execution_count": 42,
   "id": "39a9fe7a",
   "metadata": {},
   "outputs": [],
   "source": [
    "graph_builder = StateGraph(State)\n",
    "\n",
    "graph_builder.add_node(\"chat\", chat_node)\n",
    "\n",
    "graph_builder.add_edge(START, \"chat\")\n",
    "graph_builder.add_edge(\"chat\", END)\n",
    "\n",
    "\n",
    "graph = graph_builder.compile()"
   ]
  },
  {
   "cell_type": "code",
   "execution_count": 46,
   "id": "fbd86de9",
   "metadata": {},
   "outputs": [
    {
     "data": {
      "image/png": "[encoded data removed]",
      "text/plain": [
       "<IPython.core.display.Image object>"
      ]
     },
     "metadata": {},
     "output_type": "display_data"
    }
   ],
   "source": [
    "from IPython.display import Image, display\n",
    "\n",
    "try:\n",
    "    display(Image(graph.get_graph().draw_mermaid_png()))\n",
    "    \n",
    "except Exception as e:\n",
    "    raise"
   ]
  },
  {
   "cell_type": "code",
   "execution_count": 48,
   "id": "05039600",
   "metadata": {},
   "outputs": [
    {
     "data": {
      "text/plain": [
       "{'messages': [HumanMessage(content='Hi', additional_kwargs={}, response_metadata={}, id='fdaca91e-ba4d-4c9a-b8de-3a2016d4ab67'),\n",
       "  AIMessage(content='Hello! How can I assist you today?', additional_kwargs={'refusal': None}, response_metadata={'token_usage': {'completion_tokens': 9, 'prompt_tokens': 8, 'total_tokens': 17, 'completion_tokens_details': {'accepted_prediction_tokens': 0, 'audio_tokens': 0, 'reasoning_tokens': 0, 'rejected_prediction_tokens': 0}, 'prompt_tokens_details': {'audio_tokens': 0, 'cached_tokens': 0}}, 'model_name': 'gpt-3.5-turbo-0125', 'system_fingerprint': None, 'id': 'chatcmpl-CFhQxgbD8Ecq4MZKdsLqV1cGiVL3r', 'service_tier': 'default', 'finish_reason': 'stop', 'logprobs': None}, id='run--341c7c2b-cb8b-481c-94c9-6f3cc8f903e9-0', usage_metadata={'input_tokens': 8, 'output_tokens': 9, 'total_tokens': 17, 'input_token_details': {'audio': 0, 'cache_read': 0}, 'output_token_details': {'audio': 0, 'reasoning': 0}})]}"
      ]
     },
     "execution_count": 48,
     "metadata": {},
     "output_type": "execute_result"
    }
   ],
   "source": [
    "graph.invoke({\n",
    "    \"messages\":HumanMessage(\"Hi\")\n",
    "})"
   ]
  },
  {
   "cell_type": "code",
   "execution_count": null,
   "id": "43861f38",
   "metadata": {},
   "outputs": [],
   "source": [
    "def test_chatbot(message:str) -> str:\n",
    "    response = graph.invoke({\"messages\": HumanMessage(content=message)})\n",
    "    print(f\"Assistance: {response['messages'][-1].content}\")\n",
    "    "
   ]
  },
  {
   "cell_type": "code",
   "execution_count": 50,
   "id": "0950628e",
   "metadata": {},
   "outputs": [
    {
     "name": "stdout",
     "output_type": "stream",
     "text": [
      "Assistance Hello Pasindu! How can I assist you today?\n",
      "Assistance I'm sorry, but I am not capable of remembering individual users. I am a language model AI and do not have the ability to store personal information. How can I assist you today?\n"
     ]
    }
   ],
   "source": [
    "test_chatbot(\"Hi, I am pasindu.\")\n",
    "test_chatbot(\"Do you remember me?\")"
   ]
  },
  {
   "cell_type": "markdown",
   "id": "8f1e0121",
   "metadata": {},
   "source": [
    "#### Adding Memory to the Chatbot"
   ]
  },
  {
   "cell_type": "code",
   "execution_count": 53,
   "id": "308e3bbd",
   "metadata": {},
   "outputs": [],
   "source": [
    "from langgraph.checkpoint.memory import MemorySaver\n",
    "\n",
    "memory = MemorySaver()"
   ]
  },
  {
   "cell_type": "code",
   "execution_count": 54,
   "id": "410add5f",
   "metadata": {},
   "outputs": [],
   "source": [
    "graph_with_memory = graph_builder.compile(checkpointer=memory)"
   ]
  },
  {
   "cell_type": "code",
   "execution_count": 55,
   "id": "f30ca4e7",
   "metadata": {},
   "outputs": [
    {
     "name": "stdout",
     "output_type": "stream",
     "text": [
      "🤖 Assistant: Hello Pasindu, how can I assist you today?\n",
      "🤖 Assistant: Your name is Pasindu.\n"
     ]
    }
   ],
   "source": [
    "def chat_with_memory(message: str, thread_id: str):\n",
    "    config = {\"configurable\": {\"thread_id\": thread_id}}\n",
    "    initial_state = {\"messages\": [HumanMessage(content=message)]}\n",
    "    result = graph_with_memory.invoke(initial_state, config)\n",
    "    print(\"🤖 Assistant:\", result[\"messages\"][-1].content)\n",
    "\n",
    "# Start a conversation\n",
    "chat_with_memory(\"Hi, my name is Pasindu\", thread_id=\"thread-1\")\n",
    "chat_with_memory(\"What's my name?\", thread_id=\"thread-1\")\n"
   ]
  },
  {
   "cell_type": "markdown",
   "id": "5162c8ab",
   "metadata": {},
   "source": [
    "#### LangGraph Agent with Tools"
   ]
  },
  {
   "cell_type": "code",
   "execution_count": 9,
   "id": "8e5dae75",
   "metadata": {},
   "outputs": [],
   "source": [
    "from typing import Annotated, TypedDict \n",
    "from langgraph.graph.message import add_messages\n",
    "from langchain_core.messages import BaseMessage\n",
    "\n",
    "\n",
    "class AgentState(TypedDict):\n",
    "    messages: Annotated[list[BaseMessage], add_messages]"
   ]
  },
  {
   "cell_type": "code",
   "execution_count": null,
   "id": "88d91bce",
   "metadata": {},
   "outputs": [],
   "source": [
    "from langchain_core.tools import tool\n",
    "from langchain_tavily import TavilySearch\n",
    "\n",
    "@tool\n",
    "def calculator(expression:str) -> str:\n",
    "    \"\"\"Calculate mathematical expression. Use this for any math calculations.\"\"\"\n",
    "    try:\n",
    "        result = eval(expression)\n",
    "        return f\"The result of {expression} is {result}\"\n",
    "    except Exception as e:\n",
    "        return f\"Error calculation {expression}: {e}\"\n",
    "    \n",
    "    \n",
    "search_tool = TavilySearch(max_results=2)"
   ]
  },
  {
   "cell_type": "code",
   "execution_count": 13,
   "id": "2b3f638b",
   "metadata": {},
   "outputs": [],
   "source": [
    "tools = [calculator, search_tool]"
   ]
  },
  {
   "cell_type": "code",
   "execution_count": 14,
   "id": "04b9cadf",
   "metadata": {},
   "outputs": [],
   "source": [
    "llm = ChatOpenAI(model='gpt-4.1-mini')\n",
    "llm_with_tools = llm.bind_tools(tools)"
   ]
  },
  {
   "cell_type": "code",
   "execution_count": 15,
   "id": "a3003d32",
   "metadata": {},
   "outputs": [],
   "source": [
    "def chat_node(state: AgentState) -> AgentState:\n",
    "    \"\"\"Answer directly or request tool\"\"\"\n",
    "    system_message = (\n",
    "        \"You are a helpful assistant.\\n\"\n",
    "        \"Use the `web_search` tool for real‑time facts and `calculator` for maths.\\n\"\n",
    "        \"Otherwise answer directly.\"\n",
    "    )\n",
    "    \n",
    "    messages = [\n",
    "        {\"role\":\"system\", \"content\": system_message},\n",
    "        *state['messages']\n",
    "    ]\n",
    "    \n",
    "    result = llm_with_tools.invoke(messages)\n",
    "    \n",
    "    return {\"messages\":[result]}"
   ]
  },
  {
   "cell_type": "code",
   "execution_count": 16,
   "id": "29949f98",
   "metadata": {},
   "outputs": [],
   "source": [
    "from langgraph.prebuilt import ToolNode \n",
    "\n",
    "tool_node = ToolNode(tools)"
   ]
  },
  {
   "cell_type": "code",
   "execution_count": 17,
   "id": "1c8ccb84",
   "metadata": {},
   "outputs": [],
   "source": [
    "from typing import Literal\n",
    "\n",
    "def should_continue(state: AgentState) -> Literal['tool','end']:\n",
    "    last = state['messages'][-1]\n",
    "    return 'tool' if getattr(last, 'tool_calls', None) else 'end'"
   ]
  },
  {
   "cell_type": "code",
   "execution_count": 18,
   "id": "3faf1647",
   "metadata": {},
   "outputs": [],
   "source": [
    "from langgraph.graph import StateGraph, START, END\n",
    "from langgraph.checkpoint.memory import MemorySaver"
   ]
  },
  {
   "cell_type": "code",
   "execution_count": 19,
   "id": "d3eece35",
   "metadata": {},
   "outputs": [],
   "source": [
    "memory = MemorySaver()"
   ]
  },
  {
   "cell_type": "code",
   "execution_count": 27,
   "id": "5f03b5d3",
   "metadata": {},
   "outputs": [],
   "source": [
    "graph_builder = StateGraph(AgentState)\n",
    "\n",
    "graph_builder.add_node(\"chatbot\", chat_node)\n",
    "graph_builder.add_node('tools_node', tool_node)\n",
    "\n",
    "graph_builder.add_edge(START, \"chatbot\")\n",
    "graph_builder.add_conditional_edges(\"chatbot\", should_continue, {'tool':'tools_node', 'end':END})\n",
    "graph_builder.add_edge(\"tools_node\",\"chatbot\")\n",
    "\n",
    "graph = graph_builder.compile(checkpointer=memory)"
   ]
  },
  {
   "cell_type": "code",
   "execution_count": 28,
   "id": "3aa96c49",
   "metadata": {},
   "outputs": [
    {
     "data": {
      "image/png": "[encoded data removed]",
      "text/plain": [
       "<IPython.core.display.Image object>"
      ]
     },
     "metadata": {},
     "output_type": "display_data"
    }
   ],
   "source": [
    "from IPython.display import Image, display\n",
    "\n",
    "try:\n",
    "    display(Image(graph.get_graph().draw_mermaid_png()))\n",
    "    \n",
    "except Exception as e:\n",
    "    raise"
   ]
  },
  {
   "cell_type": "code",
   "execution_count": 30,
   "id": "346d1b96",
   "metadata": {},
   "outputs": [
    {
     "name": "stdout",
     "output_type": "stream",
     "text": [
      "15% of 240 is 36.\n",
      "Here are some recent news updates about artificial intelligence:\n",
      "\n",
      "1. Xiaomi has announced a next-generation AI voice model optimized for in-car and smart home experiences. This model features faster response times and can operate offline. You can read more about this on Crescendo.ai: [Latest AI News and Breakthroughs](https://www.crescendo.ai/news/latest-ai-news-and-updates).\n",
      "\n",
      "2. SoftBank's chief mentioned that Artificial Super Intelligence (ASI) could be here within the next 10 years, emphasizing the rapid advancement in AI. Additionally, Malaysia has launched its first AI-powered bank called Ryt Bank. Google has introduced Veo 3 AI video creation tools. More details are available at ArtificialIntelligence-News.com: [AI News, Analysis & Events](https://www.artificialintelligence-news.com/). \n",
      "\n",
      "If you'd like more detailed information on any of these topics, feel free to ask!\n"
     ]
    }
   ],
   "source": [
    "from langchain_core.messages import HumanMessage\n",
    "\n",
    "def chat_with_agent(msg: str, thread_id=\"1\"):\n",
    "    cfg = {\"configurable\": {\"thread_id\": thread_id}}\n",
    "    state = {\"messages\": [HumanMessage(content=msg)]}\n",
    "    result = graph.invoke(state, cfg)\n",
    "    print(result[\"messages\"][-1].content)\n",
    "\n",
    "chat_with_agent(\"What's 15% of 240?\")\n",
    "chat_with_agent(\"Search for recent news about artificial intelligence\")"
   ]
  },
  {
   "cell_type": "code",
   "execution_count": 31,
   "id": "4d4d43c4",
   "metadata": {},
   "outputs": [
    {
     "name": "stdout",
     "output_type": "stream",
     "text": [
      "Xiaomi has announced a next-generation AI voice model that is optimized for use in in-car and smart home experiences. This new AI voice model features faster response times and has the capability to operate offline, enhancing convenience and functionality in these environments.\n"
     ]
    }
   ],
   "source": [
    "chat_with_agent(\"what Xiaomi has announced?\")"
   ]
  },
  {
   "cell_type": "markdown",
   "id": "60bd2dc4",
   "metadata": {},
   "source": [
    "#### LangGraph RAG Agent"
   ]
  },
  {
   "cell_type": "code",
   "execution_count": 1,
   "id": "a6cd161f",
   "metadata": {},
   "outputs": [],
   "source": [
    "import os\n",
    "from pathlib import Path\n",
    "from typing import List\n",
    "\n",
    "from langchain_community.document_loaders import (\n",
    "    PyPDFLoader, Docx2txtLoader, TextLoader, UnstructuredMarkdownLoader\n",
    ")\n",
    "from langchain_community.document_loaders.directory import DirectoryLoader\n",
    "from langchain_core.documents import Document\n",
    "\n",
    "from langchain_text_splitters import RecursiveCharacterTextSplitter\n",
    "from langchain_openai import OpenAIEmbeddings\n",
    "from langchain_community.vectorstores import Chroma"
   ]
  },
  {
   "cell_type": "code",
   "execution_count": 2,
   "id": "15032a37",
   "metadata": {},
   "outputs": [],
   "source": [
    "import os \n",
    "from dotenv import load_dotenv\n",
    "\n",
    "_ = load_dotenv()"
   ]
  },
  {
   "cell_type": "code",
   "execution_count": 3,
   "id": "3fd6a78d",
   "metadata": {},
   "outputs": [],
   "source": [
    "os.environ['OPENAI_API_KEY'] = os.getenv(\"OPENAI_API_KEY\")\n",
    "os.environ['LANGCHAIN_API_KEY'] = os.getenv(\"LANGCHAIN_API_KEY\")\n",
    "os.environ['LANGCHAIN_TRACING_V2'] = \"true\""
   ]
  },
  {
   "cell_type": "code",
   "execution_count": 4,
   "id": "39208b29",
   "metadata": {},
   "outputs": [],
   "source": [
    "SOURCE_DIR   = Path(\"docs\")          # put your files here\n",
    "INDEX_DIR    = Path(\"chroma_db_1\")   # will be created if missing\n",
    "EMBED_MODEL  = \"text-embedding-3-small\""
   ]
  },
  {
   "cell_type": "code",
   "execution_count": 5,
   "id": "76dafc41",
   "metadata": {},
   "outputs": [],
   "source": [
    "# # Load docs (keep only pdf/docx for brevity)\n",
    "# docs = []\n",
    "# for f in SOURCE_DIR.glob(\"*.*\"):\n",
    "#     if f.suffix == \".pdf\":\n",
    "#         docs += PyPDFLoader(str(f)).load()\n",
    "#     elif f.suffix == \".docx\":\n",
    "#         docs += Docx2txtLoader(str(f)).load()\n",
    "        \n",
    "def load_documents(folder_path:str) -> List[Document]:\n",
    "    \"\"\"load documents in the folder\"\"\"\n",
    "    documents = []\n",
    "    for files in Path(folder_path).glob(\"*.*\"):\n",
    "        if files.suffix == \".pdf\":\n",
    "            loader = PyPDFLoader(str(files))\n",
    "        elif files.suffix == \".docx\":\n",
    "            loader = Docx2txtLoader(str(files))\n",
    "        elif files.suffix == \".md\":\n",
    "            loader = UnstructuredMarkdownLoader(str(files))\n",
    "        elif files.suffix == \".txt\":\n",
    "            loader = TextLoader(str(files))\n",
    "        else:\n",
    "            print(f\"Unsupported file type: {files}\")\n",
    "            continue\n",
    "        documents.extend(loader.load())\n",
    "    return documents   "
   ]
  },
  {
   "cell_type": "code",
   "execution_count": 6,
   "id": "b528004b",
   "metadata": {},
   "outputs": [
    {
     "name": "stdout",
     "output_type": "stream",
     "text": [
      "Loaded 9 from directory: docs\n"
     ]
    }
   ],
   "source": [
    "documents = load_documents(SOURCE_DIR)\n",
    "print(f\"Loaded {len(documents)} from directory: {str(SOURCE_DIR)}\")"
   ]
  },
  {
   "cell_type": "code",
   "execution_count": 7,
   "id": "963648e4",
   "metadata": {},
   "outputs": [
    {
     "name": "stdout",
     "output_type": "stream",
     "text": [
      "page_content='Stock Market Performance in 2024\n",
      "U.S. Market Overview\n",
      "The year 2024 was a remarkably strong one for equities, with the U.S. stock market extending the\n",
      "robust gains seen in the prior year. The benchmark S&P 500 index delivered roughly a 25% total\n",
      "return for 2024 (around +23% in price terms)\n",
      ". This marked the second consecutive year of over 20% returns for the S&P 500 - a feat not\n",
      "observed since the late 1990s\n",
      ". The tech-heavy Nasdaq Composite outpaced the broader market, jumping nearly 29% for the year\n",
      ". In contrast, smaller-cap stocks had more modest performance: the S&P 500 Equal-Weight index\n",
      "and the Russell 2000 (small-cap benchmark) each rose about 10-11% in 2024\n",
      ". The disparity underscored that 2024's rally was not evenly distributed across the market. A key\n",
      "theme was the dominance of mega-cap technology stocks. A group of seven powerhouse\n",
      "companies often dubbed the \"Magnificent 7\" - Apple, Microsoft, Alphabet (Google), Amazon, Meta\n",
      "(Facebook), Nvidia, and Tesla - collectively surged by roughly 64-67% on average in 2024\n",
      ". These few firms contributed disproportionately to the S&P 500's gains. In fact, they accounted for\n",
      "over half of the index's return for the year (about 54% of S&P 500 performance)\n",
      ". By year's end, many of these leaders had reached record-high share prices amid investor\n",
      "enthusiasm for transformative technologies like artificial intelligence (AI). Meanwhile, more\n",
      "traditional and value-oriented sectors lagged behind, and many diversified portfolios trailed the\n",
      "S&P's 25% gain as a result\n",
      ". Overall, 2024's market climate was one of bullish sentiment driven by technology and growth\n",
      "stocks, albeit with narrow market breadth focused on the largest companies.\n",
      "Major Tech Stock Performances\n",
      "Apple Inc. (AAPL) - 2024 Performance' metadata={'producer': 'PyFPDF 1.7.2 http://pyfpdf.googlecode.com/', 'creator': 'PyPDF', 'creationdate': 'D:20250411184712', 'source': 'docs\\\\Stock_Market_Performance_2024.pdf', 'total_pages': 9, 'page': 0, 'page_label': '1'}\n"
     ]
    }
   ],
   "source": [
    "print(documents[0])"
   ]
  },
  {
   "cell_type": "code",
   "execution_count": 8,
   "id": "dda1227b",
   "metadata": {},
   "outputs": [],
   "source": [
    "# Split & embed\n",
    "text_splitter = RecursiveCharacterTextSplitter(chunk_size=1000, chunk_overlap=200)"
   ]
  },
  {
   "cell_type": "code",
   "execution_count": 9,
   "id": "53108c87",
   "metadata": {},
   "outputs": [
    {
     "name": "stdout",
     "output_type": "stream",
     "text": [
      "Split the documents in to 24 chunks.\n"
     ]
    }
   ],
   "source": [
    "chunks     = text_splitter.split_documents(documents)\n",
    "print(f\"Split the documents in to {len(chunks)} chunks.\")"
   ]
  },
  {
   "cell_type": "code",
   "execution_count": 10,
   "id": "38d3097d",
   "metadata": {},
   "outputs": [
    {
     "data": {
      "text/plain": [
       "950"
      ]
     },
     "execution_count": 10,
     "metadata": {},
     "output_type": "execute_result"
    }
   ],
   "source": [
    "len(chunks[0].page_content)"
   ]
  },
  {
   "cell_type": "code",
   "execution_count": 11,
   "id": "0e09b06b",
   "metadata": {},
   "outputs": [
    {
     "name": "stdout",
     "output_type": "stream",
     "text": [
      "Cleared existing directory chroma_db_1\n"
     ]
    }
   ],
   "source": [
    "embeddings = OpenAIEmbeddings(model=EMBED_MODEL)\n",
    "\n",
    "import shutil\n",
    "\n",
    "# Delete the persist_directory if it exists (be cautious!)\n",
    "if os.path.exists(str(INDEX_DIR)):\n",
    "    shutil.rmtree(str(INDEX_DIR))\n",
    "    print(f\"Cleared existing directory {str(INDEX_DIR)}\")\n",
    "    \n",
    "vectordb = Chroma.from_documents(\n",
    "    documents         = chunks,\n",
    "    embedding         = embeddings,\n",
    "    persist_directory = str(INDEX_DIR),\n",
    "    collection_name   = \"kb_collection\",\n",
    ")"
   ]
  },
  {
   "cell_type": "code",
   "execution_count": 12,
   "id": "7825e011",
   "metadata": {},
   "outputs": [
    {
     "name": "stdout",
     "output_type": "stream",
     "text": [
      "✅ Index built → C:\\Users\\HP\\Desktop\\Gen-AI\\langgraph_project\\research\\chroma_db_1\n"
     ]
    },
    {
     "name": "stderr",
     "output_type": "stream",
     "text": [
      "C:\\Users\\HP\\AppData\\Local\\Temp\\ipykernel_3600\\4188049943.py:1: LangChainDeprecationWarning: Since Chroma 0.4.x the manual persistence method is no longer supported as docs are automatically persisted.\n",
      "  vectordb.persist()\n"
     ]
    }
   ],
   "source": [
    "vectordb.persist()\n",
    "print(\"✅ Index built →\", INDEX_DIR.resolve())"
   ]
  },
  {
   "cell_type": "code",
   "execution_count": 13,
   "id": "263090bc",
   "metadata": {},
   "outputs": [
    {
     "data": {
      "text/plain": [
       "[Document(metadata={'page': 1, 'total_pages': 9, 'producer': 'PyFPDF 1.7.2 http://pyfpdf.googlecode.com/', 'page_label': '2', 'creator': 'PyPDF', 'creationdate': 'D:20250411184712', 'source': 'docs\\\\Stock_Market_Performance_2024.pdf'}, page_content=\"Apple's stock had an outstanding 2024, climbing approximately 36% over the course of the year\\n. The iPhone maker's share price reached new all-time highs, ending the year around $252 per\\nshare (up from about $185 at the start of 2024). This rally lifted Apple's market capitalization to\\nnearly $4 trillion by year-end\\n, reaffirming its status as the world's most valuable publicly traded company. Apple's gains were\\ndriven by solid demand for its products - the company saw successful launches of the iPhone 15\\nseries and other hardware updates - as well as continued growth in high-margin services. The\\ncompany also expanded its presence in emerging markets, fueling investor optimism about future\\ngrowth. Despite only moderate earnings increases in 2024 (Apple's net income grew in the high\\nsingle digits), the stock's rapid appreciation led to an expansion in valuation. By the end of 2024\\nApple was trading at about 40 times its trailing earnings\\nmacrotrends.net\"),\n",
       " Document(metadata={'creator': 'PyPDF', 'producer': 'PyFPDF 1.7.2 http://pyfpdf.googlecode.com/', 'total_pages': 9, 'creationdate': 'D:20250411184712', 'source': 'docs\\\\Stock_Market_Performance_2024.pdf', 'page_label': '2', 'page': 1}, page_content=\"single digits), the stock's rapid appreciation led to an expansion in valuation. By the end of 2024\\nApple was trading at about 40 times its trailing earnings\\nmacrotrends.net\\n, well above its historical average P/E in the mid-20s. This elevated P/E ratio reflected substantial\\noptimism from investors and a willingness to pay a premium for Apple's steady cash flows and\\necosystem advantages. In short, Apple's combination of robust stock price growth and relatively\\nmodest earnings growth pushed its valuation to a lofty level going into 2025.\\nAlphabet (Google) (GOOGL) - 2024 Performance\\nAlphabet Inc., the parent of Google, also delivered strong results for shareholders in 2024.\\nAlphabet's stock price rose by nearly 40% over the year\\n, closing around $189 per share - close to record highs for the company. This performance added\\nroughly $600 billion in market value, pushing Alphabet's market capitalization above $2 trillion by\")]"
      ]
     },
     "execution_count": 13,
     "metadata": {},
     "output_type": "execute_result"
    }
   ],
   "source": [
    "retriever = vectordb.as_retriever(search_kwargs={\"k\": 2})\n",
    "retriever_results = retriever.invoke(\"what is the apple stock ending price in 2024?\")\n",
    "retriever_results"
   ]
  },
  {
   "cell_type": "code",
   "execution_count": 14,
   "id": "6e278a6b",
   "metadata": {},
   "outputs": [],
   "source": [
    "from langchain_tavily import TavilySearch\n",
    "\n",
    "tavily = TavilySearch(max_results=3, topic=\"general\")"
   ]
  },
  {
   "cell_type": "code",
   "execution_count": 15,
   "id": "a415afcb",
   "metadata": {},
   "outputs": [
    {
     "data": {
      "text/plain": [
       "{'query': 'today match in asia cup',\n",
       " 'follow_up_questions': None,\n",
       " 'answer': None,\n",
       " 'images': [],\n",
       " 'results': [{'url': 'https://www.cricbuzz.com/cricket-series/10587/asia-cup-2025/matches',\n",
       "   'title': 'Asia Cup 2025 schedule, live scores and results | Cricbuzz.com',\n",
       "   'content': 'Asia Cup 2025 Schedule, Match Timings, Venue Details, Upcoming Cricket ... Today. INTERNATIONAL. Asia Cup 2025 · Pakistan vs United Arab Emirates. 10th',\n",
       "   'score': 0.79484755,\n",
       "   'raw_content': None},\n",
       "  {'url': 'https://www.espncricinfo.com/series/men-s-t20-asia-cup-2025-1496919',\n",
       "   'title': 'Asia Cup 2025 | Live Score, Schedule, News - ESPNcricinfo',\n",
       "   'content': \"Check Asia Cup 2025 live score, squads, match schedules, points table ... Today, 7:30 AM. 11th Match, Group B (N), Abu Dhabi, September 18, 2025, Men's\",\n",
       "   'score': 0.7797419,\n",
       "   'raw_content': None},\n",
       "  {'url': 'https://www.cricbuzz.com/',\n",
       "   'title': 'Cricbuzz.com: Asia Cup 2025 | Live Cricket Score, Schedule, Latest ...',\n",
       "   'content': 'SL vs AFG - PreviewAUSA vs INDA - Trail by 293GAW vs SLK - GAW wonZIM vs NAM - PreviewPAK vs UAE - PAK won. ALL. All Live Now Today. INTERNATIONAL. Asia Cup',\n",
       "   'score': 0.7014069,\n",
       "   'raw_content': None}],\n",
       " 'response_time': 0.84,\n",
       " 'request_id': '8d96dfd4-9209-4495-85d2-9d2272b621bc'}"
      ]
     },
     "execution_count": 15,
     "metadata": {},
     "output_type": "execute_result"
    }
   ],
   "source": [
    "tavily.invoke(\"today match in asia cup\")"
   ]
  },
  {
   "cell_type": "code",
   "execution_count": 16,
   "id": "6c99f9dd",
   "metadata": {},
   "outputs": [],
   "source": [
    "from langchain_core.tools import tool"
   ]
  },
  {
   "cell_type": "code",
   "execution_count": 17,
   "id": "41770017",
   "metadata": {},
   "outputs": [],
   "source": [
    "@tool\n",
    "def web_search_tool(query: str) ->str:\n",
    "    \"\"\"Up to date web search using tavily\"\"\"\n",
    "    \n",
    "    try:\n",
    "        results = tavily.invoke({\"query\":query})\n",
    "        \n",
    "        if isinstance(results, dict) and 'results' in results:\n",
    "            formated_result = []\n",
    "            for item in results['results']:\n",
    "                \n",
    "                url = item.get('url', '')\n",
    "                title = item.get('title', 'No title')\n",
    "                content = item.get(\"content\",'No content')\n",
    "                \n",
    "                formated_result.append(f\"Title: {title}\\nContent: {content}\\nURL: {url}\")\n",
    "        \n",
    "            return \"\\n\\n\".join(formated_result) if formated_result else \"No results found\"\n",
    "        else:\n",
    "            return str(results)\n",
    "    except Exception as e:\n",
    "        return f\"Web search error: {e}\""
   ]
  },
  {
   "cell_type": "code",
   "execution_count": 18,
   "id": "cedcca04",
   "metadata": {},
   "outputs": [],
   "source": [
    "@tool\n",
    "def rag_search_tool(query: str) -> str:\n",
    "    \"\"\"Search the knowledge‑base for relevant chunks\"\"\"\n",
    "    try:\n",
    "        results = retriever.invoke(query)\n",
    "        return \"\\n\\n\".join(d.page_content for d in results) if results else \"\"\n",
    "    except Exception as e:\n",
    "        return f\"RAG error: {e}\""
   ]
  },
  {
   "cell_type": "code",
   "execution_count": 19,
   "id": "61e745ef",
   "metadata": {},
   "outputs": [
    {
     "name": "stdout",
     "output_type": "stream",
     "text": [
      "Apple's stock had an outstanding 2024, climbing approximately 36% over the course of the year\n",
      ". The iPhone maker's share price reached new all-time highs, ending the year around $252 per\n",
      "share (up from about $185 at the start of 2024). This rally lifted Apple's market capitalization to\n",
      "nearly $4 trillion by year-end\n",
      ", reaffirming its status as the world's most valuable publicly traded company. Apple's gains were\n",
      "driven by solid demand for its products - the company saw successful launches of the iPhone 15\n",
      "series and other hardware updates - as well as continued growth in high-margin services. The\n",
      "company also expanded its presence in emerging markets, fueling investor optimism about future\n",
      "growth. Despite only moderate earnings increases in 2024 (Apple's net income grew in the high\n",
      "single digits), the stock's rapid appreciation led to an expansion in valuation. By the end of 2024\n",
      "Apple was trading at about 40 times its trailing earnings\n",
      "macrotrends.net\n",
      "\n",
      "single digits), the stock's rapid appreciation led to an expansion in valuation. By the end of 2024\n",
      "Apple was trading at about 40 times its trailing earnings\n",
      "macrotrends.net\n",
      ", well above its historical average P/E in the mid-20s. This elevated P/E ratio reflected substantial\n",
      "optimism from investors and a willingness to pay a premium for Apple's steady cash flows and\n",
      "ecosystem advantages. In short, Apple's combination of robust stock price growth and relatively\n",
      "modest earnings growth pushed its valuation to a lofty level going into 2025.\n",
      "Alphabet (Google) (GOOGL) - 2024 Performance\n",
      "Alphabet Inc., the parent of Google, also delivered strong results for shareholders in 2024.\n",
      "Alphabet's stock price rose by nearly 40% over the year\n",
      ", closing around $189 per share - close to record highs for the company. This performance added\n",
      "roughly $600 billion in market value, pushing Alphabet's market capitalization above $2 trillion by\n"
     ]
    }
   ],
   "source": [
    "rag_result = rag_search_tool.invoke(\"what is the apple stock ending price in 2024?\")\n",
    "print(rag_result)"
   ]
  },
  {
   "cell_type": "code",
   "execution_count": 20,
   "id": "8ea436c7",
   "metadata": {},
   "outputs": [
    {
     "name": "stdout",
     "output_type": "stream",
     "text": [
      "Title: Apple Stock Price 2024 Chart | StatMuse Money\n",
      "Content: * Trending Sports * Trending Money * Trending Live * Data & Glossary * Trending * Trending Sports * Trending Money * Trending Live * Data & Glossary # The closing price for Apple (AAPL) last year was $249.53, on December 31. It was up 34.5% for the year. The latest price is $233.33. | December 31 2024 | $251.55 | $252.38 | $248.55 | $249.53 | 39,480,700 | Unlock 2x data Daily pricing data for Apple dates back to 12/12/1980, and may be incomplete. * Best return by a mid-cap in the S&P 500 in March 2023 * Best mega-cap stock since 2019? * Best YTD returns in the S&P 500 * See trending StatMuse uses cookies for the best experience.\n",
      "URL: https://www.statmuse.com/money/ask/apple-stock-price-2024-chart\n",
      "\n",
      "Title: Apple Stock Price In 2020 To 2024 | StatMuse Money\n",
      "Content: * Money * Trending Sports * Trending Money * Trending Live * Data & Glossary * Money * Trending * Trending Sports * Trending Money * Trending Live * Data & Glossary # The closing price for Apple (AAPL) between 2020 and 2024 was $249.53, on December 31. The latest price is $232.60. | December 2024 | $236.43 | $259.18 | $236.32 | $249.53 | 977,916,100 | | December 2023 | $188.73 | $197.94 | $185.88 | $190.91 | 1,063,181,200 | | December 2022 |  |  |  |  |  | Unlock 2x data Daily pricing data for Apple dates back to 12/12/1980, and may be incomplete. * What's the short interest in Apple? * When did Apple go public? * See trending\n",
      "URL: https://www.statmuse.com/money/ask/apple-stock-price-in-2020-to-2024\n",
      "\n",
      "Title: Apple - 45 Year Stock Price History | AAPL - Macrotrends\n",
      "Content: ## Apple - 45 Year Stock Price History | AAPL The latest closing stock price for Apple as of September 17, 2025 is **238.38**. * The all-time high Apple stock closing price was **258.10** on **December 26, 2024**. * The Apple 52-week high stock price is **260.10**, which is **9.1%** above the current share price. * The Apple 52-week low stock price is **169.21**, which is **29%** below the current share price. * The average Apple stock price for the last 52 weeks is **222.94**. | Apple Historical Annual Stock Price Data | | Apple - 45 Year Stock Price History | AAPL | | Apple - 45 Year Stock Price History | AAPL | **Register to Continue Using Macrotrends**\n",
      "URL: https://www.macrotrends.net/stocks/charts/AAPL/apple/stock-price-history\n"
     ]
    }
   ],
   "source": [
    "web_result = web_search_tool.invoke(\"what is the apple stock ending price in 2024?\")\n",
    "print(web_result)"
   ]
  },
  {
   "cell_type": "code",
   "execution_count": 21,
   "id": "af9e472e",
   "metadata": {},
   "outputs": [],
   "source": [
    "from typing import Annotated, TypedDict, Literal\n",
    "from langchain_core.messages import BaseMessage, HumanMessage, AIMessage\n",
    "from langgraph.graph.message import add_messages\n",
    "\n",
    "# class State(TypedDict):\n",
    "#     messages: Annotated[list[BaseMessage], add_messages]"
   ]
  },
  {
   "cell_type": "code",
   "execution_count": 22,
   "id": "c135bae4",
   "metadata": {},
   "outputs": [],
   "source": [
    "#shared state\n",
    "class AgentState(TypedDict, total=False):  \n",
    "    messages: List[BaseMessage]        \n",
    "    route:    str          # \"rag\", \"answer\", \"web\", \"end\"\n",
    "    rag:      str | None   # KB result\n",
    "    web:      str | None   # web‑search snippets"
   ]
  },
  {
   "cell_type": "code",
   "execution_count": 23,
   "id": "1f344863",
   "metadata": {},
   "outputs": [],
   "source": [
    "from pydantic import BaseModel, Field\n",
    "from langchain_openai import ChatOpenAI"
   ]
  },
  {
   "cell_type": "code",
   "execution_count": 24,
   "id": "bdb364aa",
   "metadata": {},
   "outputs": [],
   "source": [
    "# ── Structured helpers ─────────────────\n",
    "class RouteDecision(BaseModel):\n",
    "    route: Literal[\"rag\", \"answer\", \"end\"]\n",
    "    reply: str | None = Field(None, description=\"filed when only route == 'end'\")\n",
    "\n",
    "class RagJudge(BaseModel):\n",
    "    sufficient: bool\n",
    "\n",
    "router_llm = ChatOpenAI(model=\"gpt-4.1-mini\", temperature=0).with_structured_output(RouteDecision)\n",
    "judge_llm  = ChatOpenAI(model=\"gpt-4.1-mini\", temperature=0).with_structured_output(RagJudge)\n",
    "answer_llm = ChatOpenAI(model=\"gpt-4.1-mini\", temperature=0.7)"
   ]
  },
  {
   "cell_type": "code",
   "execution_count": 26,
   "id": "9398a68e",
   "metadata": {},
   "outputs": [],
   "source": [
    "# ── Router ─────────────────────────────\n",
    "def router_node(state: AgentState) -> AgentState:\n",
    "    query = state[\"messages\"][-1].content\n",
    "    \n",
    "    print(query)\n",
    "    \n",
    "    # query = next((m.content for m in reversed(state['messages'])\n",
    "    #               if isinstance(m, HumanMessage)), \"\")\n",
    "    messages = [\n",
    "        (\"system\", \n",
    "         \"Your are router that decides how to handle user queries:\\n\"\n",
    "         \" - Use 'end' for pure greeting/small-talk (also provide a 'reply')\\n\"\n",
    "         \" - Use 'rag' when knowledge base look up needed\\n\"\n",
    "         \" - Use 'answer' when you can answer directly without external resources\"),\n",
    "        (\"user\", query)\n",
    "    ]\n",
    "    \n",
    "    result: RouteDecision = router_llm.invoke(messages)\n",
    "    \n",
    "    print(f\"router node: {result}\")\n",
    "    \n",
    "    out = {'messages': state['messages'], 'route':result.route}\n",
    "    \n",
    "    if result.route == \"end\":\n",
    "        out[\"messages\"] = state['messages'] + [AIMessage(content=result.reply or \"Hello!\")]\n",
    "    return out"
   ]
  },
  {
   "cell_type": "code",
   "execution_count": 27,
   "id": "e2f9f209",
   "metadata": {},
   "outputs": [],
   "source": [
    "# ── RAG lookup ─────────────────────────\n",
    "def rag_node(state: AgentState) -> AgentState:\n",
    "    \n",
    "    query = state[\"messages\"][-1].content\n",
    "    \n",
    "    # query = next((m.content for m in reversed(state['messages'])\n",
    "    #               if isinstance(m, HumanMessage)), \"\")\n",
    "    chunks = rag_search_tool.invoke(query)\n",
    "    \n",
    "    judge_messages = [\n",
    "        (\"system\", \n",
    "         \"You are a judge that decides if the retrieved document chunks are sufficient to answer the question.\\n\"\n",
    "         \"To answer the user's question, consider the relevance and completeness\"),\n",
    "        (\"user\", f\"Question: {query}\\n\\n Received Info: {chunks} is this sufficient to answer the question\")\n",
    "    ]\n",
    "    \n",
    "    verdict: RagJudge = judge_llm.invoke(judge_messages)\n",
    "    \n",
    "    print(f\"Rag node: {verdict}\")\n",
    "    return {**state, \"rag\": chunks, \"route\": \"answer\" if verdict.sufficient else \"web\"}"
   ]
  },
  {
   "cell_type": "code",
   "execution_count": 28,
   "id": "85ef7efb",
   "metadata": {},
   "outputs": [],
   "source": [
    "# ── Web node ─────────────────────────\n",
    "def web_node(state:AgentState) -> AgentState:\n",
    "    query = state['messages'][-1].content\n",
    "    \n",
    "    # query = next((m.content for m in reversed(state['messages'])\n",
    "    #               if isinstance(m, HumanMessage)), \"\")\n",
    "    \n",
    "    snippets = web_search_tool.invoke(query)\n",
    "    print(f\"Web node: {snippets}\")\n",
    "    return {**state,'web':snippets, 'route':'answer'}"
   ]
  },
  {
   "cell_type": "code",
   "execution_count": 42,
   "id": "9e5389bb",
   "metadata": {},
   "outputs": [],
   "source": [
    "# ── Answer node ─────────────────────────\n",
    "def answer_node(state:AgentState) -> AgentState:\n",
    "    query = state['messages'][-1].content\n",
    "    \n",
    "    # query = next((m.content for m in reversed(state['messages'])\n",
    "    #               if isinstance(m, HumanMessage)), \"\")\n",
    "    \n",
    "    context_lis= []\n",
    "    if state.get('rag'):\n",
    "        context_lis.append(f\"Knowledge base information:\\n {state['rag']}\")\n",
    "    if state.get('web'):\n",
    "        context_lis.append(f\"Web search information:\\n {state['web']}\")\n",
    "        \n",
    "    context = \"\\n\\n\".join(context_lis) if context_lis else \"No external context available\"\n",
    "    \n",
    "    prompt = f\"\"\"Please answer the user's questions using provided context,\n",
    "    \n",
    "    Question: {query}\n",
    "    \n",
    "    Context: {context}\n",
    "\n",
    "    please provide helpful, accurate and concise response based on available information.\"\"\"\n",
    "    \n",
    "    answer = answer_llm.invoke([HumanMessage(content=prompt)]).content\n",
    "    \n",
    "    return {\n",
    "        **state,\n",
    "        \"messages\":state['messages'] + [AIMessage(content=answer)]\n",
    "    }"
   ]
  },
  {
   "cell_type": "code",
   "execution_count": 43,
   "id": "293ac317",
   "metadata": {},
   "outputs": [],
   "source": [
    "#____ Routing helper __________________\n",
    "def from_router(st:AgentState) -> Literal['end','rag','answer']:\n",
    "    return st['route']\n",
    "\n",
    "def after_rag(st: AgentState) -> Literal['web', 'answer']:\n",
    "    return st['route']\n",
    "\n",
    "def after_web(_) -> Literal['answer']:\n",
    "    return 'answer'"
   ]
  },
  {
   "cell_type": "code",
   "execution_count": 44,
   "id": "04c712d5",
   "metadata": {},
   "outputs": [],
   "source": [
    "from langgraph.graph import StateGraph, START, END\n",
    "from langgraph.checkpoint.memory import MemorySaver"
   ]
  },
  {
   "cell_type": "code",
   "execution_count": 45,
   "id": "e9a12036",
   "metadata": {},
   "outputs": [],
   "source": [
    "agent_graph = StateGraph(AgentState)\n",
    "agent_graph.add_node(\"router\",      router_node)\n",
    "agent_graph.add_node(\"rag_lookup\",  rag_node)\n",
    "agent_graph.add_node(\"web_search\",  web_node)\n",
    "agent_graph.add_node(\"answer\",      answer_node)\n",
    "\n",
    "agent_graph.set_entry_point(\"router\")\n",
    "agent_graph.add_conditional_edges(\"router\", from_router,\n",
    "        {\"rag\": \"rag_lookup\", \"answer\": \"answer\", \"end\": END})\n",
    "agent_graph.add_conditional_edges(\"rag_lookup\", after_rag,\n",
    "        {\"answer\": \"answer\", \"web\": \"web_search\"})\n",
    "agent_graph.add_edge(\"web_search\", \"answer\")\n",
    "agent_graph.add_edge(\"answer\", END)\n",
    "\n",
    "agent = agent_graph.compile(checkpointer=MemorySaver())"
   ]
  },
  {
   "cell_type": "code",
   "execution_count": 46,
   "id": "40c5c2c1",
   "metadata": {},
   "outputs": [
    {
     "data": {
      "image/png": "[encoded data removed]",
      "text/plain": [
       "<IPython.core.display.Image object>"
      ]
     },
     "metadata": {},
     "output_type": "display_data"
    }
   ],
   "source": [
    "from IPython.display import Image, display\n",
    "\n",
    "try:\n",
    "    display(Image(agent.get_graph().draw_mermaid_png()))\n",
    "    \n",
    "except Exception as e:\n",
    "    raise"
   ]
  },
  {
   "cell_type": "code",
   "execution_count": null,
   "id": "e775c954",
   "metadata": {},
   "outputs": [
    {
     "name": "stdout",
     "output_type": "stream",
     "text": [
      "--------------------------------------------------\n",
      "hi\n",
      "router node: route='end' reply='Hello! How can I assist you today?'\n",
      "Agent: Hello! How can I assist you today?\n",
      "what is apple closing price in 2024\n",
      "router node: route='rag' reply=None\n",
      "Rag node: sufficient=True\n",
      "Agent: Apple's closing share price in 2024 was around $252 per share.\n",
      "who was founder of apple\n",
      "router node: route='answer' reply=None\n",
      "Agent: The provided context does not include information about the founder of Apple. However, Apple was founded by Steve Jobs, Steve Wozniak, and Ronald Wayne.\n",
      "when it was founded\n",
      "router node: route='end' reply='Could you please specify what you are referring to? For example, the founding date of a company, city, or organization?'\n",
      "Agent: Could you please specify what you are referring to? For example, the founding date of a company, city, or organization?\n",
      "founding date\n",
      "router node: route='rag' reply=None\n",
      "Rag node: sufficient=False\n",
      "Web node: Title: Founding Date Definition | Law Insider\n",
      "Content: * Founding Date # *Founding Date* definition Founding Date means October 1, 2012. Founding Date means June 15, 2017. ## More Definitions of *Founding Date* ## Related to *Founding Date* * Initial Closing Date shall have the meaning assigned to such term in Section 1.2 hereof. * First Closing Date shall refer to the time and date of delivery of certificates for the Firm Shares and such Optional Shares). Any such time and date of delivery, if subsequent to the First Closing Date, is called an “Option Closing Date,” shall be determined by the Representatives and shall not be earlier than three or later than five full business days after delivery of such notice of exercise. * Mutual Non Disparagement * Confidential Information\n",
      "URL: https://www.lawinsider.com/dictionary/founding-date\n",
      "\n",
      "Title: founding date - Idiom\n",
      "Content: The specific date on which an institution, organization, or entity was established or created. Example. The founding date of the company is May 1, 1990.\n",
      "URL: https://getidiom.com/dictionary/english/founding-date\n",
      "\n",
      "Title: [PDF] Founding dates for firms going public in the U.S. during 1975-present\n",
      "Content: Founding dates for firms going public in the U.S. during 1975-2024 (updated March 2025) This dataset contains the founding dates, CRSP permanent IDs, offer dates (sometimes the first day of trading, and sometimes the day before the first day of trading), and the company names for firms that went public in the U.S. during 1975-2024 using an IPO or direct listing, most all of which were subsequently listed on CRSP. But if the name had been changed to the Field-Ritter Computing Co. when the merger occurred in 1982, we would deem the founding date to be 1957, the older of the two merged companies. Users of this data should credit the source as the Field-Ritter dataset of company founding dates, as used in Laura C.\n",
      "URL: https://site.warrington.ufl.edu/ritter/files/founding-dates.pdf\n",
      "Agent: The \"founding date\" refers to the specific date on which an institution, organization, or entity was established or created. Examples of founding dates given include October 1, 2012, June 15, 2017, or May 1, 1990, depending on the entity. For companies going public, founding dates are typically recorded as the original establishment date, even if the company later changed names or merged.\n",
      "what is pdf about\n",
      "router node: route='answer' reply=None\n",
      "Agent: The PDF is a dataset containing founding dates for firms that went public in the U.S. from 1975 to 2024. It includes company names, founding dates, CRSP permanent IDs, and offer dates related to IPOs or direct listings. The dataset is used for tracking and analyzing the history of companies entering public markets.\n",
      "what are the company list it include\n",
      "router node: route='rag' reply=None\n",
      "Rag node: sufficient=True\n",
      "Agent: The company list mentioned in the provided context includes:\n",
      "\n",
      "- Arm\n",
      "- Nvidia\n",
      "- Netflix\n",
      "- Alibaba\n",
      "- Tencent\n",
      "\n",
      "These companies represent major players in the 2024 tech boom, spanning various sectors like semiconductor design (Arm), AI chip manufacturing (Nvidia), streaming services (Netflix), and large Chinese tech firms (Alibaba and Tencent).\n",
      "exit\n",
      "router node: route='end' reply='Goodbye! If you need anything else, feel free to ask.'\n",
      "Agent: Goodbye! If you need anything else, feel free to ask.\n",
      "\n",
      "router node: route='end' reply='Hello! How can I assist you today?'\n",
      "Agent: Hello! How can I assist you today?\n"
     ]
    }
   ],
   "source": [
    "config = {\"configurable\":{\"thread_id\":\"sample-01\"}}\n",
    "print(\"-\"*50)\n",
    "\n",
    "while True:\n",
    "    q = input(\"\\nUser:\").strip()\n",
    "    \n",
    "    if q in ['exit', 'close']:\n",
    "        break\n",
    "    \n",
    "    ans = agent.invoke(\n",
    "        {\"messages\":[HumanMessage(content=q)]},\n",
    "        config= config\n",
    "    )\n",
    "    \n",
    "    last_msg = next((m for m in reversed(ans['messages'])\n",
    "                     if isinstance(m, AIMessage)), None)\n",
    "    \n",
    "    if last_msg:\n",
    "        print(f\"Agent: {last_msg.content}\")\n",
    "        \n",
    "    else:\n",
    "        print(\"Agent: No response..\")"
   ]
  },
  {
   "cell_type": "code",
   "execution_count": null,
   "id": "99c9ac5b",
   "metadata": {},
   "outputs": [],
   "source": []
  },
  {
   "cell_type": "markdown",
   "id": "f2f6a9f9",
   "metadata": {},
   "source": []
  }
 ],
 "metadata": {
  "kernelspec": {
   "display_name": "langgraph",
   "language": "python",
   "name": "python3"
  },
  "language_info": {
   "codemirror_mode": {
    "name": "ipython",
    "version": 3
   },
   "file_extension": ".py",
   "mimetype": "text/x-python",
   "name": "python",
   "nbconvert_exporter": "python",
   "pygments_lexer": "ipython3",
   "version": "3.11.0"
  }
 },
 "nbformat": 4,
 "nbformat_minor": 5
}
