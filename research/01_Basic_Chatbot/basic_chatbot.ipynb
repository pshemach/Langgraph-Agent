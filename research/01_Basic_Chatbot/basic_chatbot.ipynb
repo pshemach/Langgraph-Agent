{
 "cells": [
  {
   "cell_type": "code",
   "execution_count": 1,
   "id": "5e48b571",
   "metadata": {},
   "outputs": [
    {
     "name": "stdout",
     "output_type": "stream",
     "text": [
      "Hello World\n"
     ]
    }
   ],
   "source": [
    "print(\"Hello World\")"
   ]
  },
  {
   "cell_type": "markdown",
   "id": "91a3a379",
   "metadata": {},
   "source": [
    "### Basic ChatBot with Langgraph (GRAPH API)"
   ]
  },
  {
   "cell_type": "code",
   "execution_count": 1,
   "id": "6aabcbab",
   "metadata": {},
   "outputs": [],
   "source": [
    "from typing import Annotated\n",
    "from typing_extensions import TypedDict\n",
    "from langgraph.graph import StateGraph, START, END\n",
    "from langgraph.graph.message import add_messages"
   ]
  },
  {
   "cell_type": "code",
   "execution_count": 2,
   "id": "1a10905d",
   "metadata": {},
   "outputs": [],
   "source": [
    "class State(TypedDict):\n",
    "    # Messages have the type \"list\". The `add_messages` function\n",
    "    # in the annotation defines how this state key should be updated\n",
    "    # (in this case, it appends messages to the list, rather than overwriting them)\n",
    "    messages:Annotated[list,add_messages]"
   ]
  },
  {
   "cell_type": "code",
   "execution_count": 3,
   "id": "44e1f410",
   "metadata": {},
   "outputs": [
    {
     "data": {
      "text/plain": [
       "True"
      ]
     },
     "execution_count": 3,
     "metadata": {},
     "output_type": "execute_result"
    }
   ],
   "source": [
    "import os \n",
    "from dotenv import load_dotenv\n",
    "\n",
    "load_dotenv()"
   ]
  },
  {
   "cell_type": "code",
   "execution_count": 4,
   "id": "fa27f19d",
   "metadata": {},
   "outputs": [],
   "source": [
    "from langchain_openai import ChatOpenAI\n",
    "\n",
    "llm = ChatOpenAI()"
   ]
  },
  {
   "cell_type": "code",
   "execution_count": 7,
   "id": "f4628d93",
   "metadata": {},
   "outputs": [
    {
     "data": {
      "text/plain": [
       "AIMessage(content='Hello! How can I assist you today?', additional_kwargs={'refusal': None}, response_metadata={'token_usage': {'completion_tokens': 9, 'prompt_tokens': 8, 'total_tokens': 17, 'completion_tokens_details': {'accepted_prediction_tokens': 0, 'audio_tokens': 0, 'reasoning_tokens': 0, 'rejected_prediction_tokens': 0}, 'prompt_tokens_details': {'audio_tokens': 0, 'cached_tokens': 0}}, 'model_name': 'gpt-3.5-turbo-0125', 'system_fingerprint': None, 'id': 'chatcmpl-C9C0xg8hZG4hv919aVrPWtzKGtlsy', 'service_tier': 'default', 'finish_reason': 'stop', 'logprobs': None}, id='run--6b91dadb-ccd8-489d-b990-c00382fef5e6-0', usage_metadata={'input_tokens': 8, 'output_tokens': 9, 'total_tokens': 17, 'input_token_details': {'audio': 0, 'cache_read': 0}, 'output_token_details': {'audio': 0, 'reasoning': 0}})"
      ]
     },
     "execution_count": 7,
     "metadata": {},
     "output_type": "execute_result"
    }
   ],
   "source": [
    "llm.invoke(\"Hi\")"
   ]
  },
  {
   "cell_type": "code",
   "execution_count": null,
   "id": "aff3d837",
   "metadata": {},
   "outputs": [],
   "source": [
    "#Node Functionality \n",
    "def chatbot(state:State):\n",
    "    return {\"messages\":[llm.invoke(state[\"messages\"])]}"
   ]
  },
  {
   "cell_type": "code",
   "execution_count": 9,
   "id": "f1123a88",
   "metadata": {},
   "outputs": [],
   "source": [
    "graph_builder = StateGraph(State)\n",
    "\n",
    "#adding nodes \n",
    "graph_builder.add_node(\"llmchatbot\",chatbot)\n",
    "\n",
    "#adding edges \n",
    "graph_builder.add_edge(START,\"llmchatbot\")\n",
    "graph_builder.add_edge(\"llmchatbot\",END)\n",
    "\n",
    "#Compile graph\n",
    "graph = graph_builder.compile()"
   ]
  },
  {
   "cell_type": "code",
   "execution_count": 10,
   "id": "a359f031",
   "metadata": {},
   "outputs": [
    {
     "data": {
      "image/png": "[encoded data removed]",
      "text/plain": [
       "<IPython.core.display.Image object>"
      ]
     },
     "metadata": {},
     "output_type": "display_data"
    }
   ],
   "source": [
    "from IPython.display import Image, display\n",
    "\n",
    "try:\n",
    "    display(Image(graph.get_graph().draw_mermaid_png()))\n",
    "except Exception:\n",
    "    pass"
   ]
  },
  {
   "cell_type": "code",
   "execution_count": null,
   "id": "54b02fc5",
   "metadata": {},
   "outputs": [],
   "source": [
    "response = graph.invoke({\"messages\":\"Hi\"})"
   ]
  },
  {
   "cell_type": "code",
   "execution_count": 13,
   "id": "35e51bae",
   "metadata": {},
   "outputs": [
    {
     "data": {
      "text/plain": [
       "{'messeges': [HumanMessage(content='Hi', additional_kwargs={}, response_metadata={}, id='daf823e5-d1fc-4191-9d67-51e1a29bed74'),\n",
       "  AIMessage(content='Hello! How can I assist you today?', additional_kwargs={'refusal': None}, response_metadata={'token_usage': {'completion_tokens': 9, 'prompt_tokens': 8, 'total_tokens': 17, 'completion_tokens_details': {'accepted_prediction_tokens': 0, 'audio_tokens': 0, 'reasoning_tokens': 0, 'rejected_prediction_tokens': 0}, 'prompt_tokens_details': {'audio_tokens': 0, 'cached_tokens': 0}}, 'model_name': 'gpt-3.5-turbo-0125', 'system_fingerprint': None, 'id': 'chatcmpl-C9CKBRzwnbgxlmAlvy3IqjkCUmDJY', 'service_tier': 'default', 'finish_reason': 'stop', 'logprobs': None}, id='run--e1366d37-72a4-42d8-a9db-e4395b1c807f-0', usage_metadata={'input_tokens': 8, 'output_tokens': 9, 'total_tokens': 17, 'input_token_details': {'audio': 0, 'cache_read': 0}, 'output_token_details': {'audio': 0, 'reasoning': 0}})]}"
      ]
     },
     "execution_count": 13,
     "metadata": {},
     "output_type": "execute_result"
    }
   ],
   "source": [
    "response"
   ]
  },
  {
   "cell_type": "code",
   "execution_count": null,
   "id": "fdfe13c4",
   "metadata": {},
   "outputs": [
    {
     "data": {
      "text/plain": [
       "'Hello! How can I assist you today?'"
      ]
     },
     "execution_count": 18,
     "metadata": {},
     "output_type": "execute_result"
    }
   ],
   "source": [
    "response['messages'][-1].content"
   ]
  },
  {
   "cell_type": "code",
   "execution_count": null,
   "id": "78622eaa",
   "metadata": {},
   "outputs": [],
   "source": [
    "response = graph.invoke({\"messages\":\"what is apple\"})"
   ]
  },
  {
   "cell_type": "code",
   "execution_count": 20,
   "id": "b52a7c74",
   "metadata": {},
   "outputs": [
    {
     "data": {
      "text/plain": [
       "{'messeges': [HumanMessage(content='what is apple', additional_kwargs={}, response_metadata={}, id='adfe8e00-df6d-4239-a2b1-19258b9dbaf0'),\n",
       "  AIMessage(content='Apple is a multinational technology company that designs, develops, and sells consumer electronics, software, and online services. They are best known for their products such as the iPhone, iPad, Mac computers, and Apple Watch, as well as their software like iOS, macOS, and iCloud. Apple was founded in 1976 by Steve Jobs, Steve Wozniak, and Ronald Wayne and is headquartered in Cupertino, California.', additional_kwargs={'refusal': None}, response_metadata={'token_usage': {'completion_tokens': 84, 'prompt_tokens': 10, 'total_tokens': 94, 'completion_tokens_details': {'accepted_prediction_tokens': 0, 'audio_tokens': 0, 'reasoning_tokens': 0, 'rejected_prediction_tokens': 0}, 'prompt_tokens_details': {'audio_tokens': 0, 'cached_tokens': 0}}, 'model_name': 'gpt-3.5-turbo-0125', 'system_fingerprint': None, 'id': 'chatcmpl-C9CLCc97giNGPykcYWeH9FxK4naAB', 'service_tier': 'default', 'finish_reason': 'stop', 'logprobs': None}, id='run--eb24e650-050a-4601-a479-c77ba43f8ef8-0', usage_metadata={'input_tokens': 10, 'output_tokens': 84, 'total_tokens': 94, 'input_token_details': {'audio': 0, 'cache_read': 0}, 'output_token_details': {'audio': 0, 'reasoning': 0}})]}"
      ]
     },
     "execution_count": 20,
     "metadata": {},
     "output_type": "execute_result"
    }
   ],
   "source": [
    "response"
   ]
  },
  {
   "cell_type": "code",
   "execution_count": 5,
   "id": "ad964a31",
   "metadata": {},
   "outputs": [],
   "source": [
    "from langchain_tavily import TavilySearch\n",
    "\n",
    "tool = TavilySearch(max_results=2)"
   ]
  },
  {
   "cell_type": "code",
   "execution_count": 6,
   "id": "152a2960",
   "metadata": {},
   "outputs": [],
   "source": [
    "dic = tool.invoke(\"What is agentic ai?\")"
   ]
  },
  {
   "cell_type": "code",
   "execution_count": 7,
   "id": "f7575b0d",
   "metadata": {},
   "outputs": [
    {
     "data": {
      "text/plain": [
       "'Agentic AI is an AI system that acts autonomously, adapts in real time, and solves multi-step problems based on context and objectives.'"
      ]
     },
     "execution_count": 7,
     "metadata": {},
     "output_type": "execute_result"
    }
   ],
   "source": [
    "dic['results'][-1]['content']"
   ]
  },
  {
   "cell_type": "code",
   "execution_count": 6,
   "id": "d41ac79f",
   "metadata": {},
   "outputs": [],
   "source": [
    "## Custom function\n",
    "def multiply(a:int,b:int)->int:\n",
    "    \"\"\"Multiply a and b\n",
    "\n",
    "    Args:\n",
    "        a (int): first int\n",
    "        b (int): second int\n",
    "\n",
    "    Returns:\n",
    "        int: output int\n",
    "    \"\"\"\n",
    "    return a*b"
   ]
  },
  {
   "cell_type": "code",
   "execution_count": 7,
   "id": "b3b55828",
   "metadata": {},
   "outputs": [],
   "source": [
    "tools = [tool, multiply]"
   ]
  },
  {
   "cell_type": "code",
   "execution_count": 8,
   "id": "2be1d8f2",
   "metadata": {},
   "outputs": [],
   "source": [
    "llm_with_tool = llm.bind_tools(tools)"
   ]
  },
  {
   "cell_type": "code",
   "execution_count": 9,
   "id": "a2c7e475",
   "metadata": {},
   "outputs": [
    {
     "data": {
      "text/plain": [
       "RunnableBinding(bound=ChatOpenAI(client=<openai.resources.chat.completions.completions.Completions object at 0x0000029D92BE7050>, async_client=<openai.resources.chat.completions.completions.AsyncCompletions object at 0x0000029D93124490>, root_client=<openai.OpenAI object at 0x0000029D92BF8890>, root_async_client=<openai.AsyncOpenAI object at 0x0000029D9310BF50>, model_kwargs={}, openai_api_key=SecretStr('**********')), kwargs={'tools': [{'type': 'function', 'function': {'name': 'tavily_search', 'description': 'A search engine optimized for comprehensive, accurate, and trusted results. Useful for when you need to answer questions about current events. It not only retrieves URLs and snippets, but offers advanced search depths, domain management, time range filters, and image search, this tool delivers real-time, accurate, and citation-backed results.Input should be a search query.', 'parameters': {'properties': {'query': {'description': 'Search query to look up', 'type': 'string'}, 'include_domains': {'anyOf': [{'items': {'type': 'string'}, 'type': 'array'}, {'type': 'null'}], 'default': [], 'description': 'A list of domains to restrict search results to.\\n\\n        Use this parameter when:\\n        1. The user explicitly requests information from specific websites (e.g., \"Find climate data from nasa.gov\")\\n        2. The user mentions an organization or company without specifying the domain (e.g., \"Find information about iPhones from Apple\")\\n\\n        In both cases, you should determine the appropriate domains (e.g., [\"nasa.gov\"] or [\"apple.com\"]) and set this parameter.\\n\\n        Results will ONLY come from the specified domains - no other sources will be included.\\n        Default is None (no domain restriction).\\n        '}, 'exclude_domains': {'anyOf': [{'items': {'type': 'string'}, 'type': 'array'}, {'type': 'null'}], 'default': [], 'description': 'A list of domains to exclude from search results.\\n\\n        Use this parameter when:\\n        1. The user explicitly requests to avoid certain websites (e.g., \"Find information about climate change but not from twitter.com\")\\n        2. The user mentions not wanting results from specific organizations without naming the domain (e.g., \"Find phone reviews but nothing from Apple\")\\n\\n        In both cases, you should determine the appropriate domains to exclude (e.g., [\"twitter.com\"] or [\"apple.com\"]) and set this parameter.\\n\\n        Results will filter out all content from the specified domains.\\n        Default is None (no domain exclusion).\\n        '}, 'search_depth': {'anyOf': [{'enum': ['basic', 'advanced'], 'type': 'string'}, {'type': 'null'}], 'default': 'basic', 'description': 'Controls search thoroughness and result comprehensiveness.\\n    \\n        Use \"basic\" for simple queries requiring quick, straightforward answers.\\n        \\n        Use \"advanced\" (default) for complex queries, specialized topics, \\n        rare information, or when in-depth analysis is needed.\\n        '}, 'include_images': {'anyOf': [{'type': 'boolean'}, {'type': 'null'}], 'default': False, 'description': 'Determines if the search returns relevant images along with text results.\\n   \\n        Set to True when the user explicitly requests visuals or when images would \\n        significantly enhance understanding (e.g., \"Show me what black holes look like,\" \\n        \"Find pictures of Renaissance art\").\\n        \\n        Leave as False (default) for most informational queries where text is sufficient.\\n        '}, 'time_range': {'anyOf': [{'enum': ['day', 'week', 'month', 'year'], 'type': 'string'}, {'type': 'null'}], 'default': None, 'description': 'Limits results to content published within a specific timeframe.\\n        \\n        ONLY set this when the user explicitly mentions a time period \\n        (e.g., \"latest AI news,\" \"articles from last week\").\\n        \\n        For less popular or niche topics, use broader time ranges \\n        (\"month\" or \"year\") to ensure sufficient relevant results.\\n   \\n        Options: \"day\" (24h), \"week\" (7d), \"month\" (30d), \"year\" (365d).\\n        \\n        Default is None.\\n        '}, 'topic': {'anyOf': [{'enum': ['general', 'news', 'finance'], 'type': 'string'}, {'type': 'null'}], 'default': 'general', 'description': 'Specifies search category for optimized results.\\n   \\n        Use \"general\" (default) for most queries, INCLUDING those with terms like \\n        \"latest,\" \"newest,\" or \"recent\" when referring to general information.\\n\\n        Use \"finance\" for markets, investments, economic data, or financial news.\\n\\n        Use \"news\" ONLY for politics, sports, or major current events covered by \\n        mainstream media - NOT simply because a query asks for \"new\" information.\\n        '}, 'include_favicon': {'anyOf': [{'type': 'boolean'}, {'type': 'null'}], 'default': False, 'description': \"Determines whether to include favicon URLs for each search result.\\n        \\n        When enabled, each search result will include the website's favicon URL,\\n        which can be useful for:\\n        - Building rich UI interfaces with visual website indicators\\n        - Providing visual cues about the source's credibility or brand\\n        - Creating bookmark-like displays with recognizable site icons\\n        \\n        Set to True when creating user interfaces that benefit from visual branding\\n        or when favicon information enhances the user experience.\\n        \\n        Default is False to minimize response size and API usage.\\n        \"}, 'start_date': {'anyOf': [{'type': 'string'}, {'type': 'null'}], 'default': None, 'description': 'Filters search results to include only content published on or after this date.\\n        \\n        Use this parameter when you need to:\\n        - Find recent developments or updates on a topic\\n        - Exclude outdated information from search results\\n        - Focus on content within a specific timeframe\\n        - Combine with end_date to create a custom date range\\n        \\n        Format must be YYYY-MM-DD (e.g., \"2024-01-15\" for January 15, 2024).\\n        \\n        Examples:\\n        - \"2024-01-01\" - Results from January 1, 2024 onwards\\n        - \"2023-12-25\" - Results from December 25, 2023 onwards\\n        \\n        When combined with end_date, creates a precise date range filter.\\n        \\n        Default is None (no start date restriction).\\n        '}, 'end_date': {'anyOf': [{'type': 'string'}, {'type': 'null'}], 'default': None, 'description': 'Filters search results to include only content published on or before this date.\\n        \\n        Use this parameter when you need to:\\n        - Exclude content published after a certain date\\n        - Study historical information or past events\\n        - Research how topics were covered during specific time periods\\n        - Combine with start_date to create a custom date range\\n        \\n        Format must be YYYY-MM-DD (e.g., \"2024-03-31\" for March 31, 2024).\\n        \\n        Examples:\\n        - \"2024-03-31\" - Results up to and including March 31, 2024\\n        - \"2023-12-31\" - Results up to and including December 31, 2023\\n        \\n        When combined with start_date, creates a precise date range filter.\\n        For example: start_date=\"2024-01-01\", end_date=\"2024-03-31\" \\n        returns results from Q1 2024 only.\\n        \\n        Default is None (no end date restriction).\\n        '}}, 'required': ['query'], 'type': 'object'}}}, {'type': 'function', 'function': {'name': 'multiply', 'description': 'Multiply a and b', 'parameters': {'properties': {'a': {'description': 'first int', 'type': 'integer'}, 'b': {'description': 'second int', 'type': 'integer'}}, 'required': ['a', 'b'], 'type': 'object'}}}]}, config={}, config_factories=[])"
      ]
     },
     "execution_count": 9,
     "metadata": {},
     "output_type": "execute_result"
    }
   ],
   "source": [
    "llm_with_tool"
   ]
  },
  {
   "cell_type": "code",
   "execution_count": 10,
   "id": "1e785949",
   "metadata": {},
   "outputs": [],
   "source": [
    "from langgraph.graph import StateGraph,START,END\n",
    "from langgraph.prebuilt import ToolNode\n",
    "from langgraph.prebuilt import tools_condition"
   ]
  },
  {
   "cell_type": "code",
   "execution_count": 11,
   "id": "e0b795ab",
   "metadata": {},
   "outputs": [],
   "source": [
    "## Node definition\n",
    "def tool_calling_llm(state:State):\n",
    "    return {\"messages\":[llm_with_tool.invoke(state[\"messages\"])]}"
   ]
  },
  {
   "cell_type": "code",
   "execution_count": 12,
   "id": "95fb6650",
   "metadata": {},
   "outputs": [
    {
     "data": {
      "text/plain": [
       "<langgraph.graph.state.StateGraph at 0x29d934984d0>"
      ]
     },
     "execution_count": 12,
     "metadata": {},
     "output_type": "execute_result"
    }
   ],
   "source": [
    "## Grpah\n",
    "builder=StateGraph(State)\n",
    "builder.add_node(\"tool_calling_llm\",tool_calling_llm)\n",
    "builder.add_node(\"tools\",ToolNode(tools))\n",
    "\n",
    "\n",
    "## Add Edges\n",
    "builder.add_edge(START, \"tool_calling_llm\")\n",
    "builder.add_conditional_edges(\n",
    "    \"tool_calling_llm\",\n",
    "    # If the latest message (result) from assistant is a tool call -> tools_condition routes to tools\n",
    "    # If the latest message (result) from assistant is a not a tool call -> tools_condition routes to END\n",
    "    tools_condition\n",
    ")\n",
    "builder.add_edge(\"tools\",END)"
   ]
  },
  {
   "cell_type": "code",
   "execution_count": 13,
   "id": "8984452a",
   "metadata": {},
   "outputs": [],
   "source": [
    "graph = builder.compile()"
   ]
  },
  {
   "cell_type": "code",
   "execution_count": 14,
   "id": "96935ad7",
   "metadata": {},
   "outputs": [
    {
     "data": {
      "image/png": "[encoded data removed]",
      "text/plain": [
       "<IPython.core.display.Image object>"
      ]
     },
     "metadata": {},
     "output_type": "display_data"
    }
   ],
   "source": [
    "from IPython.display import Image\n",
    "display(Image(graph.get_graph().draw_mermaid_png()))"
   ]
  },
  {
   "cell_type": "code",
   "execution_count": 15,
   "id": "01daf0ea",
   "metadata": {},
   "outputs": [],
   "source": [
    "response=graph.invoke({\"messages\":\"What is the recent ai news\"})"
   ]
  },
  {
   "cell_type": "code",
   "execution_count": 16,
   "id": "081b7b92",
   "metadata": {},
   "outputs": [
    {
     "data": {
      "text/plain": [
       "{'messages': [HumanMessage(content='What is the recent ai news', additional_kwargs={}, response_metadata={}, id='35872087-a2af-4366-bfc7-d2022dd968f6'),\n",
       "  AIMessage(content='', additional_kwargs={'tool_calls': [{'id': 'call_6ctKB5WxRdETYMf4uApQwmgz', 'function': {'arguments': '{\"query\":\"latest AI news\",\"search_depth\":\"advanced\",\"topic\":\"news\"}', 'name': 'tavily_search'}, 'type': 'function'}], 'refusal': None}, response_metadata={'token_usage': {'completion_tokens': 27, 'prompt_tokens': 1372, 'total_tokens': 1399, 'completion_tokens_details': {'accepted_prediction_tokens': 0, 'audio_tokens': 0, 'reasoning_tokens': 0, 'rejected_prediction_tokens': 0}, 'prompt_tokens_details': {'audio_tokens': 0, 'cached_tokens': 0}}, 'model_name': 'gpt-3.5-turbo-0125', 'system_fingerprint': None, 'id': 'chatcmpl-C9rXBCmSt873rDxEMioqtP05p8Q2M', 'service_tier': 'default', 'finish_reason': 'tool_calls', 'logprobs': None}, id='run--5664e7ae-f0a7-4990-834d-8c9c951ad40c-0', tool_calls=[{'name': 'tavily_search', 'args': {'query': 'latest AI news', 'search_depth': 'advanced', 'topic': 'news'}, 'id': 'call_6ctKB5WxRdETYMf4uApQwmgz', 'type': 'tool_call'}], usage_metadata={'input_tokens': 1372, 'output_tokens': 27, 'total_tokens': 1399, 'input_token_details': {'audio': 0, 'cache_read': 0}, 'output_token_details': {'audio': 0, 'reasoning': 0}}),\n",
       "  ToolMessage(content='{\"query\": \"latest AI news\", \"follow_up_questions\": null, \"answer\": null, \"images\": [], \"results\": [{\"url\": \"https://www.rcrwireless.com/20250827/analyst-angle/ai-growth-bubble-analyst\", \"title\": \"Kagan: Some say we’re in AI growth bubble (Analyst Angle) - RCR Wireless\", \"score\": 0.6894943, \"published_date\": \"Wed, 27 Aug 2025 15:57:13 GMT\", \"content\": \"We can see the current Artificial Intelligence growth cycle is rapid and healthy. This latest growth jump began a couple years ago with the introduction of ChatGPT from OpenAI.\\\\n\\\\nSince that time, billions of dollars have been invested by companies and industries. The AI industry is rapidly expanding into different sectors like GenAI. Each sector does something different.\\\\n\\\\nJust consider how AI companies like Nvidia are rapidly growing, worldwide, in all these different sectors.\", \"raw_content\": null}, {\"url\": \"https://www.consultancy.eu/news/12083/europe-behind-us-in-ai-arms-race-accenture-report\", \"title\": \"Europe behind US in AI arms race: Accenture report - Consultancy.eu\", \"score\": 0.6793707, \"published_date\": \"Mon, 25 Aug 2025 14:05:56 GMT\", \"content\": \"As artificial intelligence radically reshapes business, around 90% of organisations do not believe they are adequately prepared to secure their organisations against AI-centred cyber-attacks.\\\\n\\\\n11 August 2025\\\\n\\\\nAccenture moves in to new Birmingham office\\\\n\\\\nAccenture has become the latest consulting firm to announce a growing presence in Birmingham.\\\\n\\\\n01 August 2025\\\\n\\\\nEurope missing opportunity to plug productivity gap with AI [...] Organisations underprepared for cyber-threats from AI adoption\\\\n\\\\nAs artificial intelligence radically reshapes business, around 90% of organisations do not believe they are adequately prepared to secure their organisations against AI-centred cyber-attacks.\\\\n\\\\n11 August 2025\\\\n\\\\nAccenture moves in to new Birmingham office\\\\n\\\\nAccenture has become the latest consulting firm to announce a growing presence in Birmingham.\\\\n\\\\n01 August 2025\\\\n\\\\nEurope missing opportunity to plug productivity gap with AI [...] Organisations underprepared for cyber-threats from AI adoption\\\\n\\\\nAs artificial intelligence radically reshapes business, around 90% of organisations do not believe they are adequately prepared to secure their organisations against AI-centred cyber-attacks.\\\\n\\\\n11 August 2025\\\\n\\\\nAccenture moves in to new Birmingham office\\\\n\\\\nAccenture has become the latest consulting firm to announce a growing presence in Birmingham.\\\\n\\\\n01 August 2025\\\\n\\\\nEurope missing opportunity to plug productivity gap with AI\", \"raw_content\": null}], \"response_time\": 1.95, \"request_id\": \"0fb56d2a-34eb-4518-a769-31ef9a89e699\"}', name='tavily_search', id='364bdab3-0632-40ea-9c51-4fd0a31a3522', tool_call_id='call_6ctKB5WxRdETYMf4uApQwmgz')]}"
      ]
     },
     "execution_count": 16,
     "metadata": {},
     "output_type": "execute_result"
    }
   ],
   "source": [
    "response"
   ]
  },
  {
   "cell_type": "code",
   "execution_count": 17,
   "id": "6bc1b3d8",
   "metadata": {},
   "outputs": [
    {
     "data": {
      "text/plain": [
       "'{\"query\": \"latest AI news\", \"follow_up_questions\": null, \"answer\": null, \"images\": [], \"results\": [{\"url\": \"https://www.rcrwireless.com/20250827/analyst-angle/ai-growth-bubble-analyst\", \"title\": \"Kagan: Some say we’re in AI growth bubble (Analyst Angle) - RCR Wireless\", \"score\": 0.6894943, \"published_date\": \"Wed, 27 Aug 2025 15:57:13 GMT\", \"content\": \"We can see the current Artificial Intelligence growth cycle is rapid and healthy. This latest growth jump began a couple years ago with the introduction of ChatGPT from OpenAI.\\\\n\\\\nSince that time, billions of dollars have been invested by companies and industries. The AI industry is rapidly expanding into different sectors like GenAI. Each sector does something different.\\\\n\\\\nJust consider how AI companies like Nvidia are rapidly growing, worldwide, in all these different sectors.\", \"raw_content\": null}, {\"url\": \"https://www.consultancy.eu/news/12083/europe-behind-us-in-ai-arms-race-accenture-report\", \"title\": \"Europe behind US in AI arms race: Accenture report - Consultancy.eu\", \"score\": 0.6793707, \"published_date\": \"Mon, 25 Aug 2025 14:05:56 GMT\", \"content\": \"As artificial intelligence radically reshapes business, around 90% of organisations do not believe they are adequately prepared to secure their organisations against AI-centred cyber-attacks.\\\\n\\\\n11 August 2025\\\\n\\\\nAccenture moves in to new Birmingham office\\\\n\\\\nAccenture has become the latest consulting firm to announce a growing presence in Birmingham.\\\\n\\\\n01 August 2025\\\\n\\\\nEurope missing opportunity to plug productivity gap with AI [...] Organisations underprepared for cyber-threats from AI adoption\\\\n\\\\nAs artificial intelligence radically reshapes business, around 90% of organisations do not believe they are adequately prepared to secure their organisations against AI-centred cyber-attacks.\\\\n\\\\n11 August 2025\\\\n\\\\nAccenture moves in to new Birmingham office\\\\n\\\\nAccenture has become the latest consulting firm to announce a growing presence in Birmingham.\\\\n\\\\n01 August 2025\\\\n\\\\nEurope missing opportunity to plug productivity gap with AI [...] Organisations underprepared for cyber-threats from AI adoption\\\\n\\\\nAs artificial intelligence radically reshapes business, around 90% of organisations do not believe they are adequately prepared to secure their organisations against AI-centred cyber-attacks.\\\\n\\\\n11 August 2025\\\\n\\\\nAccenture moves in to new Birmingham office\\\\n\\\\nAccenture has become the latest consulting firm to announce a growing presence in Birmingham.\\\\n\\\\n01 August 2025\\\\n\\\\nEurope missing opportunity to plug productivity gap with AI\", \"raw_content\": null}], \"response_time\": 1.95, \"request_id\": \"0fb56d2a-34eb-4518-a769-31ef9a89e699\"}'"
      ]
     },
     "execution_count": 17,
     "metadata": {},
     "output_type": "execute_result"
    }
   ],
   "source": [
    "response['messages'][-1].content"
   ]
  },
  {
   "cell_type": "code",
   "execution_count": 18,
   "id": "92277305",
   "metadata": {},
   "outputs": [
    {
     "name": "stdout",
     "output_type": "stream",
     "text": [
      "================================\u001b[1m Human Message \u001b[0m=================================\n",
      "\n",
      "What is the recent ai news\n",
      "==================================\u001b[1m Ai Message \u001b[0m==================================\n",
      "Tool Calls:\n",
      "  tavily_search (call_6ctKB5WxRdETYMf4uApQwmgz)\n",
      " Call ID: call_6ctKB5WxRdETYMf4uApQwmgz\n",
      "  Args:\n",
      "    query: latest AI news\n",
      "    search_depth: advanced\n",
      "    topic: news\n",
      "=================================\u001b[1m Tool Message \u001b[0m=================================\n",
      "Name: tavily_search\n",
      "\n",
      "{\"query\": \"latest AI news\", \"follow_up_questions\": null, \"answer\": null, \"images\": [], \"results\": [{\"url\": \"https://www.rcrwireless.com/20250827/analyst-angle/ai-growth-bubble-analyst\", \"title\": \"Kagan: Some say we’re in AI growth bubble (Analyst Angle) - RCR Wireless\", \"score\": 0.6894943, \"published_date\": \"Wed, 27 Aug 2025 15:57:13 GMT\", \"content\": \"We can see the current Artificial Intelligence growth cycle is rapid and healthy. This latest growth jump began a couple years ago with the introduction of ChatGPT from OpenAI.\\n\\nSince that time, billions of dollars have been invested by companies and industries. The AI industry is rapidly expanding into different sectors like GenAI. Each sector does something different.\\n\\nJust consider how AI companies like Nvidia are rapidly growing, worldwide, in all these different sectors.\", \"raw_content\": null}, {\"url\": \"https://www.consultancy.eu/news/12083/europe-behind-us-in-ai-arms-race-accenture-report\", \"title\": \"Europe behind US in AI arms race: Accenture report - Consultancy.eu\", \"score\": 0.6793707, \"published_date\": \"Mon, 25 Aug 2025 14:05:56 GMT\", \"content\": \"As artificial intelligence radically reshapes business, around 90% of organisations do not believe they are adequately prepared to secure their organisations against AI-centred cyber-attacks.\\n\\n11 August 2025\\n\\nAccenture moves in to new Birmingham office\\n\\nAccenture has become the latest consulting firm to announce a growing presence in Birmingham.\\n\\n01 August 2025\\n\\nEurope missing opportunity to plug productivity gap with AI [...] Organisations underprepared for cyber-threats from AI adoption\\n\\nAs artificial intelligence radically reshapes business, around 90% of organisations do not believe they are adequately prepared to secure their organisations against AI-centred cyber-attacks.\\n\\n11 August 2025\\n\\nAccenture moves in to new Birmingham office\\n\\nAccenture has become the latest consulting firm to announce a growing presence in Birmingham.\\n\\n01 August 2025\\n\\nEurope missing opportunity to plug productivity gap with AI [...] Organisations underprepared for cyber-threats from AI adoption\\n\\nAs artificial intelligence radically reshapes business, around 90% of organisations do not believe they are adequately prepared to secure their organisations against AI-centred cyber-attacks.\\n\\n11 August 2025\\n\\nAccenture moves in to new Birmingham office\\n\\nAccenture has become the latest consulting firm to announce a growing presence in Birmingham.\\n\\n01 August 2025\\n\\nEurope missing opportunity to plug productivity gap with AI\", \"raw_content\": null}], \"response_time\": 1.95, \"request_id\": \"0fb56d2a-34eb-4518-a769-31ef9a89e699\"}\n"
     ]
    }
   ],
   "source": [
    "for m in response['messages']:\n",
    "    m.pretty_print()"
   ]
  },
  {
   "cell_type": "code",
   "execution_count": 19,
   "id": "3e41a3a2",
   "metadata": {},
   "outputs": [
    {
     "name": "stdout",
     "output_type": "stream",
     "text": [
      "================================\u001b[1m Human Message \u001b[0m=================================\n",
      "\n",
      "What is 5 multiplied by 2\n",
      "==================================\u001b[1m Ai Message \u001b[0m==================================\n",
      "Tool Calls:\n",
      "  multiply (call_PdIh1XlBgveo9E2zL7Yyo8Qo)\n",
      " Call ID: call_PdIh1XlBgveo9E2zL7Yyo8Qo\n",
      "  Args:\n",
      "    a: 5\n",
      "    b: 2\n",
      "=================================\u001b[1m Tool Message \u001b[0m=================================\n",
      "Name: multiply\n",
      "\n",
      "10\n"
     ]
    }
   ],
   "source": [
    "response=graph.invoke({\"messages\":\"What is 5 multiplied by 2\"})\n",
    "for m in response['messages']:\n",
    "    m.pretty_print()"
   ]
  },
  {
   "cell_type": "code",
   "execution_count": 21,
   "id": "b3a69c0b",
   "metadata": {},
   "outputs": [
    {
     "name": "stdout",
     "output_type": "stream",
     "text": [
      "================================\u001b[1m Human Message \u001b[0m=================================\n",
      "\n",
      "What is 5 multiply 3 and then multiply by 2\n",
      "==================================\u001b[1m Ai Message \u001b[0m==================================\n",
      "Tool Calls:\n",
      "  multiply (call_YDDcWs8JT69V5YmhBRbQvScJ)\n",
      " Call ID: call_YDDcWs8JT69V5YmhBRbQvScJ\n",
      "  Args:\n",
      "    a: 5\n",
      "    b: 3\n",
      "  multiply (call_t7Qnjz0ITy4Fsoa0q3unc2rC)\n",
      " Call ID: call_t7Qnjz0ITy4Fsoa0q3unc2rC\n",
      "  Args:\n",
      "    a: 15\n",
      "    b: 2\n",
      "=================================\u001b[1m Tool Message \u001b[0m=================================\n",
      "Name: multiply\n",
      "\n",
      "15\n",
      "=================================\u001b[1m Tool Message \u001b[0m=================================\n",
      "Name: multiply\n",
      "\n",
      "30\n"
     ]
    }
   ],
   "source": [
    "response = graph.invoke({\"messages\":\"What is 5 multiply 3 and then multiply by 2\"})\n",
    "for m in response['messages']:\n",
    "    m.pretty_print()"
   ]
  },
  {
   "cell_type": "code",
   "execution_count": 20,
   "id": "dd3b9f0b",
   "metadata": {},
   "outputs": [
    {
     "name": "stdout",
     "output_type": "stream",
     "text": [
      "================================\u001b[1m Human Message \u001b[0m=================================\n",
      "\n",
      "Give me the recent ai news and then multiply 5 by 10\n",
      "==================================\u001b[1m Ai Message \u001b[0m==================================\n",
      "Tool Calls:\n",
      "  tavily_search (call_nZ4Bm4I6xJWzeqVJ6Bwii1bL)\n",
      " Call ID: call_nZ4Bm4I6xJWzeqVJ6Bwii1bL\n",
      "  Args:\n",
      "    query: recent AI news\n",
      "    search_depth: advanced\n",
      "    include_images: False\n",
      "  multiply (call_Y2KPlcyeqPHt6GeDVUImz42D)\n",
      " Call ID: call_Y2KPlcyeqPHt6GeDVUImz42D\n",
      "  Args:\n",
      "    a: 5\n",
      "    b: 10\n",
      "=================================\u001b[1m Tool Message \u001b[0m=================================\n",
      "Name: tavily_search\n",
      "\n",
      "{\"query\": \"recent AI news\", \"follow_up_questions\": null, \"answer\": null, \"images\": [], \"results\": [{\"url\": \"https://techcrunch.com/category/artificial-intelligence/\", \"title\": \"AI News & Artificial Intelligence | TechCrunch\", \"content\": \"### From streaming to healthcare to AI, Mark Cuban reveals his ‘disruption formula’\\n\\nAI Chip technology concept. 3D render Etched, Artificial Intelligence Diffusion Rule\\n\\n### Malaysia’s SkyeChip unveils the country’s first edge AI processor\\n\\nPlaud AI Pro\\n\\n### Plaud launches a new AI hardware notetaker, the $179 Note Pro\\n\\nHealthcare and innovative technology: apps for medical exams and online consultation concept\\n\\n### Assort Health nabs $50M to automate patient phone calls, sources say [...] Contact Us\\n\\n# AI\\n\\nNews coverage on artificial intelligence and machine learning tech, the companies building them, and the ethical issues AI raises today. This encompasses generative AI, including large language models, text-to-image and text-to-video models; speech recognition and generation; and predictive analytics.\\n\\n### \\n\\nVocal Image CEO Nick Lakhoikaat AI Startup Program launch event\\n\\n### Vocal Image is using AI to help people communicate better [...] ### 911 centers are so understaffed, they’re turning to AI to answer calls\\n\\n### Google and Grok are catching up to ChatGPT, says a16z’s latest AI report\\n\\nOpenAI ChatGPT website displayed on a laptop screen is seen in this illustration photo.\\n\\n### OpenAI co-founder calls for AI labs to safety-test rival models\\n\\nPalico, secondaries, LP-led secondaries\\n\\n### Here are the 33 US AI startups that have raised $100M or more in 2025\\n\\nMark Cuban\", \"score\": 0.70847535, \"raw_content\": null}, {\"url\": \"https://hai.stanford.edu/ai-index/2025-ai-index-report\", \"title\": \"The 2025 AI Index Report | Stanford HAI\", \"content\": \"In 2024, U.S. federal agencies introduced 59 AI-related regulations—more than double the number in 2023—and issued by twice as many agencies. Globally, legislative mentions of AI rose 21.3% across 75 countries since 2023, marking a ninefold increase since 2016. Alongside growing attention, governments are investing at scale: Canada pledged $2.4 billion, China launched a $47.5 billion semiconductor fund, France committed €109 billion, India pledged $1.25 billion, and Saudi Arabia’s Project [...] ### 2. AI is increasingly embedded in everyday life.\\n\\nFrom healthcare to transportation, AI is rapidly moving from the lab to daily life. In 2023, the FDA approved 223 AI-enabled medical devices, up from just six in 2015. On the roads, self-driving cars are no longer experimental: Waymo, one of the largest U.S. operators, provides over 150,000 autonomous rides each week, while Baidu’s affordable Apollo Go robotaxi fleet now serves numerous cities across China. [...] In 2024, U.S. private AI investment grew to $109.1 billion—nearly 12 times China’s $9.3 billion and 24 times the U.K.’s $4.5 billion. Generative AI saw particularly strong momentum, attracting $33.9 billion globally in private investment—an 18.7% increase from 2023. AI business usage is also accelerating: 78% of organizations reported using AI in 2024, up from 55% the year before. Meanwhile, a growing body of research confirms that AI boosts productivity and, in most cases, helps narrow skill\", \"score\": 0.68090034, \"raw_content\": null}], \"response_time\": 1.64, \"request_id\": \"e0afd706-3a5f-4403-9b14-f56182a3965d\"}\n",
      "=================================\u001b[1m Tool Message \u001b[0m=================================\n",
      "Name: multiply\n",
      "\n",
      "50\n"
     ]
    }
   ],
   "source": [
    "response=graph.invoke({\"messages\":\"Give me the recent ai news and then multiply 5 by 10\"})\n",
    "for m in response['messages']:\n",
    "    m.pretty_print()"
   ]
  },
  {
   "cell_type": "markdown",
   "id": "2ecc78b6",
   "metadata": {},
   "source": [
    "### ReAct Agent Architecture"
   ]
  },
  {
   "cell_type": "code",
   "execution_count": 22,
   "id": "9c2cb4af",
   "metadata": {},
   "outputs": [
    {
     "data": {
      "image/png": "[encoded data removed]",
      "text/plain": [
       "<IPython.core.display.Image object>"
      ]
     },
     "metadata": {},
     "output_type": "display_data"
    }
   ],
   "source": [
    "## Stategraph\n",
    "from langgraph.graph import StateGraph,START,END\n",
    "from langgraph.prebuilt import ToolNode\n",
    "from langgraph.prebuilt import tools_condition\n",
    "\n",
    "## Node definition\n",
    "def tool_calling_llm(state:State):\n",
    "    return {\"messages\":[llm_with_tool.invoke(state[\"messages\"])]}\n",
    "\n",
    "## Grpah\n",
    "builder=StateGraph(State)\n",
    "builder.add_node(\"tool_calling_llm\",tool_calling_llm)\n",
    "builder.add_node(\"tools\",ToolNode(tools))\n",
    "\n",
    "## Add Edges\n",
    "builder.add_edge(START, \"tool_calling_llm\")\n",
    "builder.add_conditional_edges(\n",
    "    \"tool_calling_llm\",\n",
    "    # If the latest message (result) from assistant is a tool call -> tools_condition routes to tools\n",
    "    # If the latest message (result) from assistant is a not a tool call -> tools_condition routes to END\n",
    "    tools_condition\n",
    ")\n",
    "builder.add_edge(\"tools\",\"tool_calling_llm\")\n",
    "\n",
    "## compile the graph\n",
    "graph=builder.compile()\n",
    "\n",
    "from IPython.display import Image, display\n",
    "display(Image(graph.get_graph().draw_mermaid_png()))"
   ]
  },
  {
   "cell_type": "code",
   "execution_count": 23,
   "id": "6338bf7c",
   "metadata": {},
   "outputs": [
    {
     "name": "stdout",
     "output_type": "stream",
     "text": [
      "================================\u001b[1m Human Message \u001b[0m=================================\n",
      "\n",
      "Give me the recent ai news and then multiply 5 by 10\n",
      "==================================\u001b[1m Ai Message \u001b[0m==================================\n",
      "Tool Calls:\n",
      "  tavily_search (call_Hdlo2rDEWqzLJNW1jEXYsZgz)\n",
      " Call ID: call_Hdlo2rDEWqzLJNW1jEXYsZgz\n",
      "  Args:\n",
      "    query: recent AI news\n",
      "    search_depth: advanced\n",
      "    topic: news\n",
      "  multiply (call_o7T7w5hlBIUMXewpkCpDjYTE)\n",
      " Call ID: call_o7T7w5hlBIUMXewpkCpDjYTE\n",
      "  Args:\n",
      "    a: 5\n",
      "    b: 10\n",
      "=================================\u001b[1m Tool Message \u001b[0m=================================\n",
      "Name: tavily_search\n",
      "\n",
      "{\"query\": \"recent AI news\", \"follow_up_questions\": null, \"answer\": null, \"images\": [], \"results\": [{\"url\": \"https://www.forbes.com/sites/bernardmarr/2025/08/25/7-great-ai-hopes-that-could-change-the-world/\", \"title\": \"7 Great AI Hopes That Could Change The World - Forbes\", \"score\": 0.7522497, \"published_date\": \"Mon, 25 Aug 2025 06:27:17 GMT\", \"content\": \"This year, Google DeepMind’s Demis Hassabis was awarded the Nobel Prize in Chemistry for AlphaFold, an AI system that predicts protein structures with remarkable accuracy. He has said AI’s greatest contribution will be to accelerate scientific discovery, and recent breakthroughs support this view. Beyond AlphaFold, researchers at MIT used generative AI to design two entirely new antibiotic candidates capable of killing drug-resistant gonorrhoea and MRSA superbugs in lab and animal tests. At a\", \"raw_content\": null}, {\"url\": \"https://www.cnet.com/tech/services-and-software/nvidia-ceo-says-more-advanced-ai-models-will-keep-chip-data-center-growth-going/\", \"title\": \"Nvidia CEO Says More Advanced AI Models Will Keep Chip, Data Center Growth Going - CNET\", \"score\": 0.65146625, \"published_date\": \"Wed, 27 Aug 2025 23:13:00 GMT\", \"content\": \"\\\"I think the next several years, surely through the decade, we see really significant growth opportunities ahead,\\\" Huang said.\\n\\nCompare that with recent comments from OpenAI CEO Sam Altman, who said he believes investors right now are \\\"overexcited about AI.\\\" (Altman also acknowledged that he still believes AI is \\\"the most important thing to happen in a very long time.\\\") [...] That means a lot of data centers, which take up a lot of land and use a great deal of water and energy. These AI factories have gotten bigger and bigger in recent years, with significant impacts on the communities around them and a greater strain on the US electric grid. And the growth of different generative AI tools that require even more energy could make that demand even greater.\", \"raw_content\": null}], \"response_time\": 1.04, \"request_id\": \"10b0749e-fcc3-4140-b54b-1a0d32248210\"}\n",
      "=================================\u001b[1m Tool Message \u001b[0m=================================\n",
      "Name: multiply\n",
      "\n",
      "50\n",
      "==================================\u001b[1m Ai Message \u001b[0m==================================\n",
      "\n",
      "### Recent AI News:\n",
      "1. **[7 Great AI Hopes That Could Change The World - Forbes](https://www.forbes.com/sites/bernardmarr/2025/08/25/7-great-ai-hopes-that-could-change-the-world/)**  \n",
      "   Published Date: Mon, 25 Aug 2025  \n",
      "   This article discusses Google DeepMind's AlphaFold, an AI system that predicts protein structures with remarkable accuracy and its impact on scientific discovery. Researchers at MIT also used generative AI to design new antibiotic candidates.\n",
      "\n",
      "2. **[Nvidia CEO Says More Advanced AI Models Will Keep Chip, Data Center Growth Going - CNET](https://www.cnet.com/tech/services-and-software/nvidia-ceo-says-more-advanced-ai-models-will-keep-chip-data-center-growth-going/)**  \n",
      "   Published Date: Wed, 27 Aug 2025  \n",
      "   Nvidia's CEO discusses significant growth opportunities in AI models and data centers. OpenAI's CEO highlights concerns about the energy consumption and environmental impact of AI technologies.\n",
      "\n",
      "### Result of Multiplication:\n",
      "5 multiplied by 10 equals 50.\n"
     ]
    }
   ],
   "source": [
    "response=graph.invoke({\"messages\":\"Give me the recent ai news and then multiply 5 by 10\"})\n",
    "for m in response['messages']:\n",
    "    m.pretty_print()"
   ]
  },
  {
   "cell_type": "markdown",
   "id": "50a06fa3",
   "metadata": {},
   "source": [
    "### Adding Memory In Agentic Graph"
   ]
  },
  {
   "cell_type": "code",
   "execution_count": 33,
   "id": "7b9b12ae",
   "metadata": {},
   "outputs": [
    {
     "data": {
      "image/png": "[encoded data removed]",
      "text/plain": [
       "<IPython.core.display.Image object>"
      ]
     },
     "metadata": {},
     "output_type": "display_data"
    }
   ],
   "source": [
    "## Stategraph\n",
    "from langgraph.graph import StateGraph,START,END\n",
    "from langgraph.prebuilt import ToolNode\n",
    "from langgraph.prebuilt import tools_condition\n",
    "from langgraph.checkpoint.memory import MemorySaver\n",
    "\n",
    "memory = MemorySaver()\n",
    "\n",
    "## Node definition\n",
    "def tool_calling_llm(state:State):\n",
    "    return {\"messages\":[llm_with_tool.invoke(state[\"messages\"])]}\n",
    "\n",
    "## Grpah\n",
    "builder=StateGraph(State)\n",
    "builder.add_node(\"tool_calling_llm\",tool_calling_llm)\n",
    "builder.add_node(\"tools\",ToolNode(tools))\n",
    "\n",
    "## Add Edges\n",
    "builder.add_edge(START, \"tool_calling_llm\")\n",
    "builder.add_conditional_edges(\n",
    "    \"tool_calling_llm\",\n",
    "    # If the latest message (result) from assistant is a tool call -> tools_condition routes to tools\n",
    "    # If the latest message (result) from assistant is a not a tool call -> tools_condition routes to END\n",
    "    tools_condition\n",
    ")\n",
    "builder.add_edge(\"tools\",\"tool_calling_llm\")\n",
    "\n",
    "## compile the graph\n",
    "graph=builder.compile(checkpointer=memory)\n",
    "\n",
    "from IPython.display import Image, display\n",
    "display(Image(graph.get_graph().draw_mermaid_png()))"
   ]
  },
  {
   "cell_type": "code",
   "execution_count": 34,
   "id": "b17d67fc",
   "metadata": {},
   "outputs": [],
   "source": [
    "config = {\"configurable\":{\"thread_id\":\"1\"}}\n",
    "\n",
    "response = graph.invoke({\"messages\":\"Hi my name is pasindu\"}, config=config)"
   ]
  },
  {
   "cell_type": "code",
   "execution_count": 35,
   "id": "b7622e31",
   "metadata": {},
   "outputs": [
    {
     "data": {
      "text/plain": [
       "'Hello Pasindu! How can I assist you today?'"
      ]
     },
     "execution_count": 35,
     "metadata": {},
     "output_type": "execute_result"
    }
   ],
   "source": [
    "response['messages'][-1].content"
   ]
  },
  {
   "cell_type": "code",
   "execution_count": 36,
   "id": "94efa85a",
   "metadata": {},
   "outputs": [
    {
     "data": {
      "text/plain": [
       "'Your name is Pasindu. How can I assist you, Pasindu?'"
      ]
     },
     "execution_count": 36,
     "metadata": {},
     "output_type": "execute_result"
    }
   ],
   "source": [
    "response = graph.invoke({\"messages\":\"What is my name?\"}, config=config)\n",
    "response['messages'][-1].content"
   ]
  },
  {
   "cell_type": "code",
   "execution_count": null,
   "id": "e6d99bfd",
   "metadata": {},
   "outputs": [],
   "source": []
  }
 ],
 "metadata": {
  "kernelspec": {
   "display_name": "langgraph",
   "language": "python",
   "name": "python3"
  },
  "language_info": {
   "codemirror_mode": {
    "name": "ipython",
    "version": 3
   },
   "file_extension": ".py",
   "mimetype": "text/x-python",
   "name": "python",
   "nbconvert_exporter": "python",
   "pygments_lexer": "ipython3",
   "version": "3.11.0"
  }
 },
 "nbformat": 4,
 "nbformat_minor": 5
}
